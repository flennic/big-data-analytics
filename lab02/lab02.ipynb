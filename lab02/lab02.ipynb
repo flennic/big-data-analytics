{
 "cells": [
  {
   "cell_type": "markdown",
   "metadata": {},
   "source": [
    "# BDA1 - Spark"
   ]
  },
  {
   "cell_type": "markdown",
   "metadata": {},
   "source": [
    "In this set of exercises you will work exclusively with Spark. This means that in your programs, you only need to create the `SparkContext`.\n",
    "In a number of exercises you will be asked to calculated temperature averages (daily and monthly). These are not always computed according to the standard definition of ‘average’. In this domain the daily average temperature is calculated by averaging the daily measured maximum and the daily measured minimum temperatures. The monthly average is calculated by averaging the daily maximums and minimums for that month. For example, to get the monthly average for October, take maximums and minimums for each day, sum them up and divide by 62 (which is the same as taking the daily averages, summing them up and divide by the number of days).\n",
    "\n",
    "Note: In many countries in the world, the averages are calculated as discussed. However, in Sweden, daily and monthly averages are calculated using Ekholm-Modéns formula which in addition to minimum and maximum daily temperature also takes into account readings at specific timepoints, the month as well as the longitude of the station. For more information check (in Swedish): http://www.smhi.se/kunskapsbanken/meteorologi/hur-beraknas-medeltemperatur-1.3923"
   ]
  },
  {
   "cell_type": "markdown",
   "metadata": {},
   "source": [
    "## Setup"
   ]
  },
  {
   "cell_type": "markdown",
   "metadata": {},
   "source": [
    "The following code is used to prepare the data files, execute only once and **be careful!**"
   ]
  },
  {
   "cell_type": "code",
   "execution_count": null,
   "metadata": {},
   "outputs": [],
   "source": [
    "# Remove UTF-8 BOM\n",
    "#!vim -c ':set nobomb' -c ':set fileencoding=utf-8' -c ':wq' ../data/temperature-readings.csv\n",
    "#!vim -c ':set nobomb' -c ':set fileencoding=utf-8' -c ':wq' ../data/precipitation-readings.csv\n",
    "#!vim -c ':set nobomb' -c ':set fileencoding=utf-8' -c ':wq' ../data/stations-Ostergotland.csv\n",
    "#!vim -c ':set nobomb' -c ':set fileencoding=utf-8' -c ':wq' ../data/stations.csv\n",
    "\n",
    "# Create big 16GiB file\n",
    "#for i in range(8):\n",
    "#    !cat ../data/temperature-readings.csv >> ../data/temperature-readings-big.csv"
   ]
  },
  {
   "cell_type": "code",
   "execution_count": 1,
   "metadata": {},
   "outputs": [],
   "source": [
    "import pyspark\n",
    "import csv\n",
    "import math\n",
    "import sys\n",
    "import pandas as pd\n",
    "\n",
    "tr_path = \"../data/temperature-readings.csv\"\n",
    "tr_big_path = \"../data/temperature-readings-big.csv\"\n",
    "pr_path = \"../data/precipitation-readings.csv\"\n",
    "sro_path = \"../data/stations-Ostergotland.csv\"\n",
    "sr_path = \"../data/stations.csv\""
   ]
  },
  {
   "cell_type": "code",
   "execution_count": 2,
   "metadata": {},
   "outputs": [],
   "source": [
    "sc = pyspark.SparkContext(appName = \"Temperature\")\n",
    "temperature_readings = sc.textFile(tr_path)\n",
    "temperature_readings_big = sc.textFile(tr_big_path)\n",
    "precipitation_readings = sc.textFile(pr_path)\n",
    "station_oster_readings = sc.textFile(sro_path)\n",
    "station_readings = sc.textFile(sr_path)"
   ]
  },
  {
   "cell_type": "markdown",
   "metadata": {},
   "source": [
    "## Assignment 1"
   ]
  },
  {
   "cell_type": "markdown",
   "metadata": {},
   "source": [
    "What are the lowest and highest temperatures measured each year for the period 1950- 2014. Provide the lists sorted in the descending order with respect to the maximum temperature. In this exercise you will use the `temperature-readings.csv` file."
   ]
  },
  {
   "cell_type": "markdown",
   "metadata": {},
   "source": [
    "**Comment:** We use a custom reduce for min and max as we can do both at the same time so we save computational ressources."
   ]
  },
  {
   "cell_type": "code",
   "execution_count": 3,
   "metadata": {},
   "outputs": [
    {
     "name": "stdout",
     "output_type": "stream",
     "text": [
      "CPU times: user 67.7 ms, sys: 19.6 ms, total: 87.3 ms\n",
      "Wall time: 1min 23s\n"
     ]
    }
   ],
   "source": [
    "%%time\n",
    "\n",
    "res = temperature_readings.map(lambda l: l.split(\";\"))\n",
    "res = res.map(lambda l: (int(l[1][0:4]), (float(l[3]), float(l[3]))))\n",
    "# (year, (temperature, temperature))\n",
    "res = res.filter(lambda m: m[0] >= 1950 and m[0] <= 2014)\n",
    "res = res.reduceByKey(lambda x, y: (x[0] if x[0] > y[0] else y[0],\n",
    "                                    y[1] if x[1] > y[1] else x[1]))\n",
    "res = res.map(lambda m: (m[0], m[1][0], m[1][1]))\n",
    "#(year, temp_max, temp_min)\n",
    "res = res.sortBy(lambda m: m[0], ascending=False)\n",
    "\n",
    "global df\n",
    "df = pd.DataFrame(res.collect(), columns = ['year', 'temp_max', 'temp_min'])"
   ]
  },
  {
   "cell_type": "code",
   "execution_count": 4,
   "metadata": {},
   "outputs": [
    {
     "data": {
      "text/html": [
       "<div>\n",
       "<style scoped>\n",
       "    .dataframe tbody tr th:only-of-type {\n",
       "        vertical-align: middle;\n",
       "    }\n",
       "\n",
       "    .dataframe tbody tr th {\n",
       "        vertical-align: top;\n",
       "    }\n",
       "\n",
       "    .dataframe thead th {\n",
       "        text-align: right;\n",
       "    }\n",
       "</style>\n",
       "<table border=\"1\" class=\"dataframe\">\n",
       "  <thead>\n",
       "    <tr style=\"text-align: right;\">\n",
       "      <th></th>\n",
       "      <th>year</th>\n",
       "      <th>temp_max</th>\n",
       "      <th>temp_min</th>\n",
       "    </tr>\n",
       "  </thead>\n",
       "  <tbody>\n",
       "    <tr>\n",
       "      <th>0</th>\n",
       "      <td>2014</td>\n",
       "      <td>34.4</td>\n",
       "      <td>-42.5</td>\n",
       "    </tr>\n",
       "    <tr>\n",
       "      <th>1</th>\n",
       "      <td>2013</td>\n",
       "      <td>31.6</td>\n",
       "      <td>-40.7</td>\n",
       "    </tr>\n",
       "    <tr>\n",
       "      <th>2</th>\n",
       "      <td>2012</td>\n",
       "      <td>31.3</td>\n",
       "      <td>-42.7</td>\n",
       "    </tr>\n",
       "    <tr>\n",
       "      <th>3</th>\n",
       "      <td>2011</td>\n",
       "      <td>32.5</td>\n",
       "      <td>-42.0</td>\n",
       "    </tr>\n",
       "    <tr>\n",
       "      <th>4</th>\n",
       "      <td>2010</td>\n",
       "      <td>34.4</td>\n",
       "      <td>-41.7</td>\n",
       "    </tr>\n",
       "    <tr>\n",
       "      <th>5</th>\n",
       "      <td>2009</td>\n",
       "      <td>31.5</td>\n",
       "      <td>-38.5</td>\n",
       "    </tr>\n",
       "    <tr>\n",
       "      <th>6</th>\n",
       "      <td>2008</td>\n",
       "      <td>32.2</td>\n",
       "      <td>-39.3</td>\n",
       "    </tr>\n",
       "    <tr>\n",
       "      <th>7</th>\n",
       "      <td>2007</td>\n",
       "      <td>32.2</td>\n",
       "      <td>-40.7</td>\n",
       "    </tr>\n",
       "    <tr>\n",
       "      <th>8</th>\n",
       "      <td>2006</td>\n",
       "      <td>32.7</td>\n",
       "      <td>-40.6</td>\n",
       "    </tr>\n",
       "    <tr>\n",
       "      <th>9</th>\n",
       "      <td>2005</td>\n",
       "      <td>32.1</td>\n",
       "      <td>-39.4</td>\n",
       "    </tr>\n",
       "  </tbody>\n",
       "</table>\n",
       "</div>"
      ],
      "text/plain": [
       "   year  temp_max  temp_min\n",
       "0  2014      34.4     -42.5\n",
       "1  2013      31.6     -40.7\n",
       "2  2012      31.3     -42.7\n",
       "3  2011      32.5     -42.0\n",
       "4  2010      34.4     -41.7\n",
       "5  2009      31.5     -38.5\n",
       "6  2008      32.2     -39.3\n",
       "7  2007      32.2     -40.7\n",
       "8  2006      32.7     -40.6\n",
       "9  2005      32.1     -39.4"
      ]
     },
     "execution_count": 4,
     "metadata": {},
     "output_type": "execute_result"
    }
   ],
   "source": [
    "df.head(10)"
   ]
  },
  {
   "cell_type": "markdown",
   "metadata": {},
   "source": [
    "**Task 1a:** What are the lowest and highest temperature measured each year for the period 1950 to 2014? Provide the list sorted in the descending order with respect to the maximum temperature. Extend the program to include the station number (not the station name) where the maximum/minimum temperature was measured."
   ]
  },
  {
   "cell_type": "code",
   "execution_count": 5,
   "metadata": {},
   "outputs": [
    {
     "name": "stdout",
     "output_type": "stream",
     "text": [
      "CPU times: user 50 ms, sys: 30.8 ms, total: 80.8 ms\n",
      "Wall time: 1min 34s\n"
     ]
    }
   ],
   "source": [
    "%%time\n",
    "\n",
    "res = temperature_readings.map(lambda l: l.split(\";\"))\n",
    "res = res.map(lambda l: (int(l[1][0:4]), ((int(l[0]), float(l[3])), (int(l[0]), float(l[3])))))\n",
    "# (year, (station, temperature), (station, temperature))\n",
    "res = res.filter(lambda m: m[0] >= 1950 and m[0] <= 2014)\n",
    "res = res.reduceByKey(lambda x, y: ((x[0][0], x[0][1]) if x[0][1] > y[0][1] else (y[0][0], y[0][1]),\n",
    "                                    (y[1][0], y[1][1]) if x[1][1] > y[1][1] else (x[1][0], x[1][1])))\n",
    "res = res.map(lambda m: (m[0], m[1][0][1], m[1][0][0], m[1][1][1], m[1][1][0]))\n",
    "#(year, temp_max, station_max, temp_min, station_min)\n",
    "res = res.sortBy(lambda m: m[0], ascending = False)\n",
    "\n",
    "global df\n",
    "df = pd.DataFrame(res.collect(), columns = ['year', 'temp_max', 'station_max', 'temp_min', 'station_min'])"
   ]
  },
  {
   "cell_type": "code",
   "execution_count": 6,
   "metadata": {},
   "outputs": [
    {
     "data": {
      "text/html": [
       "<div>\n",
       "<style scoped>\n",
       "    .dataframe tbody tr th:only-of-type {\n",
       "        vertical-align: middle;\n",
       "    }\n",
       "\n",
       "    .dataframe tbody tr th {\n",
       "        vertical-align: top;\n",
       "    }\n",
       "\n",
       "    .dataframe thead th {\n",
       "        text-align: right;\n",
       "    }\n",
       "</style>\n",
       "<table border=\"1\" class=\"dataframe\">\n",
       "  <thead>\n",
       "    <tr style=\"text-align: right;\">\n",
       "      <th></th>\n",
       "      <th>year</th>\n",
       "      <th>temp_max</th>\n",
       "      <th>station_max</th>\n",
       "      <th>temp_min</th>\n",
       "      <th>station_min</th>\n",
       "    </tr>\n",
       "  </thead>\n",
       "  <tbody>\n",
       "    <tr>\n",
       "      <th>0</th>\n",
       "      <td>2014</td>\n",
       "      <td>34.4</td>\n",
       "      <td>96560</td>\n",
       "      <td>-42.5</td>\n",
       "      <td>192840</td>\n",
       "    </tr>\n",
       "    <tr>\n",
       "      <th>1</th>\n",
       "      <td>2013</td>\n",
       "      <td>31.6</td>\n",
       "      <td>98210</td>\n",
       "      <td>-40.7</td>\n",
       "      <td>179960</td>\n",
       "    </tr>\n",
       "    <tr>\n",
       "      <th>2</th>\n",
       "      <td>2012</td>\n",
       "      <td>31.3</td>\n",
       "      <td>54990</td>\n",
       "      <td>-42.7</td>\n",
       "      <td>191910</td>\n",
       "    </tr>\n",
       "    <tr>\n",
       "      <th>3</th>\n",
       "      <td>2011</td>\n",
       "      <td>32.5</td>\n",
       "      <td>172770</td>\n",
       "      <td>-42.0</td>\n",
       "      <td>179960</td>\n",
       "    </tr>\n",
       "    <tr>\n",
       "      <th>4</th>\n",
       "      <td>2010</td>\n",
       "      <td>34.4</td>\n",
       "      <td>75250</td>\n",
       "      <td>-41.7</td>\n",
       "      <td>191910</td>\n",
       "    </tr>\n",
       "    <tr>\n",
       "      <th>5</th>\n",
       "      <td>2009</td>\n",
       "      <td>31.5</td>\n",
       "      <td>81370</td>\n",
       "      <td>-38.5</td>\n",
       "      <td>179960</td>\n",
       "    </tr>\n",
       "    <tr>\n",
       "      <th>6</th>\n",
       "      <td>2008</td>\n",
       "      <td>32.2</td>\n",
       "      <td>95130</td>\n",
       "      <td>-39.3</td>\n",
       "      <td>179960</td>\n",
       "    </tr>\n",
       "    <tr>\n",
       "      <th>7</th>\n",
       "      <td>2007</td>\n",
       "      <td>32.2</td>\n",
       "      <td>86420</td>\n",
       "      <td>-40.7</td>\n",
       "      <td>169860</td>\n",
       "    </tr>\n",
       "    <tr>\n",
       "      <th>8</th>\n",
       "      <td>2006</td>\n",
       "      <td>32.7</td>\n",
       "      <td>75240</td>\n",
       "      <td>-40.6</td>\n",
       "      <td>169860</td>\n",
       "    </tr>\n",
       "    <tr>\n",
       "      <th>9</th>\n",
       "      <td>2005</td>\n",
       "      <td>32.1</td>\n",
       "      <td>107140</td>\n",
       "      <td>-39.4</td>\n",
       "      <td>155790</td>\n",
       "    </tr>\n",
       "  </tbody>\n",
       "</table>\n",
       "</div>"
      ],
      "text/plain": [
       "   year  temp_max  station_max  temp_min  station_min\n",
       "0  2014      34.4        96560     -42.5       192840\n",
       "1  2013      31.6        98210     -40.7       179960\n",
       "2  2012      31.3        54990     -42.7       191910\n",
       "3  2011      32.5       172770     -42.0       179960\n",
       "4  2010      34.4        75250     -41.7       191910\n",
       "5  2009      31.5        81370     -38.5       179960\n",
       "6  2008      32.2        95130     -39.3       179960\n",
       "7  2007      32.2        86420     -40.7       169860\n",
       "8  2006      32.7        75240     -40.6       169860\n",
       "9  2005      32.1       107140     -39.4       155790"
      ]
     },
     "execution_count": 6,
     "metadata": {},
     "output_type": "execute_result"
    }
   ],
   "source": [
    "df.head(10)"
   ]
  },
  {
   "cell_type": "markdown",
   "metadata": {},
   "source": [
    "**Task 1b**: Write the non-parallelized program in Python to find the maximum temperatures for each year without using Spark."
   ]
  },
  {
   "cell_type": "code",
   "execution_count": 7,
   "metadata": {},
   "outputs": [],
   "source": [
    "def csv_read_lazy(csvfile, delimiter = \",\", encoding = \"utf-8\"):\n",
    "    with open(csvfile, encoding = encoding) as f:\n",
    "        r = csv.reader(f, delimiter = delimiter)\n",
    "        for row in r:\n",
    "            yield row"
   ]
  },
  {
   "cell_type": "code",
   "execution_count": 8,
   "metadata": {},
   "outputs": [
    {
     "name": "stdout",
     "output_type": "stream",
     "text": [
      "CPU times: user 1min 36s, sys: 608 ms, total: 1min 37s\n",
      "Wall time: 1min 36s\n"
     ]
    }
   ],
   "source": [
    "%%time\n",
    "\n",
    "def get_temperature_information(min_year = 1950, max_year = 2014):\n",
    "    \n",
    "    temp_info = {}\n",
    "    temp_info[\"max\"] = {}\n",
    "    temp_info[\"min\"] = {}\n",
    "    \n",
    "    for year in range(min_year, max_year + 1):\n",
    "        temp_info[\"max\"][year] = {\"temp\": float(\"-Inf\"), \"station\": None}\n",
    "        temp_info[\"min\"][year] = {\"temp\": float(\"Inf\"), \"station\": None}\n",
    "\n",
    "    for row in csv_read_lazy(tr_path, delimiter = \";\"):\n",
    "        year = int(row[1][0:4])\n",
    "        station = int(row[0])\n",
    "        temp = float(row[3])\n",
    "    \n",
    "        if year >= min_year and year <= max_year:\n",
    "            # Max\n",
    "            if temp > temp_info[\"max\"][year][\"temp\"]:\n",
    "                temp_info[\"max\"][year][\"temp\"] = temp\n",
    "                temp_info[\"max\"][year][\"station\"] = station\n",
    "            \n",
    "            # Min\n",
    "            if temp < temp_info[\"min\"][year][\"temp\"]:\n",
    "                temp_info[\"min\"][year][\"temp\"] = temp\n",
    "                temp_info[\"min\"][year][\"station\"] = station\n",
    "                \n",
    "    df = pd.DataFrame(columns=['year', 'temp_max', 'station_max', 'temp_min', 'station_min'])\n",
    "        \n",
    "    for year, v in temp_info[\"max\"].items():\n",
    "        if v[\"temp\"] != float(\"-Inf\"):\n",
    "            df.loc[len(df)] = [year, v[\"temp\"], v[\"station\"], temp_info[\"min\"][year][\"temp\"], temp_info[\"min\"][year][\"station\"]]\n",
    "    \n",
    "    df[\"year\"] = df[\"year\"].astype(int)\n",
    "    df[\"station_max\"] = df[\"station_max\"].astype(int)\n",
    "    df[\"station_min\"] = df[\"station_min\"].astype(int)\n",
    "    \n",
    "    return df.sort_values(by = ['year'], ascending = False)\n",
    "\n",
    "global df\n",
    "df = get_temperature_information()"
   ]
  },
  {
   "cell_type": "code",
   "execution_count": 9,
   "metadata": {},
   "outputs": [
    {
     "data": {
      "text/html": [
       "<div>\n",
       "<style scoped>\n",
       "    .dataframe tbody tr th:only-of-type {\n",
       "        vertical-align: middle;\n",
       "    }\n",
       "\n",
       "    .dataframe tbody tr th {\n",
       "        vertical-align: top;\n",
       "    }\n",
       "\n",
       "    .dataframe thead th {\n",
       "        text-align: right;\n",
       "    }\n",
       "</style>\n",
       "<table border=\"1\" class=\"dataframe\">\n",
       "  <thead>\n",
       "    <tr style=\"text-align: right;\">\n",
       "      <th></th>\n",
       "      <th>year</th>\n",
       "      <th>temp_max</th>\n",
       "      <th>station_max</th>\n",
       "      <th>temp_min</th>\n",
       "      <th>station_min</th>\n",
       "    </tr>\n",
       "  </thead>\n",
       "  <tbody>\n",
       "    <tr>\n",
       "      <th>64</th>\n",
       "      <td>2014</td>\n",
       "      <td>34.4</td>\n",
       "      <td>96560</td>\n",
       "      <td>-42.5</td>\n",
       "      <td>192840</td>\n",
       "    </tr>\n",
       "    <tr>\n",
       "      <th>63</th>\n",
       "      <td>2013</td>\n",
       "      <td>31.6</td>\n",
       "      <td>98210</td>\n",
       "      <td>-40.7</td>\n",
       "      <td>179960</td>\n",
       "    </tr>\n",
       "    <tr>\n",
       "      <th>62</th>\n",
       "      <td>2012</td>\n",
       "      <td>31.3</td>\n",
       "      <td>54990</td>\n",
       "      <td>-42.7</td>\n",
       "      <td>191910</td>\n",
       "    </tr>\n",
       "    <tr>\n",
       "      <th>61</th>\n",
       "      <td>2011</td>\n",
       "      <td>32.5</td>\n",
       "      <td>172770</td>\n",
       "      <td>-42.0</td>\n",
       "      <td>179960</td>\n",
       "    </tr>\n",
       "    <tr>\n",
       "      <th>60</th>\n",
       "      <td>2010</td>\n",
       "      <td>34.4</td>\n",
       "      <td>75250</td>\n",
       "      <td>-41.7</td>\n",
       "      <td>191910</td>\n",
       "    </tr>\n",
       "    <tr>\n",
       "      <th>59</th>\n",
       "      <td>2009</td>\n",
       "      <td>31.5</td>\n",
       "      <td>81370</td>\n",
       "      <td>-38.5</td>\n",
       "      <td>179960</td>\n",
       "    </tr>\n",
       "    <tr>\n",
       "      <th>58</th>\n",
       "      <td>2008</td>\n",
       "      <td>32.2</td>\n",
       "      <td>102390</td>\n",
       "      <td>-39.3</td>\n",
       "      <td>179960</td>\n",
       "    </tr>\n",
       "    <tr>\n",
       "      <th>57</th>\n",
       "      <td>2007</td>\n",
       "      <td>32.2</td>\n",
       "      <td>86420</td>\n",
       "      <td>-40.7</td>\n",
       "      <td>169860</td>\n",
       "    </tr>\n",
       "    <tr>\n",
       "      <th>56</th>\n",
       "      <td>2006</td>\n",
       "      <td>32.7</td>\n",
       "      <td>75240</td>\n",
       "      <td>-40.6</td>\n",
       "      <td>169860</td>\n",
       "    </tr>\n",
       "    <tr>\n",
       "      <th>55</th>\n",
       "      <td>2005</td>\n",
       "      <td>32.1</td>\n",
       "      <td>107140</td>\n",
       "      <td>-39.4</td>\n",
       "      <td>155790</td>\n",
       "    </tr>\n",
       "  </tbody>\n",
       "</table>\n",
       "</div>"
      ],
      "text/plain": [
       "    year  temp_max  station_max  temp_min  station_min\n",
       "64  2014      34.4        96560     -42.5       192840\n",
       "63  2013      31.6        98210     -40.7       179960\n",
       "62  2012      31.3        54990     -42.7       191910\n",
       "61  2011      32.5       172770     -42.0       179960\n",
       "60  2010      34.4        75250     -41.7       191910\n",
       "59  2009      31.5        81370     -38.5       179960\n",
       "58  2008      32.2       102390     -39.3       179960\n",
       "57  2007      32.2        86420     -40.7       169860\n",
       "56  2006      32.7        75240     -40.6       169860\n",
       "55  2005      32.1       107140     -39.4       155790"
      ]
     },
     "execution_count": 9,
     "metadata": {},
     "output_type": "execute_result"
    }
   ],
   "source": [
    "df.head(10)"
   ]
  },
  {
   "cell_type": "markdown",
   "metadata": {},
   "source": [
    "**Comment:** TBA."
   ]
  },
  {
   "cell_type": "markdown",
   "metadata": {},
   "source": [
    "## Assignment 2"
   ]
  },
  {
   "cell_type": "markdown",
   "metadata": {},
   "source": [
    "Count the number of readings for each month in the period of 1950-2014 which are higher than 10 degrees. Repeat the exercise, this time taking only distinct readings from each station. That is, if a station reported a reading above 10 degrees in some month, then it appears only once in the count for that month. In this exercise you will use the `temperature-readings.csv` file.\n",
    "\n",
    "The output should contain the following information:\n",
    "\n",
    "Year, month, count"
   ]
  },
  {
   "cell_type": "code",
   "execution_count": null,
   "metadata": {},
   "outputs": [],
   "source": [
    "%%time\n",
    "res = temperature_readings.map(lambda l: l.split(\";\"))\n",
    "\n",
    "res = res.map(lambda l: (int(l[1][0:4]), int(l[1][5:7]), float(l[3])))\n",
    "res = res.filter(lambda m: int(m[0]) >= 1950 and int(m[0]) <= 2014 and m[2] > 10.0)\n",
    "res = res.map(lambda m: (str(m[0]) + \"-\" + str(m[1]).zfill(2), 1))\n",
    "res = res.reduceByKey(lambda x, y: x + y)\n",
    "res = res.map(lambda m: (m[0][0:4], m[0][5:7], m[1]))\n",
    "res = res.sortBy(lambda m: (m[0], m[1]), ascending = False)\n",
    "\n",
    "global df\n",
    "df = pd.DataFrame(res.collect(), columns = ['year', 'month', 'count'])"
   ]
  },
  {
   "cell_type": "code",
   "execution_count": null,
   "metadata": {},
   "outputs": [],
   "source": [
    "df.head(10)"
   ]
  },
  {
   "cell_type": "markdown",
   "metadata": {},
   "source": [
    "Now we repeat the exercise where we take only distinct readings from each station."
   ]
  },
  {
   "cell_type": "code",
   "execution_count": null,
   "metadata": {},
   "outputs": [],
   "source": [
    "%%time\n",
    "\n",
    "res = temperature_readings.map(lambda l: l.split(\";\"))\n",
    "res = res.map(lambda l: (int(l[0]), int(l[1][0:4]), int(l[1][5:7]), float(l[3])))\n",
    "res = res.filter(lambda m: int(m[1]) >= 1950 and int(m[1]) <= 2014 and m[3] > 10.0)\n",
    "res = res.map(lambda m: (str(m[0]) + \"-\" + str(m[1]) + \"-\" + str(m[2]).zfill(2), 1))\n",
    "res = res.reduceByKey(lambda x, y: x + y)\n",
    "res = res.map(lambda m: (m[0][-7:], 1))\n",
    "res = res.reduceByKey(lambda x, y: x + y)\n",
    "res = res.sortBy(lambda m: m[0], ascending=False)\n",
    "res = res.map(lambda m: (m[0][0:4], m[0][5:7], m[1]))\n",
    "\n",
    "global df\n",
    "df = pd.DataFrame(res.collect(), columns = ['year', 'month', 'count'])"
   ]
  },
  {
   "cell_type": "code",
   "execution_count": null,
   "metadata": {},
   "outputs": [],
   "source": [
    "df.head(10)"
   ]
  },
  {
   "cell_type": "markdown",
   "metadata": {},
   "source": [
    "## Assignment 3"
   ]
  },
  {
   "cell_type": "markdown",
   "metadata": {},
   "source": [
    "Find the average monthly temperature for each available station in Sweden. Your result should include average temperature for each station for each month in the period of 1960-2014. Bear in mind that not every station has the readings for each month in this timeframe. In this exercise you will use the `temperature-readings.csvfile`.\n",
    "\n",
    "The output should contain the following information:\n",
    "\n",
    "Year, month, station number, average monthly temperature"
   ]
  },
  {
   "cell_type": "code",
   "execution_count": null,
   "metadata": {},
   "outputs": [],
   "source": [
    "%%time\n",
    "\n",
    "res = temperature_readings.map(lambda l: l.split(\";\"))\n",
    "res = res.map(lambda m: (m[0] + \"-\" + m[1][0:7], int(m[1][0:4]), float(m[3])))\n",
    "res = res.filter(lambda m: m[1] >= 1960 and m[1] <= 2014)\n",
    "res = res.map(lambda m: (m[0], (m[2], 1)))\n",
    "res = res.reduceByKey(lambda x, y: (x[0] + y[0], x[1] + y[1]))\n",
    "res = res.map(lambda m: (int(m[0][:-8]), int(m[0][-7:-3]), str(m[0][-2:]).zfill(2), round(m[1][0]/m[1][1], 2)))\n",
    "res = res.sortBy(lambda m: (m[1], m[2], m[0]), ascending=False)\n",
    "\n",
    "global df\n",
    "df = pd.DataFrame(res.collect(), columns=['station', 'year', 'month', 'average-temperature'])"
   ]
  },
  {
   "cell_type": "code",
   "execution_count": null,
   "metadata": {},
   "outputs": [],
   "source": [
    "df.head(10)"
   ]
  },
  {
   "cell_type": "markdown",
   "metadata": {},
   "source": [
    "## Assignment 4"
   ]
  },
  {
   "cell_type": "markdown",
   "metadata": {},
   "source": [
    "Provide  a  list  of  stations  with  their  associated  maximum  measured  temperatures  and maximum  measured  daily  precipitation.  Show  only  those  stations  where  the  maximum temperature is between 25 and 30 degrees and maximum daily precipitation is between 100 mm and 200mm. In this exercise you will use the `temperature-readings.csv` and `precipitation-readings.csv` files. \n",
    "\n",
    "The output should contain the following information:\n",
    "\n",
    "Station number, maximum measured temperature, maximum daily precipitation"
   ]
  },
  {
   "cell_type": "code",
   "execution_count": null,
   "metadata": {},
   "outputs": [],
   "source": [
    "%%time\n",
    "\n",
    "res_p = precipitation_readings.map(lambda l: l.split(\";\"))\n",
    "res_t = temperature_readings.map(lambda l: l.split(\";\"))\n",
    "\n",
    "res_p = res_p.map(lambda m: (int(m[0]), float(m[3])))\n",
    "res_p = res_p.filter(lambda m: m[1] > 100 and m[1] < 200)\n",
    "res_p = res_p.reduceByKey(lambda x, y: max(x, y))\n",
    "\n",
    "res_t = res_t.map(lambda m: (int(m[0]), float(m[3])))\n",
    "res_t = res_t.filter(lambda m: m[1] > 20 and m[1] < 30)\n",
    "res_t = res_t.reduceByKey(lambda x, y: max(x, y))\n",
    "\n",
    "res = res_t.join(res_p)\n",
    "res = res.map(lambda m: (m[0], m[1][0], m[1][1]))\n",
    "\n",
    "global df\n",
    "df = pd.DataFrame(res.collect(), columns=['station', 'max_temperature', 'max_precipitation'])"
   ]
  },
  {
   "cell_type": "code",
   "execution_count": null,
   "metadata": {},
   "outputs": [],
   "source": [
    "df.head()"
   ]
  },
  {
   "cell_type": "markdown",
   "metadata": {},
   "source": [
    "## Assignment 5"
   ]
  },
  {
   "cell_type": "markdown",
   "metadata": {},
   "source": [
    "Calculate the average monthly precipitation for the Östergotland region (list of stations is provided in the separate file) for the period 1993-2016. In order to do this, you will first need to calculate  the  total  monthly  precipitation  for  each  station  before calculating the monthly average (by averaging over stations). In this exercise you will use the `precipitation-readings.csv` and `stations-Ostergotland.csv` files.\n",
    "\n",
    "HINT (not for the SparkSQL lab): Avoid using joins here! `stations-Ostergotland.csv` is small  and if distributed will cause a number of unnecessary shuffles when joined with precipitation RDD. If you distribute `precipitation-readings.csv` then either repartition your stations RDD to 1 partition or make use of the collect to acquire a python list and broadcast function to broadcast the list to all nodes.\n",
    "\n",
    "The output should contain the following information:\n",
    "\n",
    "Year, month, average monthly precipitation"
   ]
  },
  {
   "cell_type": "code",
   "execution_count": null,
   "metadata": {},
   "outputs": [],
   "source": [
    "%%time\n",
    "\n",
    "# Don't remove those, it will break as we're using %%time\n",
    "global res_p\n",
    "global res_s\n",
    "\n",
    "res_p = precipitation_readings.map(lambda l: l.split(\";\"))\n",
    "res_s = station_oster_readings.map(lambda l: l.split(\";\"))\n",
    "\n",
    "res_s = res_s.map(lambda m: int(m[0])).collect()\n",
    "res_s = sc.broadcast(value=res_s)\n",
    "\n",
    "res_p = res_p.map(lambda m: (int(m[0]), m[1], float(m[3])))\n",
    "res_p = res_p.filter(lambda m: int(m[1][0:4]) >= 1993 and int(m[1][0:4]) <= 2016)\n",
    "\n",
    "res = res_p.filter(lambda m: m[0] in res_s.value)\n",
    "# This changes the amount of entries as it only takes year-month, not year-month-date, thus the resulting number of measurementes will me lower. Which one is correct?\n",
    "#res = res.map(lambda m: (str(m[0]) + \"-\" + m[1][0:7], m[2]))\n",
    "res = res.map(lambda m: (str(m[0]) + \"-\" + m[1][0:10], m[2]))\n",
    "res = res.reduceByKey(lambda x, y: x + y)\n",
    "\n",
    "res = res.map(lambda m: (m[0][6:10] + \"-\" + m[0][11:13], (m[1], 1)))\n",
    "res = res.reduceByKey(lambda x, y: (x[0] + y[0], x[1] + y[1]))\n",
    "res = res.map(lambda m: (int(m[0][0:4]), m[0][5:8], m[1][0]/m[1][1]))\n",
    "res = res.sortBy(lambda m: (m[0], m[1]), ascending=False)\n",
    "\n",
    "global df\n",
    "df = pd.DataFrame(res.collect(), columns=['year', 'month', 'average_precipitation'])"
   ]
  },
  {
   "cell_type": "code",
   "execution_count": null,
   "metadata": {},
   "outputs": [],
   "source": [
    "df.head(10)"
   ]
  },
  {
   "cell_type": "markdown",
   "metadata": {},
   "source": [
    "## Assignment 6"
   ]
  },
  {
   "cell_type": "markdown",
   "metadata": {},
   "source": [
    "Compare the average monthly temperature (find the difference) in the period 1950-2014 for all stations in Östergotland with long-term monthly averages in the period of 1950-1980. Make a plot of your results. \n",
    "\n",
    "HINT: The first step is to find the monthly averages for each station. Then, you can average over all stations to acquire the average temperature for a specific year and month. This RDD/DataFrame can beu sed to compute the long-term average by averaging over all the years in the interval.\n",
    "\n",
    "The out put should contain the following information:\n",
    "\n",
    "Year, month, difference"
   ]
  },
  {
   "cell_type": "markdown",
   "metadata": {},
   "source": [
    "**Answer:** Is wrong, maybe the average has to be calculated differently. Also plot has to be created."
   ]
  },
  {
   "cell_type": "code",
   "execution_count": null,
   "metadata": {},
   "outputs": [],
   "source": [
    "%%time\n",
    "\n",
    "res_t = temperature_readings.map(lambda l: l.split(\";\"))\n",
    "res_s = station_oster_readings.map(lambda l: l.split(\";\"))\n",
    "\n",
    "res_s = res_s.map(lambda m: int(m[0])).collect()\n",
    "res_s = sc.broadcast(value=res_s)\n",
    "\n",
    "res_t = res_t.map(lambda m: (int(m[0]), m[1], float(m[3])))\n",
    "\n",
    "res_oster = res_t.filter(lambda m: int(m[1][0:4]) >= 1950 and int(m[1][0:4]) <= 2014)\n",
    "res_oster = res_oster.filter(lambda m: m[0] in res_s.value)\n",
    "res_oster = res_oster.map(lambda m: (str(m[0]) + \"-\" + m[1].split(\"-\")[0] + \"-\" + m[1].split(\"-\")[1], (m[2], 1)))\n",
    "res_oster = res_oster.reduceByKey(lambda x, y: (x[0] + y[0], x[1] + y[1]))\n",
    "res_oster = res_oster.map(lambda m: (m[0].split(\"-\")[1] + \"-\" + m[0].split(\"-\")[2], (m[1][0]/m[1][1],1)))\n",
    "res_oster = res_oster.reduceByKey(lambda x, y: (x[0] + y[0], x[1] + y[1]))\n",
    "res_oster = res_oster.map(lambda m: (int(m[0].split(\"-\")[1]), (int(m[0].split(\"-\")[0]), m[1][0]/m[1][1])))\n",
    "#(month, (year, avg))\n",
    "\n",
    "res_general = res_t.filter(lambda m: int(m[1][0:4]) >= 1950 and int(m[1][0:4]) <= 1980)\n",
    "res_general = res_general.map(lambda m: (str(m[0]) + \"-\" + m[1].split(\"-\")[0] + \"-\" + m[1].split(\"-\")[1], (m[2], 1)))\n",
    "res_general = res_general.reduceByKey(lambda x, y: (x[0] + y[0], x[1] + y[1]))\n",
    "res_general = res_general.map(lambda m: (m[0].split(\"-\")[2], (m[1][0]/m[1][1], 1)))\n",
    "res_general = res_general.reduceByKey(lambda x, y: (x[0] + y[0], x[1] + y[1]))\n",
    "res_general = res_general.map(lambda m: (int(m[0]), m[1][0]/m[1][1]))\n",
    "#(month, avg)\n",
    "\n",
    "res = res_general.join(res_oster)\n",
    "#(1, (-5.896814611496512, (2012, -1.5940352235658504)))\n",
    "res = res.map(lambda m: (m[1][1][0], m[0], m[1][1][1] - m[1][0]))\n",
    "res = res.sortBy(lambda m: (m[0], m[1]), ascending=True)\n",
    "\n",
    "global df\n",
    "df = pd.DataFrame(res.collect(), columns=['year', 'month', 'temperature-difference'])"
   ]
  },
  {
   "cell_type": "code",
   "execution_count": null,
   "metadata": {},
   "outputs": [],
   "source": [
    "df.head(10)"
   ]
  },
  {
   "cell_type": "code",
   "execution_count": null,
   "metadata": {},
   "outputs": [],
   "source": [
    "df.tail(10)"
   ]
  },
  {
   "cell_type": "code",
   "execution_count": null,
   "metadata": {},
   "outputs": [],
   "source": [
    "sc.stop()"
   ]
  }
 ],
 "metadata": {
  "kernelspec": {
   "display_name": "Python 3",
   "language": "python",
   "name": "python3"
  },
  "language_info": {
   "codemirror_mode": {
    "name": "ipython",
    "version": 3
   },
   "file_extension": ".py",
   "mimetype": "text/x-python",
   "name": "python",
   "nbconvert_exporter": "python",
   "pygments_lexer": "ipython3",
   "version": "3.7.3"
  }
 },
 "nbformat": 4,
 "nbformat_minor": 2
}
