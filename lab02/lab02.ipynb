{
 "cells": [
  {
   "cell_type": "markdown",
   "metadata": {},
   "source": [
    "# BDA1 - Spark"
   ]
  },
  {
   "cell_type": "markdown",
   "metadata": {},
   "source": [
    "In this set of exercises you will work exclusively with Spark. This means that in your programs, you only need to create the `SparkContext`.\n",
    "In a number of exercises you will be asked to calculated temperature averages (daily and monthly). These are not always computed according to the standard definition of ‘average’. In this domain the daily average temperature is calculated by averaging the daily measured maximum and the daily measured minimum temperatures. The monthly average is calculated by averaging the daily maximums and minimums for that month. For example, to get the monthly average for October, take maximums and minimums for each day, sum them up and divide by 62 (which is the same as taking the daily averages, summing them up and divide by the number of days).\n",
    "\n",
    "Note: In many countries in the world, the averages are calculated as discussed. However, in Sweden, daily and monthly averages are calculated using Ekholm-Modéns formula which in addition to minimum and maximum daily temperature also takes into account readings at specific timepoints, the month as well as the longitude of the station. For more information check (in Swedish): http://www.smhi.se/kunskapsbanken/meteorologi/hur-beraknas-medeltemperatur-1.3923"
   ]
  },
  {
   "cell_type": "markdown",
   "metadata": {},
   "source": [
    "## Setup"
   ]
  },
  {
   "cell_type": "markdown",
   "metadata": {},
   "source": [
    "The following code is used to prepare the data files, execute only once and **be careful!**"
   ]
  },
  {
   "cell_type": "code",
   "execution_count": null,
   "metadata": {},
   "outputs": [],
   "source": [
    "# Remove UTF-8 BOM\n",
    "!vim -c ':set nobomb' -c ':set fileencoding=utf-8' -c ':wq' ../data/temperature-readings.csv\n",
    "!vim -c ':set nobomb' -c ':set fileencoding=utf-8' -c ':wq' ../data/precipitation-readings.csv\n",
    "!vim -c ':set nobomb' -c ':set fileencoding=utf-8' -c ':wq' ../data/stations-Ostergotland.csv\n",
    "!vim -c ':set nobomb' -c ':set fileencoding=utf-8' -c ':wq' ../data/stations.csv\n",
    "\n",
    "# Create big 16GiB file\n",
    "for i in range(8):\n",
    "    !cat ../data/temperature-readings.csv >> ../data/temperature-readings-big.csv"
   ]
  },
  {
   "cell_type": "code",
   "execution_count": 1,
   "metadata": {},
   "outputs": [],
   "source": [
    "import pyspark\n",
    "import csv\n",
    "import math\n",
    "import sys\n",
    "import pandas as pd\n",
    "\n",
    "tr_path = \"../data/temperature-readings.csv\"\n",
    "tr_big_path = \"../data/temperature-readings.csv\"\n",
    "pr_path = \"../data/precipitation-readings.csv\"\n",
    "sro_path = \"../data/stations-Ostergotland.csv\"\n",
    "sr_path = \"../data/stations.csv\""
   ]
  },
  {
   "cell_type": "code",
   "execution_count": 2,
   "metadata": {},
   "outputs": [],
   "source": [
    "sc = pyspark.SparkContext(appName = \"Temperature\")\n",
    "temperature_readings = sc.textFile(tr_path)\n",
    "temperature_readings_big = sc.textFile(tr_big_path)\n",
    "precipitation_readings = sc.textFile(pr_path)\n",
    "station_oster_readings = sc.textFile(sro_path)\n",
    "station_readings = sc.textFile(sr_path)"
   ]
  },
  {
   "cell_type": "markdown",
   "metadata": {},
   "source": [
    "## Assignment 1"
   ]
  },
  {
   "cell_type": "markdown",
   "metadata": {},
   "source": [
    "What are the lowest and highest temperatures measured each year for the period 1950- 2014. Provide the lists sorted in the descending order with respect to the maximum temperature. In this exercise you will use the `temperature-readings.csv` file."
   ]
  },
  {
   "cell_type": "code",
   "execution_count": null,
   "metadata": {},
   "outputs": [],
   "source": [
    "%%time\n",
    "\n",
    "global res\n",
    "\n",
    "res = temperature_readings.map(lambda l: l.split(\";\"))\n",
    "res = res.map(lambda l: (int(l[1][0:4]), float(l[3])))\n",
    "res = res.filter(lambda m: m[0] >= 1950 and m[0] <= 2014)\n",
    "\n",
    "res_max = res.reduceByKey(max)\n",
    "res_max = res_max.map(lambda m: (m[1], m[0]))\n",
    "res_min = res.reduceByKey(min)\n",
    "res_min = res_min.map(lambda m: (m[1], m[0]))\n",
    "\n",
    "res = res_max.zip(res_min).map(lambda m: (m[0][1], m[0][0], m[1][0]))\n",
    "res = res.sortBy(lambda m: m[0], ascending=False)\n",
    "\n",
    "global df\n",
    "df = pd.DataFrame(res.collect(), columns = ['year', 'temp_max', 'temp_min'])"
   ]
  },
  {
   "cell_type": "code",
   "execution_count": null,
   "metadata": {},
   "outputs": [],
   "source": [
    "df.head(10)"
   ]
  },
  {
   "cell_type": "markdown",
   "metadata": {},
   "source": [
    "**Task 1a:** What are the lowest and highest temperature measured each year for the period 1950 to 2014? Provide the list sorted in the descending order with respect to the maximum temperature. Extend the program to include the station number (not the station name) where the maximum/minimum temperature was measured."
   ]
  },
  {
   "cell_type": "code",
   "execution_count": null,
   "metadata": {},
   "outputs": [],
   "source": [
    "%%time\n",
    "\n",
    "global res\n",
    "\n",
    "res = temperature_readings.map(lambda l: l.split(\";\"))\n",
    "res = res.map(lambda l: (int(l[1][0:4]), (int(l[0]), float(l[3]))))\n",
    "res = res.filter(lambda m: m[0] >= 1950 and m[0] <= 2014)\n",
    "\n",
    "res_max = res.reduceByKey(lambda x, y: max(x, y, key=lambda z: float(z[1])))\n",
    "res_max = res_max.map(lambda m: (m[0], m[1][1], m[1][0]))\n",
    "res_min = res.reduceByKey(lambda x, y: min(x, y, key=lambda z: float(z[1])))\n",
    "res_min = res_min.map(lambda m: (m[1][1], m[1][0]))\n",
    "\n",
    "res = res_max.zip(res_min).map(lambda m: (m[0][0], m[0][1], m[0][2], m[1][0], m[1][1]))\n",
    "res = res.sortBy(lambda m: m[0], ascending = False)\n",
    "\n",
    "global df\n",
    "df = pd.DataFrame(res.collect(), columns = ['year', 'temp_max', 'station_max', 'temp_min', 'station_min'])"
   ]
  },
  {
   "cell_type": "code",
   "execution_count": null,
   "metadata": {},
   "outputs": [],
   "source": [
    "df.head(10)"
   ]
  },
  {
   "cell_type": "markdown",
   "metadata": {},
   "source": [
    "**Task 1b**: Write the non-parallelized program in Python to find the maximum temperatures for each year without using Spark."
   ]
  },
  {
   "cell_type": "code",
   "execution_count": null,
   "metadata": {},
   "outputs": [],
   "source": [
    "def csv_read_lazy(csvfile, delimiter = \",\", encoding = \"utf-8\"):\n",
    "    with open(csvfile, encoding = encoding) as f:\n",
    "        r = csv.reader(f, delimiter = delimiter)\n",
    "        for row in r:\n",
    "            yield row"
   ]
  },
  {
   "cell_type": "code",
   "execution_count": null,
   "metadata": {},
   "outputs": [],
   "source": [
    "%%time\n",
    "\n",
    "def get_temperature_information(min_year = 1950, max_year = 2014):\n",
    "    \n",
    "    temp_info = {}\n",
    "    temp_info[\"max\"] = {}\n",
    "    temp_info[\"min\"] = {}\n",
    "    \n",
    "    for year in range(min_year, max_year + 1):\n",
    "        temp_info[\"max\"][year] = {\"temp\": float(\"-Inf\"), \"station\": None}\n",
    "        temp_info[\"min\"][year] = {\"temp\": float(\"Inf\"), \"station\": None}\n",
    "\n",
    "    for row in csv_read_lazy(tr_path, delimiter = \";\"):\n",
    "        year = int(row[1][0:4])\n",
    "        station = int(row[0])\n",
    "        temp = float(row[3])\n",
    "    \n",
    "        if year >= min_year and year <= max_year:\n",
    "            # Max\n",
    "            if temp > temp_info[\"max\"][year][\"temp\"]:\n",
    "                temp_info[\"max\"][year][\"temp\"] = temp\n",
    "                temp_info[\"max\"][year][\"station\"] = station\n",
    "            \n",
    "            # Min\n",
    "            if temp < temp_info[\"min\"][year][\"temp\"]:\n",
    "                temp_info[\"min\"][year][\"temp\"] = temp\n",
    "                temp_info[\"min\"][year][\"station\"] = station\n",
    "                \n",
    "    df = pd.DataFrame(columns=['year', 'temp_max', 'station_max', 'temp_min', 'station_min'])\n",
    "        \n",
    "    for year, v in temp_info[\"max\"].items():\n",
    "        if v[\"temp\"] != float(\"-Inf\"):\n",
    "            df.loc[len(df)] = [year, v[\"temp\"], v[\"station\"], temp_info[\"min\"][year][\"temp\"], temp_info[\"min\"][year][\"station\"]]\n",
    "    \n",
    "    df[\"year\"] = df[\"year\"].astype(int)\n",
    "    df[\"station_max\"] = df[\"station_max\"].astype(int)\n",
    "    df[\"station_min\"] = df[\"station_min\"].astype(int)\n",
    "    \n",
    "    return df.sort_values(by = ['year'], ascending = False)\n",
    "\n",
    "global df\n",
    "df = get_temperature_information()"
   ]
  },
  {
   "cell_type": "code",
   "execution_count": null,
   "metadata": {},
   "outputs": [],
   "source": [
    "df.head(10)"
   ]
  },
  {
   "cell_type": "markdown",
   "metadata": {},
   "source": [
    "As we can see the non-parallized version is actually more than twice as fast than the parallized version. Apparently PySpark adds a lot of overhead. I ran this on my PC with a i7-2600k, which has 4 cores and can execute 8 threads using hyper threading, so even if it's *just* a factor of 4/8, the parallized version should be faster the the non-parallized one, so the implementation seems not to be flawless."
   ]
  },
  {
   "cell_type": "markdown",
   "metadata": {},
   "source": [
    "## Assignment 2"
   ]
  },
  {
   "cell_type": "markdown",
   "metadata": {},
   "source": [
    "Count the number of readings for each month in the period of 1950-2014 which are higher than 10 degrees. Repeat the exercise, this time taking only distinct readings from each station. That is, if a station reported a reading above 10 degrees in some month, then it appears only once in the count for that month. In this exercise you will use the `temperature-readings.csv` file.\n",
    "\n",
    "The output should contain the following information:\n",
    "\n",
    "Year, month, count"
   ]
  },
  {
   "cell_type": "code",
   "execution_count": null,
   "metadata": {},
   "outputs": [],
   "source": [
    "%%time\n",
    "res = temperature_readings.map(lambda l: l.split(\";\"))\n",
    "\n",
    "res = res.map(lambda l: (int(l[1][0:4]), int(l[1][5:7]), float(l[3])))\n",
    "res = res.filter(lambda m: int(m[0]) >= 1950 and int(m[0]) <= 2014 and m[2] > 10.0)\n",
    "res = res.map(lambda m: (str(m[0]) + \"-\" + str(m[1]).zfill(2), 1))\n",
    "res = res.reduceByKey(lambda x, y: x + y)\n",
    "res = res.map(lambda m: (m[0][0:4], m[0][5:7], m[1]))\n",
    "res = res.sortBy(lambda m: (m[0], m[1]), ascending = False)\n",
    "\n",
    "global df\n",
    "df = pd.DataFrame(res.collect(), columns = ['year', 'month', 'count'])"
   ]
  },
  {
   "cell_type": "code",
   "execution_count": null,
   "metadata": {},
   "outputs": [],
   "source": [
    "df.head(10)"
   ]
  },
  {
   "cell_type": "markdown",
   "metadata": {},
   "source": [
    "Now we repeat the exercise where we take only distinct readings from each station."
   ]
  },
  {
   "cell_type": "code",
   "execution_count": null,
   "metadata": {},
   "outputs": [],
   "source": [
    "%%time\n",
    "\n",
    "res = temperature_readings.map(lambda l: l.split(\";\"))\n",
    "res = res.map(lambda l: (int(l[0]), int(l[1][0:4]), int(l[1][5:7]), float(l[3])))\n",
    "res = res.filter(lambda m: int(m[1]) >= 1950 and int(m[1]) <= 2014 and m[3] > 10.0)\n",
    "res = res.map(lambda m: (str(m[0]) + \"-\" + str(m[1]) + \"-\" + str(m[2]).zfill(2), 1))\n",
    "res = res.reduceByKey(lambda x, y: x + y)\n",
    "res = res.map(lambda m: (m[0][-7:], 1))\n",
    "res = res.reduceByKey(lambda x, y: x + y)\n",
    "res = res.sortBy(lambda m: m[0], ascending=False)\n",
    "res = res.map(lambda m: (m[0][0:4], m[0][5:7], m[1]))\n",
    "\n",
    "global df\n",
    "df = pd.DataFrame(res.collect(), columns = ['year', 'month', 'count'])"
   ]
  },
  {
   "cell_type": "code",
   "execution_count": null,
   "metadata": {},
   "outputs": [],
   "source": [
    "df.head(10)"
   ]
  },
  {
   "cell_type": "markdown",
   "metadata": {},
   "source": [
    "## Assignment 3"
   ]
  },
  {
   "cell_type": "markdown",
   "metadata": {},
   "source": [
    "Find the average monthly temperature for each available station in Sweden. Your result should include average temperature for each station for each month in the period of 1960-2014. Bear in mind that not every station has the readings for each month in this timeframe. In this exercise you will use the `temperature-readings.csvfile`.\n",
    "\n",
    "The output should contain the following information:\n",
    "\n",
    "Year, month, station number, average monthly temperature"
   ]
  },
  {
   "cell_type": "code",
   "execution_count": null,
   "metadata": {},
   "outputs": [],
   "source": [
    "%%time\n",
    "\n",
    "res = temperature_readings.map(lambda l: l.split(\";\"))\n",
    "res = res.map(lambda m: (m[0] + \"-\" + m[1][0:7], int(m[1][0:4]), float(m[3])))\n",
    "res = res.filter(lambda m: m[1] >= 1960 and m[1] <= 2014)\n",
    "res = res.map(lambda m: (m[0], (m[2], 1)))\n",
    "res = res.reduceByKey(lambda x, y: (x[0] + y[0], x[1] + y[1]))\n",
    "res = res.map(lambda m: (int(m[0][:-8]), int(m[0][-7:-3]), str(m[0][-2:]).zfill(2), round(m[1][0]/m[1][1], 2)))\n",
    "res = res.sortBy(lambda m: (m[1], m[2], m[0]), ascending=False)\n",
    "\n",
    "global df\n",
    "df = pd.DataFrame(res.collect(), columns=['station', 'year', 'month', 'average-temperature'])"
   ]
  },
  {
   "cell_type": "code",
   "execution_count": null,
   "metadata": {},
   "outputs": [],
   "source": [
    "df.head(10)"
   ]
  },
  {
   "cell_type": "markdown",
   "metadata": {},
   "source": [
    "## Assignment 4"
   ]
  },
  {
   "cell_type": "markdown",
   "metadata": {},
   "source": [
    "Provide  a  list  of  stations  with  their  associated  maximum  measured  temperatures  and maximum  measured  daily  precipitation.  Show  only  those  stations  where  the  maximum temperature is between 25 and 30 degrees and maximum daily precipitation is between 100 mm and 200mm. In this exercise you will use the `temperature-readings.csv` and `precipitation-readings.csv` files. \n",
    "\n",
    "The output should contain the following information:\n",
    "\n",
    "Station number, maximum measured temperature, maximum daily precipitation"
   ]
  },
  {
   "cell_type": "code",
   "execution_count": null,
   "metadata": {},
   "outputs": [],
   "source": [
    "%%time\n",
    "\n",
    "res_p = precipitation_readings.map(lambda l: l.split(\";\"))\n",
    "res_t = temperature_readings.map(lambda l: l.split(\";\"))\n",
    "\n",
    "res_p = res_p.map(lambda m: (int(m[0]), float(m[3])))\n",
    "res_p = res_p.filter(lambda m: m[1] > 100 and m[1] < 200)\n",
    "res_p = res_p.reduceByKey(lambda x, y: max(x, y))\n",
    "\n",
    "res_t = res_t.map(lambda m: (int(m[0]), float(m[3])))\n",
    "res_t = res_t.filter(lambda m: m[1] > 20 and m[1] < 30)\n",
    "res_t = res_t.reduceByKey(lambda x, y: max(x, y))\n",
    "\n",
    "res = res_t.join(res_p)\n",
    "res = res.map(lambda m: (m[0], m[1][0], m[1][1]))\n",
    "\n",
    "global df\n",
    "df = pd.DataFrame(res.collect(), columns=['station', 'max_temperature', 'max_precipitation'])"
   ]
  },
  {
   "cell_type": "code",
   "execution_count": null,
   "metadata": {},
   "outputs": [],
   "source": [
    "df.head()"
   ]
  },
  {
   "cell_type": "markdown",
   "metadata": {},
   "source": [
    "## Assignment 5"
   ]
  },
  {
   "cell_type": "markdown",
   "metadata": {},
   "source": [
    "Calculate the average monthly precipitation for the Östergotland region (list of stations is provided in the separate file) for the period 1993-2016. In order to do this, you will first need to calculate  the  total  monthly  precipitation  for  each  station  before calculating the monthly average (by averaging over stations). In this exercise you will use the `precipitation-readings.csv` and `stations-Ostergotland.csv` files.\n",
    "\n",
    "HINT (not for the SparkSQL lab): Avoid using joins here! `stations-Ostergotland.csv` is small  and if distributed will cause a number of unnecessary shuffles when joined with precipitation RDD. If you distribute `precipitation-readings.csv` then either repartition your stations RDD to 1 partition or make use of the collect to acquire a python list and broadcast function to broadcast the list to all nodes.\n",
    "\n",
    "The output should contain the following information:\n",
    "\n",
    "Year, month, average monthly precipitation"
   ]
  },
  {
   "cell_type": "code",
   "execution_count": null,
   "metadata": {},
   "outputs": [],
   "source": [
    "%%time\n",
    "\n",
    "# Don't remove those, it will break as we're using %%time\n",
    "global res_p\n",
    "global res_s\n",
    "\n",
    "res_p = precipitation_readings.map(lambda l: l.split(\";\"))\n",
    "res_s = station_oster_readings.map(lambda l: l.split(\";\"))\n",
    "\n",
    "res_s = res_s.map(lambda m: int(m[0])).collect()\n",
    "res_s = sc.broadcast(value=res_s)\n",
    "\n",
    "res_p = res_p.map(lambda m: (int(m[0]), m[1], float(m[3])))\n",
    "res_p = res_p.filter(lambda m: int(m[1][0:4]) >= 1993 and int(m[1][0:4]) <= 2016)\n",
    "\n",
    "res = res_p.filter(lambda m: m[0] in res_s.value)\n",
    "# This changes the amount of entries as it only takes year-month, not year-month-date, thus the resulting number of measurementes will me lower. Which one is correct?\n",
    "#res = res.map(lambda m: (str(m[0]) + \"-\" + m[1][0:7], m[2]))\n",
    "res = res.map(lambda m: (str(m[0]) + \"-\" + m[1][0:10], m[2]))\n",
    "res = res.reduceByKey(lambda x, y: x + y)\n",
    "\n",
    "res = res.map(lambda m: (m[0][6:10] + \"-\" + m[0][11:13], (m[1], 1)))\n",
    "res = res.reduceByKey(lambda x, y: (x[0] + y[0], x[1] + y[1]))\n",
    "res = res.map(lambda m: (int(m[0][0:4]), m[0][5:8], m[1][0]/m[1][1]))\n",
    "res = res.sortBy(lambda m: (m[0], m[1]), ascending=False)\n",
    "\n",
    "global df\n",
    "df = pd.DataFrame(res.collect(), columns=['year', 'month', 'average_precipitation'])"
   ]
  },
  {
   "cell_type": "code",
   "execution_count": null,
   "metadata": {},
   "outputs": [],
   "source": [
    "df.head(10)"
   ]
  },
  {
   "cell_type": "markdown",
   "metadata": {},
   "source": [
    "## Assignment 6"
   ]
  },
  {
   "cell_type": "markdown",
   "metadata": {},
   "source": [
    "Compare the average monthly temperature (find the difference) in the period 1950-2014 for all stations in Östergotland with long-term monthly averages in the period of 1950-1980. Make a plot of your results. \n",
    "\n",
    "HINT: The first step is to find the monthly averages for each station. Then, you can average over all stations to acquire the average temperature for a specific year and month. This RDD/DataFrame can beu sed to compute the long-term average by averaging over all the years in the interval.\n",
    "\n",
    "The out put should contain the following information:\n",
    "\n",
    "Year, month, difference"
   ]
  },
  {
   "cell_type": "markdown",
   "metadata": {},
   "source": [
    "**Answer:** Is wrong, maybe the average has to be calculated differently. Also plot has to be created."
   ]
  },
  {
   "cell_type": "code",
   "execution_count": null,
   "metadata": {},
   "outputs": [],
   "source": []
  },
  {
   "cell_type": "code",
   "execution_count": 69,
   "metadata": {},
   "outputs": [],
   "source": [
    "#%%time\n",
    "\n",
    "res_t = temperature_readings.map(lambda l: l.split(\";\"))\n",
    "res_s = station_oster_readings.map(lambda l: l.split(\";\"))\n",
    "\n",
    "res_s = res_s.map(lambda m: int(m[0])).collect()\n",
    "res_s = sc.broadcast(value=res_s)\n",
    "\n",
    "res_t = res_t.map(lambda m: (int(m[0]), m[1], float(m[3])))\n",
    "\n",
    "res_oster = res_t.filter(lambda m: int(m[1][0:4]) >= 1950 and int(m[1][0:4]) <= 2014)\n",
    "res_oster = res_oster.filter(lambda m: m[0] in res_s.value)\n",
    "res_oster = res_oster.map(lambda m: (str(m[0]) + \"-\" + m[1].split(\"-\")[0] + \"-\" + m[1].split(\"-\")[1], (m[2], 1)))\n",
    "res_oster = res_oster.reduceByKey(lambda x, y: (x[0] + y[0], x[1] + y[1]))\n",
    "res_oster = res_oster.map(lambda m: (m[0].split(\"-\")[1] + \"-\" + m[0].split(\"-\")[2], (m[1][0]/m[1][1],1)))\n",
    "res_oster = res_oster.reduceByKey(lambda x, y: (x[0] + y[0], x[1] + y[1]))\n",
    "res_oster = res_oster.map(lambda m: (int(m[0].split(\"-\")[1]), (int(m[0].split(\"-\")[0]), m[1][0]/m[1][1])))\n",
    "#(month, (year, avg))\n",
    "\n",
    "res_general = res_t.filter(lambda m: int(m[1][0:4]) >= 1950 and int(m[1][0:4]) <= 1980)\n",
    "res_general = res_general.map(lambda m: (str(m[0]) + \"-\" + m[1].split(\"-\")[0] + \"-\" + m[1].split(\"-\")[1], (m[2], 1)))\n",
    "res_general = res_general.reduceByKey(lambda x, y: (x[0] + y[0], x[1] + y[1]))\n",
    "res_general = res_general.map(lambda m: (m[0].split(\"-\")[2], (m[1][0]/m[1][1], 1)))\n",
    "res_general = res_general.reduceByKey(lambda x, y: (x[0] + y[0], x[1] + y[1]))\n",
    "res_general = res_general.map(lambda m: (int(m[0]), m[1][0]/m[1][1]))\n",
    "#(month, avg)\n",
    "\n",
    "res = res_general.join(res_oster)\n",
    "#(1, (-5.896814611496512, (2012, -1.5940352235658504)))\n",
    "res = res.map(lambda m: (m[1][1][0], m[0], m[1][1][1] - m[1][0]))\n",
    "res = res.sortBy(lambda m: (m[0], m[1]), ascending=True)\n",
    "\n",
    "global df\n",
    "df = pd.DataFrame(res.collect(), columns=['year', 'month', 'temperature-difference'])"
   ]
  },
  {
   "cell_type": "code",
   "execution_count": 70,
   "metadata": {},
   "outputs": [
    {
     "data": {
      "text/html": [
       "<div>\n",
       "<style scoped>\n",
       "    .dataframe tbody tr th:only-of-type {\n",
       "        vertical-align: middle;\n",
       "    }\n",
       "\n",
       "    .dataframe tbody tr th {\n",
       "        vertical-align: top;\n",
       "    }\n",
       "\n",
       "    .dataframe thead th {\n",
       "        text-align: right;\n",
       "    }\n",
       "</style>\n",
       "<table border=\"1\" class=\"dataframe\">\n",
       "  <thead>\n",
       "    <tr style=\"text-align: right;\">\n",
       "      <th></th>\n",
       "      <th>year</th>\n",
       "      <th>month</th>\n",
       "      <th>temperature-difference</th>\n",
       "    </tr>\n",
       "  </thead>\n",
       "  <tbody>\n",
       "    <tr>\n",
       "      <th>0</th>\n",
       "      <td>1950</td>\n",
       "      <td>1</td>\n",
       "      <td>0.851855</td>\n",
       "    </tr>\n",
       "    <tr>\n",
       "      <th>1</th>\n",
       "      <td>1950</td>\n",
       "      <td>2</td>\n",
       "      <td>4.442803</td>\n",
       "    </tr>\n",
       "    <tr>\n",
       "      <th>2</th>\n",
       "      <td>1950</td>\n",
       "      <td>3</td>\n",
       "      <td>3.766574</td>\n",
       "    </tr>\n",
       "    <tr>\n",
       "      <th>3</th>\n",
       "      <td>1950</td>\n",
       "      <td>4</td>\n",
       "      <td>3.045859</td>\n",
       "    </tr>\n",
       "    <tr>\n",
       "      <th>4</th>\n",
       "      <td>1950</td>\n",
       "      <td>5</td>\n",
       "      <td>2.497390</td>\n",
       "    </tr>\n",
       "    <tr>\n",
       "      <th>5</th>\n",
       "      <td>1950</td>\n",
       "      <td>6</td>\n",
       "      <td>1.049122</td>\n",
       "    </tr>\n",
       "    <tr>\n",
       "      <th>6</th>\n",
       "      <td>1950</td>\n",
       "      <td>7</td>\n",
       "      <td>-0.369539</td>\n",
       "    </tr>\n",
       "    <tr>\n",
       "      <th>7</th>\n",
       "      <td>1950</td>\n",
       "      <td>8</td>\n",
       "      <td>1.754706</td>\n",
       "    </tr>\n",
       "    <tr>\n",
       "      <th>8</th>\n",
       "      <td>1950</td>\n",
       "      <td>9</td>\n",
       "      <td>1.779558</td>\n",
       "    </tr>\n",
       "    <tr>\n",
       "      <th>9</th>\n",
       "      <td>1950</td>\n",
       "      <td>10</td>\n",
       "      <td>1.557379</td>\n",
       "    </tr>\n",
       "  </tbody>\n",
       "</table>\n",
       "</div>"
      ],
      "text/plain": [
       "   year  month  temperature-difference\n",
       "0  1950      1                0.851855\n",
       "1  1950      2                4.442803\n",
       "2  1950      3                3.766574\n",
       "3  1950      4                3.045859\n",
       "4  1950      5                2.497390\n",
       "5  1950      6                1.049122\n",
       "6  1950      7               -0.369539\n",
       "7  1950      8                1.754706\n",
       "8  1950      9                1.779558\n",
       "9  1950     10                1.557379"
      ]
     },
     "execution_count": 70,
     "metadata": {},
     "output_type": "execute_result"
    }
   ],
   "source": [
    "df.head(10)"
   ]
  },
  {
   "cell_type": "code",
   "execution_count": 71,
   "metadata": {},
   "outputs": [
    {
     "data": {
      "text/html": [
       "<div>\n",
       "<style scoped>\n",
       "    .dataframe tbody tr th:only-of-type {\n",
       "        vertical-align: middle;\n",
       "    }\n",
       "\n",
       "    .dataframe tbody tr th {\n",
       "        vertical-align: top;\n",
       "    }\n",
       "\n",
       "    .dataframe thead th {\n",
       "        text-align: right;\n",
       "    }\n",
       "</style>\n",
       "<table border=\"1\" class=\"dataframe\">\n",
       "  <thead>\n",
       "    <tr style=\"text-align: right;\">\n",
       "      <th></th>\n",
       "      <th>year</th>\n",
       "      <th>month</th>\n",
       "      <th>temperature-difference</th>\n",
       "    </tr>\n",
       "  </thead>\n",
       "  <tbody>\n",
       "    <tr>\n",
       "      <th>770</th>\n",
       "      <td>2014</td>\n",
       "      <td>3</td>\n",
       "      <td>5.793303</td>\n",
       "    </tr>\n",
       "    <tr>\n",
       "      <th>771</th>\n",
       "      <td>2014</td>\n",
       "      <td>4</td>\n",
       "      <td>3.830523</td>\n",
       "    </tr>\n",
       "    <tr>\n",
       "      <th>772</th>\n",
       "      <td>2014</td>\n",
       "      <td>5</td>\n",
       "      <td>1.750518</td>\n",
       "    </tr>\n",
       "    <tr>\n",
       "      <th>773</th>\n",
       "      <td>2014</td>\n",
       "      <td>6</td>\n",
       "      <td>-0.587972</td>\n",
       "    </tr>\n",
       "    <tr>\n",
       "      <th>774</th>\n",
       "      <td>2014</td>\n",
       "      <td>7</td>\n",
       "      <td>3.356081</td>\n",
       "    </tr>\n",
       "    <tr>\n",
       "      <th>775</th>\n",
       "      <td>2014</td>\n",
       "      <td>8</td>\n",
       "      <td>0.628932</td>\n",
       "    </tr>\n",
       "    <tr>\n",
       "      <th>776</th>\n",
       "      <td>2014</td>\n",
       "      <td>9</td>\n",
       "      <td>1.647216</td>\n",
       "    </tr>\n",
       "    <tr>\n",
       "      <th>777</th>\n",
       "      <td>2014</td>\n",
       "      <td>10</td>\n",
       "      <td>3.502018</td>\n",
       "    </tr>\n",
       "    <tr>\n",
       "      <th>778</th>\n",
       "      <td>2014</td>\n",
       "      <td>11</td>\n",
       "      <td>4.707888</td>\n",
       "    </tr>\n",
       "    <tr>\n",
       "      <th>779</th>\n",
       "      <td>2014</td>\n",
       "      <td>12</td>\n",
       "      <td>3.784004</td>\n",
       "    </tr>\n",
       "  </tbody>\n",
       "</table>\n",
       "</div>"
      ],
      "text/plain": [
       "     year  month  temperature-difference\n",
       "770  2014      3                5.793303\n",
       "771  2014      4                3.830523\n",
       "772  2014      5                1.750518\n",
       "773  2014      6               -0.587972\n",
       "774  2014      7                3.356081\n",
       "775  2014      8                0.628932\n",
       "776  2014      9                1.647216\n",
       "777  2014     10                3.502018\n",
       "778  2014     11                4.707888\n",
       "779  2014     12                3.784004"
      ]
     },
     "execution_count": 71,
     "metadata": {},
     "output_type": "execute_result"
    }
   ],
   "source": [
    "df.tail(10)"
   ]
  },
  {
   "cell_type": "code",
   "execution_count": null,
   "metadata": {},
   "outputs": [],
   "source": [
    "sc.stop()"
   ]
  }
 ],
 "metadata": {
  "kernelspec": {
   "display_name": "Python 3",
   "language": "python",
   "name": "python3"
  },
  "language_info": {
   "codemirror_mode": {
    "name": "ipython",
    "version": 3
   },
   "file_extension": ".py",
   "mimetype": "text/x-python",
   "name": "python",
   "nbconvert_exporter": "python",
   "pygments_lexer": "ipython3",
   "version": "3.7.3"
  }
 },
 "nbformat": 4,
 "nbformat_minor": 2
}
