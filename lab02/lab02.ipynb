{
 "cells": [
  {
   "cell_type": "code",
   "execution_count": 1,
   "metadata": {},
   "outputs": [],
   "source": [
    "import pyspark\n",
    "import random\n",
    "import csv\n",
    "import math\n",
    "import sys\n",
    "import pandas as pd\n",
    "tr_path = \"/home/flennic/Documents/big-data-analytics-ressources/temperature-readings-big.csv\""
   ]
  },
  {
   "cell_type": "code",
   "execution_count": 2,
   "metadata": {},
   "outputs": [],
   "source": [
    "sc = pyspark.SparkContext(appName=\"Temperature\")"
   ]
  },
  {
   "cell_type": "markdown",
   "metadata": {},
   "source": [
    "**Task 1a:** What are the lowest and highest temperature measured each year for the period 1950 to 2014? Provide the list sorted in the descending order with respect to the maximum temperature. Extend the program to include the station number (not the station name) where the maximum/minimum temperature was measured.\n",
    "\n",
    "**Answer:** As the exercise 1a) is a special case of 1), we combine them to save computation time."
   ]
  },
  {
   "cell_type": "code",
   "execution_count": 3,
   "metadata": {},
   "outputs": [
    {
     "name": "stdout",
     "output_type": "stream",
     "text": [
      "CPU times: user 393 ms, sys: 136 ms, total: 530 ms\n",
      "Wall time: 31min 5s\n"
     ]
    }
   ],
   "source": [
    "%%time\n",
    "\n",
    "temperature_reading = sc.textFile(tr_path)\n",
    "\n",
    "res = temperature_reading.map(lambda l: l.split(\";\"))\n",
    "res = res.map(lambda l: (l[1][0:4], (l[0], l[3])))\n",
    "res = res.filter(lambda m: int(m[0]) >= 1950 and int(m[0]) <= 2014)\n",
    "\n",
    "res_max = res.reduceByKey(lambda x, y: max(x, y, key=lambda z: float(z[1])))\n",
    "res_max = res_max.map(lambda m: (m[0], m[1][1], m[1][0]))\n",
    "res_min = res.reduceByKey(lambda x, y: min(x, y, key=lambda z: float(z[1])))\n",
    "res_min = res_min.map(lambda m: (m[1][1], m[1][0]))\n",
    "\n",
    "res = res_max.zip(res_min).map(lambda x: [m for sublist in x for m in sublist])\n",
    "res = res.sortBy(lambda m: float(m[1]), ascending=False)\n",
    "\n",
    "global df\n",
    "df = pd.DataFrame(res.collect(), columns=['year', 'temp_max', 'tation_max', 'temp_min', 'station_min'])"
   ]
  },
  {
   "cell_type": "code",
   "execution_count": 4,
   "metadata": {},
   "outputs": [
    {
     "data": {
      "text/html": [
       "<div>\n",
       "<style scoped>\n",
       "    .dataframe tbody tr th:only-of-type {\n",
       "        vertical-align: middle;\n",
       "    }\n",
       "\n",
       "    .dataframe tbody tr th {\n",
       "        vertical-align: top;\n",
       "    }\n",
       "\n",
       "    .dataframe thead th {\n",
       "        text-align: right;\n",
       "    }\n",
       "</style>\n",
       "<table border=\"1\" class=\"dataframe\">\n",
       "  <thead>\n",
       "    <tr style=\"text-align: right;\">\n",
       "      <th></th>\n",
       "      <th>year</th>\n",
       "      <th>temp_max</th>\n",
       "      <th>tation_max</th>\n",
       "      <th>temp_min</th>\n",
       "      <th>station_min</th>\n",
       "    </tr>\n",
       "  </thead>\n",
       "  <tbody>\n",
       "    <tr>\n",
       "      <th>0</th>\n",
       "      <td>1975</td>\n",
       "      <td>36.1</td>\n",
       "      <td>86200</td>\n",
       "      <td>-37.0</td>\n",
       "      <td>157860</td>\n",
       "    </tr>\n",
       "    <tr>\n",
       "      <th>1</th>\n",
       "      <td>1992</td>\n",
       "      <td>35.4</td>\n",
       "      <td>63600</td>\n",
       "      <td>-36.1</td>\n",
       "      <td>179960</td>\n",
       "    </tr>\n",
       "    <tr>\n",
       "      <th>2</th>\n",
       "      <td>1994</td>\n",
       "      <td>34.7</td>\n",
       "      <td>117160</td>\n",
       "      <td>-40.5</td>\n",
       "      <td>179960</td>\n",
       "    </tr>\n",
       "    <tr>\n",
       "      <th>3</th>\n",
       "      <td>2010</td>\n",
       "      <td>34.4</td>\n",
       "      <td>75250</td>\n",
       "      <td>-41.7</td>\n",
       "      <td>191910</td>\n",
       "    </tr>\n",
       "    <tr>\n",
       "      <th>4</th>\n",
       "      <td>2014</td>\n",
       "      <td>34.4</td>\n",
       "      <td>96560</td>\n",
       "      <td>-42.5</td>\n",
       "      <td>192840</td>\n",
       "    </tr>\n",
       "  </tbody>\n",
       "</table>\n",
       "</div>"
      ],
      "text/plain": [
       "   year temp_max tation_max temp_min station_min\n",
       "0  1975     36.1      86200    -37.0      157860\n",
       "1  1992     35.4      63600    -36.1      179960\n",
       "2  1994     34.7     117160    -40.5      179960\n",
       "3  2010     34.4      75250    -41.7      191910\n",
       "4  2014     34.4      96560    -42.5      192840"
      ]
     },
     "execution_count": 4,
     "metadata": {},
     "output_type": "execute_result"
    }
   ],
   "source": [
    "df.head()"
   ]
  },
  {
   "cell_type": "markdown",
   "metadata": {},
   "source": [
    "**Task 1b**: Same exercise, this time as a non-parallel version."
   ]
  },
  {
   "cell_type": "code",
   "execution_count": 5,
   "metadata": {},
   "outputs": [],
   "source": [
    "def csv_read_lazy(csvfile, delimiter = \",\", encoding = \"utf-8\"):\n",
    "    with open(csvfile, encoding = encoding) as f:\n",
    "        r = csv.reader(f, delimiter = delimiter)\n",
    "        for row in r:\n",
    "            yield row"
   ]
  },
  {
   "cell_type": "code",
   "execution_count": 12,
   "metadata": {},
   "outputs": [
    {
     "name": "stdout",
     "output_type": "stream",
     "text": [
      "CPU times: user 15min 26s, sys: 10.8 s, total: 15min 37s\n",
      "Wall time: 15min 48s\n"
     ]
    }
   ],
   "source": [
    "%%time\n",
    "\n",
    "def get_temperature_information(min_year = 1950, max_year = 2014):\n",
    "    \n",
    "    temp_info = {}\n",
    "    temp_info[\"max\"] = {}\n",
    "    temp_info[\"min\"] = {}\n",
    "    \n",
    "    for year in range(min_year, max_year + 1):\n",
    "        temp_info[\"max\"][year] = {\"temp\": float(\"-Inf\"), \"station\": None}\n",
    "        temp_info[\"min\"][year] = {\"temp\": float(\"Inf\"), \"station\": None}\n",
    "\n",
    "    for row in csv_read_lazy(tr_path, delimiter = \";\"):\n",
    "        year = int(row[1][0:4])\n",
    "        station = int(row[0])\n",
    "        temp = float(row[3])\n",
    "    \n",
    "        if year >= min_year and year <= max_year:\n",
    "            # Max\n",
    "            if temp > temp_info[\"max\"][year][\"temp\"]:\n",
    "                temp_info[\"max\"][year][\"temp\"] = temp\n",
    "                temp_info[\"max\"][year][\"station\"] = station\n",
    "            \n",
    "            # Min\n",
    "            if temp < temp_info[\"min\"][year][\"temp\"]:\n",
    "                temp_info[\"min\"][year][\"temp\"] = temp\n",
    "                temp_info[\"min\"][year][\"station\"] = station\n",
    "                \n",
    "    df = pd.DataFrame(columns=['year', 'temp_max', 'station_max', 'temp_min', 'station_min'])\n",
    "        \n",
    "    for year, v in temp_info[\"max\"].items():\n",
    "        if v[\"temp\"] != float(\"-Inf\"):\n",
    "            df.loc[len(df)] = [year, v[\"temp\"], v[\"station\"], temp_info[\"min\"][year][\"temp\"], temp_info[\"min\"][year][\"station\"]]\n",
    "    \n",
    "    # More readable but slower\n",
    "    #for k, v in temp_info[\"max\"].copy().items():\n",
    "    #    if v[\"temp\"] == float(\"-Inf\"):\n",
    "    #        del temp_info[\"max\"][k]\n",
    "    #        del temp_info[\"min\"][k]\n",
    "    \n",
    "    df[\"year\"] = df[\"year\"].astype(int)\n",
    "    df[\"station_max\"] = df[\"station_max\"].astype(int)\n",
    "    df[\"station_min\"] = df[\"station_min\"].astype(int)\n",
    "    \n",
    "    return df.sort_values(by=['temp_max'], ascending=False)\n",
    "\n",
    "global df\n",
    "df = get_temperature_information()"
   ]
  },
  {
   "cell_type": "code",
   "execution_count": 13,
   "metadata": {},
   "outputs": [
    {
     "data": {
      "text/html": [
       "<div>\n",
       "<style scoped>\n",
       "    .dataframe tbody tr th:only-of-type {\n",
       "        vertical-align: middle;\n",
       "    }\n",
       "\n",
       "    .dataframe tbody tr th {\n",
       "        vertical-align: top;\n",
       "    }\n",
       "\n",
       "    .dataframe thead th {\n",
       "        text-align: right;\n",
       "    }\n",
       "</style>\n",
       "<table border=\"1\" class=\"dataframe\">\n",
       "  <thead>\n",
       "    <tr style=\"text-align: right;\">\n",
       "      <th></th>\n",
       "      <th>year</th>\n",
       "      <th>temp_max</th>\n",
       "      <th>station_max</th>\n",
       "      <th>temp_min</th>\n",
       "      <th>station_min</th>\n",
       "    </tr>\n",
       "  </thead>\n",
       "  <tbody>\n",
       "    <tr>\n",
       "      <th>25</th>\n",
       "      <td>1975</td>\n",
       "      <td>36.1</td>\n",
       "      <td>86200</td>\n",
       "      <td>-37.0</td>\n",
       "      <td>157860</td>\n",
       "    </tr>\n",
       "    <tr>\n",
       "      <th>42</th>\n",
       "      <td>1992</td>\n",
       "      <td>35.4</td>\n",
       "      <td>63600</td>\n",
       "      <td>-36.1</td>\n",
       "      <td>179960</td>\n",
       "    </tr>\n",
       "    <tr>\n",
       "      <th>44</th>\n",
       "      <td>1994</td>\n",
       "      <td>34.7</td>\n",
       "      <td>117160</td>\n",
       "      <td>-40.5</td>\n",
       "      <td>179960</td>\n",
       "    </tr>\n",
       "    <tr>\n",
       "      <th>64</th>\n",
       "      <td>2014</td>\n",
       "      <td>34.4</td>\n",
       "      <td>96560</td>\n",
       "      <td>-42.5</td>\n",
       "      <td>192840</td>\n",
       "    </tr>\n",
       "    <tr>\n",
       "      <th>60</th>\n",
       "      <td>2010</td>\n",
       "      <td>34.4</td>\n",
       "      <td>75250</td>\n",
       "      <td>-41.7</td>\n",
       "      <td>191910</td>\n",
       "    </tr>\n",
       "  </tbody>\n",
       "</table>\n",
       "</div>"
      ],
      "text/plain": [
       "    year  temp_max  station_max  temp_min  station_min\n",
       "25  1975      36.1        86200     -37.0       157860\n",
       "42  1992      35.4        63600     -36.1       179960\n",
       "44  1994      34.7       117160     -40.5       179960\n",
       "64  2014      34.4        96560     -42.5       192840\n",
       "60  2010      34.4        75250     -41.7       191910"
      ]
     },
     "execution_count": 13,
     "metadata": {},
     "output_type": "execute_result"
    }
   ],
   "source": [
    "df.head()"
   ]
  },
  {
   "cell_type": "code",
   "execution_count": null,
   "metadata": {},
   "outputs": [],
   "source": []
  }
 ],
 "metadata": {
  "kernelspec": {
   "display_name": "Python 3",
   "language": "python",
   "name": "python3"
  },
  "language_info": {
   "codemirror_mode": {
    "name": "ipython",
    "version": 3
   },
   "file_extension": ".py",
   "mimetype": "text/x-python",
   "name": "python",
   "nbconvert_exporter": "python",
   "pygments_lexer": "ipython3",
   "version": "3.7.3"
  }
 },
 "nbformat": 4,
 "nbformat_minor": 2
}
