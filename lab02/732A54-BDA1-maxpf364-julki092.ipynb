{
 "cells": [
  {
   "cell_type": "markdown",
   "metadata": {},
   "source": [
    "# BDA1 - Spark"
   ]
  },
  {
   "cell_type": "markdown",
   "metadata": {},
   "source": [
    "**Submission by:**\n",
    "- Julius Kittler (julki092)\n",
    "- Maximilian Pfundstein (maxpf364)"
   ]
  },
  {
   "cell_type": "markdown",
   "metadata": {},
   "source": [
    "In this set of exercises you will work exclusively with Spark. This means that in your programs, you only need to create the `SparkContext`.\n",
    "In a number of exercises you will be asked to calculated temperature averages (daily and monthly). These are not always computed according to the standard definition of ‘average’. In this domain the daily average temperature is calculated by averaging the daily measured maximum and the daily measured minimum temperatures. The monthly average is calculated by averaging the daily maximums and minimums for that month. For example, to get the monthly average for October, take maximums and minimums for each day, sum them up and divide by 62 (which is the same as taking the daily averages, summing them up and divide by the number of days).\n",
    "\n",
    "Note: In many countries in the world, the averages are calculated as discussed. However, in Sweden, daily and monthly averages are calculated using Ekholm-Modéns formula which in addition to minimum and maximum daily temperature also takes into account readings at specific timepoints, the month as well as the longitude of the station. For more information check (in Swedish): http://www.smhi.se/kunskapsbanken/meteorologi/hur-beraknas-medeltemperatur-1.3923"
   ]
  },
  {
   "cell_type": "markdown",
   "metadata": {},
   "source": [
    "## Setup"
   ]
  },
  {
   "cell_type": "markdown",
   "metadata": {},
   "source": [
    "The following code is used to prepare the data files, execute only once and **be careful!**"
   ]
  },
  {
   "cell_type": "code",
   "execution_count": 1,
   "metadata": {},
   "outputs": [],
   "source": [
    "# Remove UTF-8 BOM\n",
    "#!vim -c ':set nobomb' -c ':set fileencoding=utf-8' -c ':wq' ../data/temperature-readings.csv\n",
    "#!vim -c ':set nobomb' -c ':set fileencoding=utf-8' -c ':wq' ../data/precipitation-readings.csv\n",
    "#!vim -c ':set nobomb' -c ':set fileencoding=utf-8' -c ':wq' ../data/stations-Ostergotland.csv\n",
    "#!vim -c ':set nobomb' -c ':set fileencoding=utf-8' -c ':wq' ../data/stations.csv\n",
    "\n",
    "# Create big 16GiB file\n",
    "#for i in range(8):\n",
    "#    !cat ../data/temperature-readings.csv >> ../data/temperature-readings-big.csv"
   ]
  },
  {
   "cell_type": "code",
   "execution_count": 2,
   "metadata": {},
   "outputs": [],
   "source": [
    "import pyspark\n",
    "import csv\n",
    "import math\n",
    "import sys\n",
    "import pandas as pd\n",
    "\n",
    "tr_path = \"../data/temperature-readings.csv\"\n",
    "tr_big_path = \"../data/temperature-readings-big.csv\"\n",
    "pr_path = \"../data/precipitation-readings.csv\"\n",
    "sro_path = \"../data/stations-Ostergotland.csv\"\n",
    "sr_path = \"../data/stations.csv\""
   ]
  },
  {
   "cell_type": "code",
   "execution_count": 3,
   "metadata": {},
   "outputs": [],
   "source": [
    "sc = pyspark.SparkContext(appName = \"Temperature\")\n",
    "temperature_readings = sc.textFile(tr_path)\n",
    "temperature_readings_big = sc.textFile(tr_big_path)\n",
    "precipitation_readings = sc.textFile(pr_path)\n",
    "station_oster_readings = sc.textFile(sro_path)\n",
    "station_readings = sc.textFile(sr_path)"
   ]
  },
  {
   "cell_type": "markdown",
   "metadata": {},
   "source": [
    "## Assignment 1"
   ]
  },
  {
   "cell_type": "markdown",
   "metadata": {},
   "source": [
    "What are the lowest and highest temperatures measured each year for the period 1950- 2014. Provide the lists sorted in the descending order with respect to the maximum temperature. In this exercise you will use the `temperature-readings.csv` file."
   ]
  },
  {
   "cell_type": "code",
   "execution_count": 4,
   "metadata": {},
   "outputs": [
    {
     "name": "stdout",
     "output_type": "stream",
     "text": [
      "CPU times: user 58.5 ms, sys: 29.2 ms, total: 87.7 ms\n",
      "Wall time: 1min 33s\n"
     ]
    }
   ],
   "source": [
    "%%time\n",
    "\n",
    "res = temperature_readings.map(lambda l: l.split(\";\"))\n",
    "res = res.map(lambda l: (int(l[1][0:4]), (float(l[3]), float(l[3]))))\n",
    "# (year, (temperature, temperature))\n",
    "res = res.filter(lambda m: m[0] >= 1950 and m[0] <= 2014)\n",
    "res = res.reduceByKey(lambda x, y: (x[0] if x[0] > y[0] else y[0],\n",
    "                                    y[1] if x[1] > y[1] else x[1]))\n",
    "res = res.map(lambda m: (m[0], m[1][0], m[1][1]))\n",
    "#(year, temp_max, temp_min)\n",
    "res = res.sortBy(lambda m: m[1], ascending=False)\n",
    "\n",
    "global df\n",
    "df = pd.DataFrame(res.collect(), columns = ['year', 'temp_max', 'temp_min'])"
   ]
  },
  {
   "cell_type": "code",
   "execution_count": 5,
   "metadata": {},
   "outputs": [
    {
     "data": {
      "text/html": [
       "<div>\n",
       "<style scoped>\n",
       "    .dataframe tbody tr th:only-of-type {\n",
       "        vertical-align: middle;\n",
       "    }\n",
       "\n",
       "    .dataframe tbody tr th {\n",
       "        vertical-align: top;\n",
       "    }\n",
       "\n",
       "    .dataframe thead th {\n",
       "        text-align: right;\n",
       "    }\n",
       "</style>\n",
       "<table border=\"1\" class=\"dataframe\">\n",
       "  <thead>\n",
       "    <tr style=\"text-align: right;\">\n",
       "      <th></th>\n",
       "      <th>year</th>\n",
       "      <th>temp_max</th>\n",
       "      <th>temp_min</th>\n",
       "    </tr>\n",
       "  </thead>\n",
       "  <tbody>\n",
       "    <tr>\n",
       "      <th>0</th>\n",
       "      <td>1975</td>\n",
       "      <td>36.1</td>\n",
       "      <td>-37.0</td>\n",
       "    </tr>\n",
       "    <tr>\n",
       "      <th>1</th>\n",
       "      <td>1992</td>\n",
       "      <td>35.4</td>\n",
       "      <td>-36.1</td>\n",
       "    </tr>\n",
       "    <tr>\n",
       "      <th>2</th>\n",
       "      <td>1994</td>\n",
       "      <td>34.7</td>\n",
       "      <td>-40.5</td>\n",
       "    </tr>\n",
       "    <tr>\n",
       "      <th>3</th>\n",
       "      <td>2010</td>\n",
       "      <td>34.4</td>\n",
       "      <td>-41.7</td>\n",
       "    </tr>\n",
       "    <tr>\n",
       "      <th>4</th>\n",
       "      <td>2014</td>\n",
       "      <td>34.4</td>\n",
       "      <td>-42.5</td>\n",
       "    </tr>\n",
       "    <tr>\n",
       "      <th>5</th>\n",
       "      <td>1989</td>\n",
       "      <td>33.9</td>\n",
       "      <td>-38.2</td>\n",
       "    </tr>\n",
       "    <tr>\n",
       "      <th>6</th>\n",
       "      <td>1982</td>\n",
       "      <td>33.8</td>\n",
       "      <td>-42.2</td>\n",
       "    </tr>\n",
       "    <tr>\n",
       "      <th>7</th>\n",
       "      <td>1968</td>\n",
       "      <td>33.7</td>\n",
       "      <td>-42.0</td>\n",
       "    </tr>\n",
       "    <tr>\n",
       "      <th>8</th>\n",
       "      <td>1966</td>\n",
       "      <td>33.5</td>\n",
       "      <td>-49.4</td>\n",
       "    </tr>\n",
       "    <tr>\n",
       "      <th>9</th>\n",
       "      <td>2002</td>\n",
       "      <td>33.3</td>\n",
       "      <td>-42.2</td>\n",
       "    </tr>\n",
       "  </tbody>\n",
       "</table>\n",
       "</div>"
      ],
      "text/plain": [
       "   year  temp_max  temp_min\n",
       "0  1975      36.1     -37.0\n",
       "1  1992      35.4     -36.1\n",
       "2  1994      34.7     -40.5\n",
       "3  2010      34.4     -41.7\n",
       "4  2014      34.4     -42.5\n",
       "5  1989      33.9     -38.2\n",
       "6  1982      33.8     -42.2\n",
       "7  1968      33.7     -42.0\n",
       "8  1966      33.5     -49.4\n",
       "9  2002      33.3     -42.2"
      ]
     },
     "execution_count": 5,
     "metadata": {},
     "output_type": "execute_result"
    }
   ],
   "source": [
    "df.head(10)"
   ]
  },
  {
   "cell_type": "markdown",
   "metadata": {},
   "source": [
    "**Task 1a:** What are the lowest and highest temperature measured each year for the period 1950 to 2014? Provide the list sorted in the descending order with respect to the maximum temperature. Extend the program to include the station number (not the station name) where the maximum/minimum temperature was measured."
   ]
  },
  {
   "cell_type": "code",
   "execution_count": 6,
   "metadata": {},
   "outputs": [
    {
     "name": "stdout",
     "output_type": "stream",
     "text": [
      "CPU times: user 302 ms, sys: 88.4 ms, total: 390 ms\n",
      "Wall time: 13min 34s\n"
     ]
    }
   ],
   "source": [
    "%%time\n",
    "\n",
    "res = temperature_readings_big.map(lambda l: l.split(\";\"))\n",
    "res = res.map(lambda l: (int(l[1][0:4]), ((int(l[0]), float(l[3])), (int(l[0]), float(l[3])))))\n",
    "# (year, (station, temperature), (station, temperature))\n",
    "res = res.filter(lambda m: m[0] >= 1950 and m[0] <= 2014)\n",
    "res = res.reduceByKey(lambda x, y: ((x[0][0], x[0][1]) if x[0][1] > y[0][1] else (y[0][0], y[0][1]),\n",
    "                                    (y[1][0], y[1][1]) if x[1][1] > y[1][1] else (x[1][0], x[1][1])))\n",
    "res = res.map(lambda m: (m[0], m[1][0][1], m[1][0][0], m[1][1][1], m[1][1][0]))\n",
    "#(year, temp_max, station_max, temp_min, station_min)\n",
    "res = res.sortBy(lambda m: m[1], ascending = False)\n",
    "\n",
    "global df\n",
    "df = pd.DataFrame(res.collect(), columns = ['year', 'temp_max', 'station_max', 'temp_min', 'station_min'])"
   ]
  },
  {
   "cell_type": "code",
   "execution_count": 7,
   "metadata": {},
   "outputs": [
    {
     "data": {
      "text/html": [
       "<div>\n",
       "<style scoped>\n",
       "    .dataframe tbody tr th:only-of-type {\n",
       "        vertical-align: middle;\n",
       "    }\n",
       "\n",
       "    .dataframe tbody tr th {\n",
       "        vertical-align: top;\n",
       "    }\n",
       "\n",
       "    .dataframe thead th {\n",
       "        text-align: right;\n",
       "    }\n",
       "</style>\n",
       "<table border=\"1\" class=\"dataframe\">\n",
       "  <thead>\n",
       "    <tr style=\"text-align: right;\">\n",
       "      <th></th>\n",
       "      <th>year</th>\n",
       "      <th>temp_max</th>\n",
       "      <th>station_max</th>\n",
       "      <th>temp_min</th>\n",
       "      <th>station_min</th>\n",
       "    </tr>\n",
       "  </thead>\n",
       "  <tbody>\n",
       "    <tr>\n",
       "      <th>0</th>\n",
       "      <td>1975</td>\n",
       "      <td>36.1</td>\n",
       "      <td>86200</td>\n",
       "      <td>-37.0</td>\n",
       "      <td>157860</td>\n",
       "    </tr>\n",
       "    <tr>\n",
       "      <th>1</th>\n",
       "      <td>1992</td>\n",
       "      <td>35.4</td>\n",
       "      <td>63600</td>\n",
       "      <td>-36.1</td>\n",
       "      <td>179960</td>\n",
       "    </tr>\n",
       "    <tr>\n",
       "      <th>2</th>\n",
       "      <td>1994</td>\n",
       "      <td>34.7</td>\n",
       "      <td>117160</td>\n",
       "      <td>-40.5</td>\n",
       "      <td>179960</td>\n",
       "    </tr>\n",
       "    <tr>\n",
       "      <th>3</th>\n",
       "      <td>2010</td>\n",
       "      <td>34.4</td>\n",
       "      <td>75250</td>\n",
       "      <td>-41.7</td>\n",
       "      <td>191910</td>\n",
       "    </tr>\n",
       "    <tr>\n",
       "      <th>4</th>\n",
       "      <td>2014</td>\n",
       "      <td>34.4</td>\n",
       "      <td>96560</td>\n",
       "      <td>-42.5</td>\n",
       "      <td>192840</td>\n",
       "    </tr>\n",
       "    <tr>\n",
       "      <th>5</th>\n",
       "      <td>1989</td>\n",
       "      <td>33.9</td>\n",
       "      <td>63050</td>\n",
       "      <td>-38.2</td>\n",
       "      <td>166870</td>\n",
       "    </tr>\n",
       "    <tr>\n",
       "      <th>6</th>\n",
       "      <td>1982</td>\n",
       "      <td>33.8</td>\n",
       "      <td>94050</td>\n",
       "      <td>-42.2</td>\n",
       "      <td>113410</td>\n",
       "    </tr>\n",
       "    <tr>\n",
       "      <th>7</th>\n",
       "      <td>1968</td>\n",
       "      <td>33.7</td>\n",
       "      <td>137100</td>\n",
       "      <td>-42.0</td>\n",
       "      <td>179950</td>\n",
       "    </tr>\n",
       "    <tr>\n",
       "      <th>8</th>\n",
       "      <td>1966</td>\n",
       "      <td>33.5</td>\n",
       "      <td>151640</td>\n",
       "      <td>-49.4</td>\n",
       "      <td>179950</td>\n",
       "    </tr>\n",
       "    <tr>\n",
       "      <th>9</th>\n",
       "      <td>1983</td>\n",
       "      <td>33.3</td>\n",
       "      <td>98210</td>\n",
       "      <td>-38.2</td>\n",
       "      <td>191900</td>\n",
       "    </tr>\n",
       "  </tbody>\n",
       "</table>\n",
       "</div>"
      ],
      "text/plain": [
       "   year  temp_max  station_max  temp_min  station_min\n",
       "0  1975      36.1        86200     -37.0       157860\n",
       "1  1992      35.4        63600     -36.1       179960\n",
       "2  1994      34.7       117160     -40.5       179960\n",
       "3  2010      34.4        75250     -41.7       191910\n",
       "4  2014      34.4        96560     -42.5       192840\n",
       "5  1989      33.9        63050     -38.2       166870\n",
       "6  1982      33.8        94050     -42.2       113410\n",
       "7  1968      33.7       137100     -42.0       179950\n",
       "8  1966      33.5       151640     -49.4       179950\n",
       "9  1983      33.3        98210     -38.2       191900"
      ]
     },
     "execution_count": 7,
     "metadata": {},
     "output_type": "execute_result"
    }
   ],
   "source": [
    "df.head(10)"
   ]
  },
  {
   "cell_type": "markdown",
   "metadata": {},
   "source": [
    "**Task 1b**: Write the non-parallelized program in Python to find the maximum temperatures for each year without using Spark."
   ]
  },
  {
   "cell_type": "code",
   "execution_count": 8,
   "metadata": {},
   "outputs": [],
   "source": [
    "def csv_read_lazy(csvfile, delimiter = \",\", encoding = \"utf-8\"):\n",
    "    with open(csvfile, encoding = encoding) as f:\n",
    "        r = csv.reader(f, delimiter = delimiter)\n",
    "        for row in r:\n",
    "            yield row"
   ]
  },
  {
   "cell_type": "code",
   "execution_count": 9,
   "metadata": {},
   "outputs": [
    {
     "name": "stdout",
     "output_type": "stream",
     "text": [
      "CPU times: user 14min 16s, sys: 8.41 s, total: 14min 25s\n",
      "Wall time: 14min 26s\n"
     ]
    }
   ],
   "source": [
    "%%time\n",
    "\n",
    "def get_temperature_information(min_year = 1950, max_year = 2014):\n",
    "    \n",
    "    temp_info = {}\n",
    "    temp_info[\"max\"] = {}\n",
    "    temp_info[\"min\"] = {}\n",
    "    \n",
    "    for year in range(min_year, max_year + 1):\n",
    "        temp_info[\"max\"][year] = {\"temp\": float(\"-Inf\"), \"station\": None}\n",
    "        temp_info[\"min\"][year] = {\"temp\": float(\"Inf\"), \"station\": None}\n",
    "\n",
    "    for row in csv_read_lazy(tr_big_path, delimiter = \";\"):\n",
    "        year = int(row[1][0:4])\n",
    "        station = int(row[0])\n",
    "        temp = float(row[3])\n",
    "    \n",
    "        if year >= min_year and year <= max_year:\n",
    "            # Max\n",
    "            if temp > temp_info[\"max\"][year][\"temp\"]:\n",
    "                temp_info[\"max\"][year][\"temp\"] = temp\n",
    "                temp_info[\"max\"][year][\"station\"] = station\n",
    "            \n",
    "            # Min\n",
    "            if temp < temp_info[\"min\"][year][\"temp\"]:\n",
    "                temp_info[\"min\"][year][\"temp\"] = temp\n",
    "                temp_info[\"min\"][year][\"station\"] = station\n",
    "                \n",
    "    df = pd.DataFrame(columns=['year', 'temp_max', 'station_max', 'temp_min', 'station_min'])\n",
    "        \n",
    "    for year, v in temp_info[\"max\"].items():\n",
    "        if v[\"temp\"] != float(\"-Inf\"):\n",
    "            df.loc[len(df)] = [year, v[\"temp\"], v[\"station\"], temp_info[\"min\"][year][\"temp\"], temp_info[\"min\"][year][\"station\"]]\n",
    "    \n",
    "    df[\"year\"] = df[\"year\"].astype(int)\n",
    "    df[\"station_max\"] = df[\"station_max\"].astype(int)\n",
    "    df[\"station_min\"] = df[\"station_min\"].astype(int)\n",
    "    \n",
    "    return df.sort_values(by = ['temp_max'], ascending = False)\n",
    "\n",
    "global df\n",
    "df = get_temperature_information()"
   ]
  },
  {
   "cell_type": "code",
   "execution_count": 10,
   "metadata": {},
   "outputs": [
    {
     "data": {
      "text/html": [
       "<div>\n",
       "<style scoped>\n",
       "    .dataframe tbody tr th:only-of-type {\n",
       "        vertical-align: middle;\n",
       "    }\n",
       "\n",
       "    .dataframe tbody tr th {\n",
       "        vertical-align: top;\n",
       "    }\n",
       "\n",
       "    .dataframe thead th {\n",
       "        text-align: right;\n",
       "    }\n",
       "</style>\n",
       "<table border=\"1\" class=\"dataframe\">\n",
       "  <thead>\n",
       "    <tr style=\"text-align: right;\">\n",
       "      <th></th>\n",
       "      <th>year</th>\n",
       "      <th>temp_max</th>\n",
       "      <th>station_max</th>\n",
       "      <th>temp_min</th>\n",
       "      <th>station_min</th>\n",
       "    </tr>\n",
       "  </thead>\n",
       "  <tbody>\n",
       "    <tr>\n",
       "      <th>25</th>\n",
       "      <td>1975</td>\n",
       "      <td>36.1</td>\n",
       "      <td>86200</td>\n",
       "      <td>-37.0</td>\n",
       "      <td>157860</td>\n",
       "    </tr>\n",
       "    <tr>\n",
       "      <th>42</th>\n",
       "      <td>1992</td>\n",
       "      <td>35.4</td>\n",
       "      <td>63600</td>\n",
       "      <td>-36.1</td>\n",
       "      <td>179960</td>\n",
       "    </tr>\n",
       "    <tr>\n",
       "      <th>44</th>\n",
       "      <td>1994</td>\n",
       "      <td>34.7</td>\n",
       "      <td>117160</td>\n",
       "      <td>-40.5</td>\n",
       "      <td>179960</td>\n",
       "    </tr>\n",
       "    <tr>\n",
       "      <th>64</th>\n",
       "      <td>2014</td>\n",
       "      <td>34.4</td>\n",
       "      <td>96560</td>\n",
       "      <td>-42.5</td>\n",
       "      <td>192840</td>\n",
       "    </tr>\n",
       "    <tr>\n",
       "      <th>60</th>\n",
       "      <td>2010</td>\n",
       "      <td>34.4</td>\n",
       "      <td>75250</td>\n",
       "      <td>-41.7</td>\n",
       "      <td>191910</td>\n",
       "    </tr>\n",
       "    <tr>\n",
       "      <th>39</th>\n",
       "      <td>1989</td>\n",
       "      <td>33.9</td>\n",
       "      <td>63050</td>\n",
       "      <td>-38.2</td>\n",
       "      <td>166870</td>\n",
       "    </tr>\n",
       "    <tr>\n",
       "      <th>32</th>\n",
       "      <td>1982</td>\n",
       "      <td>33.8</td>\n",
       "      <td>94050</td>\n",
       "      <td>-42.2</td>\n",
       "      <td>113410</td>\n",
       "    </tr>\n",
       "    <tr>\n",
       "      <th>18</th>\n",
       "      <td>1968</td>\n",
       "      <td>33.7</td>\n",
       "      <td>137100</td>\n",
       "      <td>-42.0</td>\n",
       "      <td>179950</td>\n",
       "    </tr>\n",
       "    <tr>\n",
       "      <th>16</th>\n",
       "      <td>1966</td>\n",
       "      <td>33.5</td>\n",
       "      <td>151640</td>\n",
       "      <td>-49.4</td>\n",
       "      <td>179950</td>\n",
       "    </tr>\n",
       "    <tr>\n",
       "      <th>33</th>\n",
       "      <td>1983</td>\n",
       "      <td>33.3</td>\n",
       "      <td>98210</td>\n",
       "      <td>-38.2</td>\n",
       "      <td>191900</td>\n",
       "    </tr>\n",
       "  </tbody>\n",
       "</table>\n",
       "</div>"
      ],
      "text/plain": [
       "    year  temp_max  station_max  temp_min  station_min\n",
       "25  1975      36.1        86200     -37.0       157860\n",
       "42  1992      35.4        63600     -36.1       179960\n",
       "44  1994      34.7       117160     -40.5       179960\n",
       "64  2014      34.4        96560     -42.5       192840\n",
       "60  2010      34.4        75250     -41.7       191910\n",
       "39  1989      33.9        63050     -38.2       166870\n",
       "32  1982      33.8        94050     -42.2       113410\n",
       "18  1968      33.7       137100     -42.0       179950\n",
       "16  1966      33.5       151640     -49.4       179950\n",
       "33  1983      33.3        98210     -38.2       191900"
      ]
     },
     "execution_count": 10,
     "metadata": {},
     "output_type": "execute_result"
    }
   ],
   "source": [
    "df.head(10)"
   ]
  },
  {
   "cell_type": "markdown",
   "metadata": {},
   "source": [
    "**Comment:** We can see that the sequential version takes longer time, but not that much. Parallel computing has some overhead and it depends strongly on the problem if is makes sense to parallelize. Here 4 cores (8 threeads with multi-threading) have been used, so more cores might make the difference larger.\n",
    "\n",
    "On Heffa, the version without Spark took much longer (ca. 40 minutes longer) than the version with Spark. This is due to the fact that the server CPU was made for parallel computing, so we see a much greater difference here, as it utilizes Spark to it's full potential."
   ]
  },
  {
   "cell_type": "markdown",
   "metadata": {},
   "source": [
    "## Assignment 2"
   ]
  },
  {
   "cell_type": "markdown",
   "metadata": {},
   "source": [
    "Count the number of readings for each month in the period of 1950-2014 which are higher than 10 degrees. Repeat the exercise, this time taking only distinct readings from each station. That is, if a station reported a reading above 10 degrees in some month, then it appears only once in the count for that month. In this exercise you will use the `temperature-readings.csv` file.\n",
    "\n",
    "The output should contain the following information:\n",
    "\n",
    "Year, month, count"
   ]
  },
  {
   "cell_type": "code",
   "execution_count": 11,
   "metadata": {},
   "outputs": [
    {
     "name": "stdout",
     "output_type": "stream",
     "text": [
      "CPU times: user 67.8 ms, sys: 12.1 ms, total: 79.9 ms\n",
      "Wall time: 1min 31s\n"
     ]
    }
   ],
   "source": [
    "%%time\n",
    "\n",
    "res = temperature_readings.map(lambda l: l.split(\";\"))\n",
    "res = res.map(lambda l: (int(l[1][0:4]), int(l[1][5:7]), float(l[3])))\n",
    "res = res.filter(lambda m: int(m[0]) >= 1950 and int(m[0]) <= 2014 and m[2] > 10.0)\n",
    "res = res.map(lambda m: ((m[0], m[1]), 1))\n",
    "res = res.reduceByKey(lambda x, y: x + y)\n",
    "res = res.map(lambda m: (m[0][0], m[0][1], m[1]))\n",
    "res = res.sortBy(lambda m: (m[0], m[1]), ascending = False)\n",
    "\n",
    "global df\n",
    "df = pd.DataFrame(res.collect(), columns = ['year', 'month', 'count'])"
   ]
  },
  {
   "cell_type": "code",
   "execution_count": 12,
   "metadata": {},
   "outputs": [
    {
     "data": {
      "text/html": [
       "<div>\n",
       "<style scoped>\n",
       "    .dataframe tbody tr th:only-of-type {\n",
       "        vertical-align: middle;\n",
       "    }\n",
       "\n",
       "    .dataframe tbody tr th {\n",
       "        vertical-align: top;\n",
       "    }\n",
       "\n",
       "    .dataframe thead th {\n",
       "        text-align: right;\n",
       "    }\n",
       "</style>\n",
       "<table border=\"1\" class=\"dataframe\">\n",
       "  <thead>\n",
       "    <tr style=\"text-align: right;\">\n",
       "      <th></th>\n",
       "      <th>year</th>\n",
       "      <th>month</th>\n",
       "      <th>count</th>\n",
       "    </tr>\n",
       "  </thead>\n",
       "  <tbody>\n",
       "    <tr>\n",
       "      <th>0</th>\n",
       "      <td>2014</td>\n",
       "      <td>12</td>\n",
       "      <td>3</td>\n",
       "    </tr>\n",
       "    <tr>\n",
       "      <th>1</th>\n",
       "      <td>2014</td>\n",
       "      <td>11</td>\n",
       "      <td>8139</td>\n",
       "    </tr>\n",
       "    <tr>\n",
       "      <th>2</th>\n",
       "      <td>2014</td>\n",
       "      <td>10</td>\n",
       "      <td>42191</td>\n",
       "    </tr>\n",
       "    <tr>\n",
       "      <th>3</th>\n",
       "      <td>2014</td>\n",
       "      <td>9</td>\n",
       "      <td>86090</td>\n",
       "    </tr>\n",
       "    <tr>\n",
       "      <th>4</th>\n",
       "      <td>2014</td>\n",
       "      <td>8</td>\n",
       "      <td>124045</td>\n",
       "    </tr>\n",
       "    <tr>\n",
       "      <th>5</th>\n",
       "      <td>2014</td>\n",
       "      <td>7</td>\n",
       "      <td>147681</td>\n",
       "    </tr>\n",
       "    <tr>\n",
       "      <th>6</th>\n",
       "      <td>2014</td>\n",
       "      <td>6</td>\n",
       "      <td>101711</td>\n",
       "    </tr>\n",
       "    <tr>\n",
       "      <th>7</th>\n",
       "      <td>2014</td>\n",
       "      <td>5</td>\n",
       "      <td>57250</td>\n",
       "    </tr>\n",
       "    <tr>\n",
       "      <th>8</th>\n",
       "      <td>2014</td>\n",
       "      <td>4</td>\n",
       "      <td>19862</td>\n",
       "    </tr>\n",
       "    <tr>\n",
       "      <th>9</th>\n",
       "      <td>2014</td>\n",
       "      <td>3</td>\n",
       "      <td>4213</td>\n",
       "    </tr>\n",
       "  </tbody>\n",
       "</table>\n",
       "</div>"
      ],
      "text/plain": [
       "   year  month   count\n",
       "0  2014     12       3\n",
       "1  2014     11    8139\n",
       "2  2014     10   42191\n",
       "3  2014      9   86090\n",
       "4  2014      8  124045\n",
       "5  2014      7  147681\n",
       "6  2014      6  101711\n",
       "7  2014      5   57250\n",
       "8  2014      4   19862\n",
       "9  2014      3    4213"
      ]
     },
     "execution_count": 12,
     "metadata": {},
     "output_type": "execute_result"
    }
   ],
   "source": [
    "df.head(10)"
   ]
  },
  {
   "cell_type": "markdown",
   "metadata": {},
   "source": [
    "Now we repeat the exercise where we take only distinct readings from each station."
   ]
  },
  {
   "cell_type": "code",
   "execution_count": 13,
   "metadata": {},
   "outputs": [
    {
     "name": "stdout",
     "output_type": "stream",
     "text": [
      "CPU times: user 97.5 ms, sys: 4.22 ms, total: 102 ms\n",
      "Wall time: 1min 28s\n"
     ]
    }
   ],
   "source": [
    "%%time\n",
    "\n",
    "res = temperature_readings.map(lambda l: l.split(\";\"))\n",
    "res = res.map(lambda l: (int(l[0]), int(l[1][0:4]), int(l[1][5:7]), float(l[3])))\n",
    "res = res.filter(lambda m: int(m[1]) >= 1950 and int(m[1]) <= 2014 and m[3] > 10.0)\n",
    "res = res.map(lambda m: ((m[0], m[1], m[2]), 1))\n",
    "res = res.reduceByKey(lambda x, y: x + y)\n",
    "res = res.map(lambda m: ((m[0][1], m[0][2]), 1))\n",
    "res = res.reduceByKey(lambda x, y: x + y)\n",
    "res = res.sortBy(lambda m: (m[0][0], m[0][1]), ascending=False)\n",
    "res = res.map(lambda m: (m[0][0], m[0][1], m[1]))\n",
    "\n",
    "global df\n",
    "df = pd.DataFrame(res.collect(), columns = ['year', 'month', 'count'])"
   ]
  },
  {
   "cell_type": "code",
   "execution_count": 14,
   "metadata": {},
   "outputs": [
    {
     "data": {
      "text/html": [
       "<div>\n",
       "<style scoped>\n",
       "    .dataframe tbody tr th:only-of-type {\n",
       "        vertical-align: middle;\n",
       "    }\n",
       "\n",
       "    .dataframe tbody tr th {\n",
       "        vertical-align: top;\n",
       "    }\n",
       "\n",
       "    .dataframe thead th {\n",
       "        text-align: right;\n",
       "    }\n",
       "</style>\n",
       "<table border=\"1\" class=\"dataframe\">\n",
       "  <thead>\n",
       "    <tr style=\"text-align: right;\">\n",
       "      <th></th>\n",
       "      <th>year</th>\n",
       "      <th>month</th>\n",
       "      <th>count</th>\n",
       "    </tr>\n",
       "  </thead>\n",
       "  <tbody>\n",
       "    <tr>\n",
       "      <th>0</th>\n",
       "      <td>2014</td>\n",
       "      <td>12</td>\n",
       "      <td>1</td>\n",
       "    </tr>\n",
       "    <tr>\n",
       "      <th>1</th>\n",
       "      <td>2014</td>\n",
       "      <td>11</td>\n",
       "      <td>158</td>\n",
       "    </tr>\n",
       "    <tr>\n",
       "      <th>2</th>\n",
       "      <td>2014</td>\n",
       "      <td>10</td>\n",
       "      <td>270</td>\n",
       "    </tr>\n",
       "    <tr>\n",
       "      <th>3</th>\n",
       "      <td>2014</td>\n",
       "      <td>9</td>\n",
       "      <td>296</td>\n",
       "    </tr>\n",
       "    <tr>\n",
       "      <th>4</th>\n",
       "      <td>2014</td>\n",
       "      <td>8</td>\n",
       "      <td>296</td>\n",
       "    </tr>\n",
       "    <tr>\n",
       "      <th>5</th>\n",
       "      <td>2014</td>\n",
       "      <td>7</td>\n",
       "      <td>297</td>\n",
       "    </tr>\n",
       "    <tr>\n",
       "      <th>6</th>\n",
       "      <td>2014</td>\n",
       "      <td>6</td>\n",
       "      <td>298</td>\n",
       "    </tr>\n",
       "    <tr>\n",
       "      <th>7</th>\n",
       "      <td>2014</td>\n",
       "      <td>5</td>\n",
       "      <td>296</td>\n",
       "    </tr>\n",
       "    <tr>\n",
       "      <th>8</th>\n",
       "      <td>2014</td>\n",
       "      <td>4</td>\n",
       "      <td>254</td>\n",
       "    </tr>\n",
       "    <tr>\n",
       "      <th>9</th>\n",
       "      <td>2014</td>\n",
       "      <td>3</td>\n",
       "      <td>169</td>\n",
       "    </tr>\n",
       "  </tbody>\n",
       "</table>\n",
       "</div>"
      ],
      "text/plain": [
       "   year  month  count\n",
       "0  2014     12      1\n",
       "1  2014     11    158\n",
       "2  2014     10    270\n",
       "3  2014      9    296\n",
       "4  2014      8    296\n",
       "5  2014      7    297\n",
       "6  2014      6    298\n",
       "7  2014      5    296\n",
       "8  2014      4    254\n",
       "9  2014      3    169"
      ]
     },
     "execution_count": 14,
     "metadata": {},
     "output_type": "execute_result"
    }
   ],
   "source": [
    "df.head(10)"
   ]
  },
  {
   "cell_type": "markdown",
   "metadata": {},
   "source": [
    "## Assignment 3"
   ]
  },
  {
   "cell_type": "markdown",
   "metadata": {},
   "source": [
    "Find the average monthly temperature for each available station in Sweden. Your result should include average temperature for each station for each month in the period of 1960-2014. Bear in mind that not every station has the readings for each month in this timeframe. In this exercise you will use the `temperature-readings.csv` file.\n",
    "\n",
    "The output should contain the following information:\n",
    "\n",
    "Year, month, station number, average monthly temperature"
   ]
  },
  {
   "cell_type": "code",
   "execution_count": 15,
   "metadata": {},
   "outputs": [
    {
     "name": "stdout",
     "output_type": "stream",
     "text": [
      "CPU times: user 270 ms, sys: 44.2 ms, total: 314 ms\n",
      "Wall time: 2min 53s\n"
     ]
    }
   ],
   "source": [
    "%%time\n",
    "\n",
    "res = temperature_readings.map(lambda l: l.split(\";\"))\n",
    "res = res.map(lambda m: ((int(m[0]), int(m[1].split(\"-\")[0]), int(m[1].split(\"-\")[1]), int(m[1].split(\"-\")[2])), (float(m[3]), float(m[3]))))\n",
    "res = res.filter(lambda m: m[0][1] >= 1960 and m[0][1] <= 2014)\n",
    "res = res.reduceByKey(lambda x, y: (max(x[0], y[0]), min(x[1], y[1])))\n",
    "res = res.map(lambda m: (m[0][0:3], (sum(m[1]), 2)))\n",
    "res = res.reduceByKey(lambda x, y: (x[0] + y[0], x[1] + y[1]))\n",
    "res = res.map(lambda m: (m[0][1], m[0][2], m[0][0], m[1][0]/m[1][1]))\n",
    "res = res.sortBy(lambda m: (m[0], m[1], m[2]), ascending=False)\n",
    "\n",
    "global df\n",
    "df = pd.DataFrame(res.collect(), columns=['year', 'month', 'station', 'average-temperature'])"
   ]
  },
  {
   "cell_type": "code",
   "execution_count": 16,
   "metadata": {},
   "outputs": [
    {
     "data": {
      "text/html": [
       "<div>\n",
       "<style scoped>\n",
       "    .dataframe tbody tr th:only-of-type {\n",
       "        vertical-align: middle;\n",
       "    }\n",
       "\n",
       "    .dataframe tbody tr th {\n",
       "        vertical-align: top;\n",
       "    }\n",
       "\n",
       "    .dataframe thead th {\n",
       "        text-align: right;\n",
       "    }\n",
       "</style>\n",
       "<table border=\"1\" class=\"dataframe\">\n",
       "  <thead>\n",
       "    <tr style=\"text-align: right;\">\n",
       "      <th></th>\n",
       "      <th>year</th>\n",
       "      <th>month</th>\n",
       "      <th>station</th>\n",
       "      <th>average-temperature</th>\n",
       "    </tr>\n",
       "  </thead>\n",
       "  <tbody>\n",
       "    <tr>\n",
       "      <th>0</th>\n",
       "      <td>2014</td>\n",
       "      <td>12</td>\n",
       "      <td>192840</td>\n",
       "      <td>-11.825806</td>\n",
       "    </tr>\n",
       "    <tr>\n",
       "      <th>1</th>\n",
       "      <td>2014</td>\n",
       "      <td>12</td>\n",
       "      <td>191910</td>\n",
       "      <td>-11.551613</td>\n",
       "    </tr>\n",
       "    <tr>\n",
       "      <th>2</th>\n",
       "      <td>2014</td>\n",
       "      <td>12</td>\n",
       "      <td>191720</td>\n",
       "      <td>-11.870968</td>\n",
       "    </tr>\n",
       "    <tr>\n",
       "      <th>3</th>\n",
       "      <td>2014</td>\n",
       "      <td>12</td>\n",
       "      <td>189720</td>\n",
       "      <td>-10.088710</td>\n",
       "    </tr>\n",
       "    <tr>\n",
       "      <th>4</th>\n",
       "      <td>2014</td>\n",
       "      <td>12</td>\n",
       "      <td>188850</td>\n",
       "      <td>-7.556452</td>\n",
       "    </tr>\n",
       "    <tr>\n",
       "      <th>5</th>\n",
       "      <td>2014</td>\n",
       "      <td>12</td>\n",
       "      <td>188820</td>\n",
       "      <td>-7.472581</td>\n",
       "    </tr>\n",
       "    <tr>\n",
       "      <th>6</th>\n",
       "      <td>2014</td>\n",
       "      <td>12</td>\n",
       "      <td>188800</td>\n",
       "      <td>-6.866129</td>\n",
       "    </tr>\n",
       "    <tr>\n",
       "      <th>7</th>\n",
       "      <td>2014</td>\n",
       "      <td>12</td>\n",
       "      <td>183750</td>\n",
       "      <td>-9.596774</td>\n",
       "    </tr>\n",
       "    <tr>\n",
       "      <th>8</th>\n",
       "      <td>2014</td>\n",
       "      <td>12</td>\n",
       "      <td>182930</td>\n",
       "      <td>-9.766129</td>\n",
       "    </tr>\n",
       "    <tr>\n",
       "      <th>9</th>\n",
       "      <td>2014</td>\n",
       "      <td>12</td>\n",
       "      <td>182910</td>\n",
       "      <td>-9.969355</td>\n",
       "    </tr>\n",
       "  </tbody>\n",
       "</table>\n",
       "</div>"
      ],
      "text/plain": [
       "   year  month  station  average-temperature\n",
       "0  2014     12   192840           -11.825806\n",
       "1  2014     12   191910           -11.551613\n",
       "2  2014     12   191720           -11.870968\n",
       "3  2014     12   189720           -10.088710\n",
       "4  2014     12   188850            -7.556452\n",
       "5  2014     12   188820            -7.472581\n",
       "6  2014     12   188800            -6.866129\n",
       "7  2014     12   183750            -9.596774\n",
       "8  2014     12   182930            -9.766129\n",
       "9  2014     12   182910            -9.969355"
      ]
     },
     "execution_count": 16,
     "metadata": {},
     "output_type": "execute_result"
    }
   ],
   "source": [
    "df.head(10)"
   ]
  },
  {
   "cell_type": "markdown",
   "metadata": {},
   "source": [
    "## Assignment 4"
   ]
  },
  {
   "cell_type": "markdown",
   "metadata": {},
   "source": [
    "Provide  a  list  of  stations  with  their  associated  maximum  measured  temperatures  and maximum  measured  daily  precipitation.  Show  only  those  stations  where  the  maximum temperature is between 25 and 30 degrees and maximum daily precipitation is between 100 mm and 200mm. In this exercise you will use the `temperature-readings.csv` and `precipitation-readings.csv` files. \n",
    "\n",
    "The output should contain the following information:\n",
    "\n",
    "Station number, maximum measured temperature, maximum daily precipitation"
   ]
  },
  {
   "cell_type": "markdown",
   "metadata": {},
   "source": [
    "**Update:** We now take the correct temperatures (between 25 and 30) and also reduce first to find the maximum for each station and then filter."
   ]
  },
  {
   "cell_type": "code",
   "execution_count": 26,
   "metadata": {},
   "outputs": [
    {
     "name": "stdout",
     "output_type": "stream",
     "text": [
      "CPU times: user 91.3 ms, sys: 19 ms, total: 110 ms\n",
      "Wall time: 1min 34s\n"
     ]
    }
   ],
   "source": [
    "%%time\n",
    "\n",
    "res_p = precipitation_readings.map(lambda l: l.split(\";\"))\n",
    "res_t = temperature_readings.map(lambda l: l.split(\";\"))\n",
    "\n",
    "res_p = res_p.map(lambda m: (int(m[0]), float(m[3])))\n",
    "res_p = res_p.reduceByKey(lambda x, y: max(x, y))\n",
    "res_p = res_p.filter(lambda m: m[1] > 100 and m[1] < 200)\n",
    "\n",
    "res_t = res_t.map(lambda m: (int(m[0]), float(m[3])))\n",
    "res_t = res_t.reduceByKey(lambda x, y: max(x, y))\n",
    "res_t = res_t.filter(lambda m: m[1] > 25 and m[1] < 30)\n",
    "\n",
    "res = res_t.join(res_p)\n",
    "res = res.map(lambda m: (m[0], m[1][0], m[1][1]))\n",
    "\n",
    "global df\n",
    "df = pd.DataFrame(res.collect(), columns=['station', 'max_temperature', 'max_precipitation'])\n",
    "res_p.take(10)"
   ]
  },
  {
   "cell_type": "code",
   "execution_count": 27,
   "metadata": {},
   "outputs": [
    {
     "data": {
      "text/html": [
       "<div>\n",
       "<style scoped>\n",
       "    .dataframe tbody tr th:only-of-type {\n",
       "        vertical-align: middle;\n",
       "    }\n",
       "\n",
       "    .dataframe tbody tr th {\n",
       "        vertical-align: top;\n",
       "    }\n",
       "\n",
       "    .dataframe thead th {\n",
       "        text-align: right;\n",
       "    }\n",
       "</style>\n",
       "<table border=\"1\" class=\"dataframe\">\n",
       "  <thead>\n",
       "    <tr style=\"text-align: right;\">\n",
       "      <th></th>\n",
       "      <th>station</th>\n",
       "      <th>max_temperature</th>\n",
       "      <th>max_precipitation</th>\n",
       "    </tr>\n",
       "  </thead>\n",
       "  <tbody>\n",
       "  </tbody>\n",
       "</table>\n",
       "</div>"
      ],
      "text/plain": [
       "Empty DataFrame\n",
       "Columns: [station, max_temperature, max_precipitation]\n",
       "Index: []"
      ]
     },
     "execution_count": 27,
     "metadata": {},
     "output_type": "execute_result"
    }
   ],
   "source": [
    "df.head(10)"
   ]
  },
  {
   "cell_type": "markdown",
   "metadata": {},
   "source": [
    "## Assignment 5"
   ]
  },
  {
   "cell_type": "markdown",
   "metadata": {},
   "source": [
    "Calculate the average monthly precipitation for the Östergotland region (list of stations is provided in the separate file) for the period 1993-2016. In order to do this, you will first need to calculate  the  total  monthly  precipitation  for  each  station  before calculating the monthly average (by averaging over stations). In this exercise you will use the `precipitation-readings.csv` and `stations-Ostergotland.csv` files.\n",
    "\n",
    "HINT (not for the SparkSQL lab): Avoid using joins here! `stations-Ostergotland.csv` is small  and if distributed will cause a number of unnecessary shuffles when joined with precipitation RDD. If you distribute `precipitation-readings.csv` then either repartition your stations RDD to 1 partition or make use of the collect to acquire a python list and broadcast function to broadcast the list to all nodes.\n",
    "\n",
    "The output should contain the following information:\n",
    "\n",
    "Year, month, average monthly precipitation"
   ]
  },
  {
   "cell_type": "code",
   "execution_count": 19,
   "metadata": {},
   "outputs": [
    {
     "name": "stdout",
     "output_type": "stream",
     "text": [
      "CPU times: user 56.3 ms, sys: 16 ms, total: 72.3 ms\n",
      "Wall time: 34.2 s\n"
     ]
    }
   ],
   "source": [
    "%%time\n",
    "\n",
    "# Don't remove those, it will break as we're using %%time\n",
    "global res_p\n",
    "global res_s\n",
    "\n",
    "res_p = precipitation_readings.map(lambda l: l.split(\";\"))\n",
    "res_s = station_oster_readings.map(lambda l: l.split(\";\"))\n",
    "\n",
    "res_s = res_s.map(lambda m: int(m[0])).collect()\n",
    "res_s = sc.broadcast(value=res_s)\n",
    "\n",
    "res_p = res_p.map(lambda m: (int(m[0]), int(m[1].split(\"-\")[0]), int(m[1].split(\"-\")[1]), int(m[1].split(\"-\")[2]), float(m[3])))\n",
    "res_p = res_p.filter(lambda m: m[1] >= 1993 and m[1] <= 2016)\n",
    "\n",
    "res = res_p.filter(lambda m: m[0] in res_s.value)\n",
    "res = res.map(lambda m: ((m[0], m[1], m[2]), m[4]))\n",
    "res = res.reduceByKey(lambda x, y: x + y)\n",
    "\n",
    "res = res.map(lambda m: ((m[0][1], m[0][2]), (m[1], 1)))\n",
    "res = res.reduceByKey(lambda x, y: (x[0] + y[0], x[1] + y[1]))\n",
    "res = res.map(lambda m: (int(m[0][0]), m[0][1], m[1][0]/m[1][1]))\n",
    "res = res.sortBy(lambda m: (m[0], m[1]), ascending=False)\n",
    "\n",
    "global df\n",
    "df = pd.DataFrame(res.collect(), columns=['year', 'month', 'average_precipitation'])"
   ]
  },
  {
   "cell_type": "code",
   "execution_count": 20,
   "metadata": {},
   "outputs": [
    {
     "data": {
      "text/html": [
       "<div>\n",
       "<style scoped>\n",
       "    .dataframe tbody tr th:only-of-type {\n",
       "        vertical-align: middle;\n",
       "    }\n",
       "\n",
       "    .dataframe tbody tr th {\n",
       "        vertical-align: top;\n",
       "    }\n",
       "\n",
       "    .dataframe thead th {\n",
       "        text-align: right;\n",
       "    }\n",
       "</style>\n",
       "<table border=\"1\" class=\"dataframe\">\n",
       "  <thead>\n",
       "    <tr style=\"text-align: right;\">\n",
       "      <th></th>\n",
       "      <th>year</th>\n",
       "      <th>month</th>\n",
       "      <th>average_precipitation</th>\n",
       "    </tr>\n",
       "  </thead>\n",
       "  <tbody>\n",
       "    <tr>\n",
       "      <th>0</th>\n",
       "      <td>2016</td>\n",
       "      <td>7</td>\n",
       "      <td>0.0000</td>\n",
       "    </tr>\n",
       "    <tr>\n",
       "      <th>1</th>\n",
       "      <td>2016</td>\n",
       "      <td>6</td>\n",
       "      <td>47.6625</td>\n",
       "    </tr>\n",
       "    <tr>\n",
       "      <th>2</th>\n",
       "      <td>2016</td>\n",
       "      <td>5</td>\n",
       "      <td>29.2500</td>\n",
       "    </tr>\n",
       "    <tr>\n",
       "      <th>3</th>\n",
       "      <td>2016</td>\n",
       "      <td>4</td>\n",
       "      <td>26.9000</td>\n",
       "    </tr>\n",
       "    <tr>\n",
       "      <th>4</th>\n",
       "      <td>2016</td>\n",
       "      <td>3</td>\n",
       "      <td>19.9625</td>\n",
       "    </tr>\n",
       "    <tr>\n",
       "      <th>5</th>\n",
       "      <td>2016</td>\n",
       "      <td>2</td>\n",
       "      <td>21.5625</td>\n",
       "    </tr>\n",
       "    <tr>\n",
       "      <th>6</th>\n",
       "      <td>2016</td>\n",
       "      <td>1</td>\n",
       "      <td>22.3250</td>\n",
       "    </tr>\n",
       "    <tr>\n",
       "      <th>7</th>\n",
       "      <td>2015</td>\n",
       "      <td>12</td>\n",
       "      <td>28.9250</td>\n",
       "    </tr>\n",
       "    <tr>\n",
       "      <th>8</th>\n",
       "      <td>2015</td>\n",
       "      <td>11</td>\n",
       "      <td>63.8875</td>\n",
       "    </tr>\n",
       "    <tr>\n",
       "      <th>9</th>\n",
       "      <td>2015</td>\n",
       "      <td>10</td>\n",
       "      <td>2.2625</td>\n",
       "    </tr>\n",
       "  </tbody>\n",
       "</table>\n",
       "</div>"
      ],
      "text/plain": [
       "   year  month  average_precipitation\n",
       "0  2016      7                 0.0000\n",
       "1  2016      6                47.6625\n",
       "2  2016      5                29.2500\n",
       "3  2016      4                26.9000\n",
       "4  2016      3                19.9625\n",
       "5  2016      2                21.5625\n",
       "6  2016      1                22.3250\n",
       "7  2015     12                28.9250\n",
       "8  2015     11                63.8875\n",
       "9  2015     10                 2.2625"
      ]
     },
     "execution_count": 20,
     "metadata": {},
     "output_type": "execute_result"
    }
   ],
   "source": [
    "df.head(10)"
   ]
  },
  {
   "cell_type": "markdown",
   "metadata": {},
   "source": [
    "## Assignment 6"
   ]
  },
  {
   "cell_type": "markdown",
   "metadata": {},
   "source": [
    "Compare the average monthly temperature (find the difference) in the period 1950-2014 for all stations in Östergotland with long-term monthly averages in the period of 1950-1980. Make a plot of your results. \n",
    "\n",
    "HINT: The first step is to find the monthly averages for each station. Then, you can average over all stations to acquire the average temperature for a specific year and month. This RDD/DataFrame can beu sed to compute the long-term average by averaging over all the years in the interval.\n",
    "\n",
    "The out put should contain the following information:\n",
    "\n",
    "Year, month, difference"
   ]
  },
  {
   "cell_type": "code",
   "execution_count": 21,
   "metadata": {},
   "outputs": [
    {
     "name": "stdout",
     "output_type": "stream",
     "text": [
      "CPU times: user 204 ms, sys: 56.6 ms, total: 261 ms\n",
      "Wall time: 3min 51s\n"
     ]
    }
   ],
   "source": [
    "%%time\n",
    "\n",
    "global res_t\n",
    "global res_s\n",
    "\n",
    "res_t = temperature_readings.map(lambda l: l.split(\";\"))\n",
    "res_s = station_oster_readings.map(lambda l: l.split(\";\"))\n",
    "\n",
    "res_s = res_s.map(lambda m: int(m[0])).collect()\n",
    "res_s = sc.broadcast(value=res_s)\n",
    "\n",
    "res_t = res_t.map(lambda m: (((int(m[0]), int(m[1].split(\"-\")[0]), int(m[1].split(\"-\")[1]), int(m[1].split(\"-\")[2])), (float(m[3]), float(m[3])))))\n",
    "res_oster = res_t.filter(lambda m: m[0][1] >= 1950 and m[0][1] <= 2014).filter(lambda m: m[0][0] in res_s.value)\n",
    "res_oster = res_oster.reduceByKey(lambda x, y: (max(x[0], y[0]), min(x[1], y[1])))\n",
    "res_oster = res_oster.map(lambda m: (m[0][0:3], (sum(m[1]), 2)))\n",
    "res_oster = res_oster.reduceByKey(lambda x, y: (x[0] + y[0], x[1] + y[1]))\n",
    "res_oster = res_oster.map(lambda m: ((m[0][1], m[0][2]), (m[1][0]/m[1][1], 1)))\n",
    "res_oster = res_oster.reduceByKey(lambda x, y: (x[0] + y[0], x[1] + y[1]))\n",
    "res_oster = res_oster.map(lambda m: (m[0][1], (m[0][0], m[1][0]/m[1][1])))\n",
    "#(month, (year, avg))\n",
    "\n",
    "res_general = res_t.filter(lambda m: m[0][1] >= 1950 and m[0][1] <= 1980)\n",
    "res_general = res_general.reduceByKey(lambda x, y: (max(x[0], y[0]), min(x[1], y[1])))\n",
    "res_general = res_general.map(lambda m: (m[0][0:3], (sum(m[1]), 2)))\n",
    "res_general = res_general.reduceByKey(lambda x, y: (x[0] + y[0], x[1] + y[1]))\n",
    "# Drops station\n",
    "res_general = res_general.map(lambda m: ((m[0][1], m[0][2]), (m[1][0]/m[1][1], 1)))\n",
    "# Drops year\n",
    "#res_general = res_general.map(lambda m: ((m[0][0], m[0][2]), (m[1][0]/m[1][1], 1)))\n",
    "res_general = res_general.reduceByKey(lambda x, y: (x[0] + y[0], x[1] + y[1]))\n",
    "res_general = res_general.map(lambda m: (m[0][1], (m[1][0]/m[1][1], 1)))\n",
    "res_general = res_general.reduceByKey(lambda x, y: (x[0] + y[0], x[1] + y[1]))\n",
    "res_general = res_general.map(lambda m: (m[0], m[1][0]/m[1][1]))\n",
    "#(month, avg)\n",
    "\n",
    "res = res_general.join(res_oster)\n",
    "#(1, (-5.896814611496512, (2012, -1.5940352235658504))) # Just format, don't use the numbers\n",
    "\n",
    "res = res.map(lambda m: (m[1][1][0], m[0], m[1][1][1] - m[1][0]))\n",
    "res = res.sortBy(lambda m: (m[0], m[1]), ascending=True)\n",
    "\n",
    "global df\n",
    "df = pd.DataFrame(res.collect(), columns=['year', 'month', 'temperature-difference'])\n",
    "# Next line is needed for plotting\n",
    "df['date'] = df['year'].map(str) + \"-\" + df['month'].map(str) + \"-01\""
   ]
  },
  {
   "cell_type": "code",
   "execution_count": 22,
   "metadata": {},
   "outputs": [
    {
     "data": {
      "text/html": [
       "<div>\n",
       "<style scoped>\n",
       "    .dataframe tbody tr th:only-of-type {\n",
       "        vertical-align: middle;\n",
       "    }\n",
       "\n",
       "    .dataframe tbody tr th {\n",
       "        vertical-align: top;\n",
       "    }\n",
       "\n",
       "    .dataframe thead th {\n",
       "        text-align: right;\n",
       "    }\n",
       "</style>\n",
       "<table border=\"1\" class=\"dataframe\">\n",
       "  <thead>\n",
       "    <tr style=\"text-align: right;\">\n",
       "      <th></th>\n",
       "      <th>year</th>\n",
       "      <th>month</th>\n",
       "      <th>temperature-difference</th>\n",
       "      <th>date</th>\n",
       "    </tr>\n",
       "  </thead>\n",
       "  <tbody>\n",
       "    <tr>\n",
       "      <th>0</th>\n",
       "      <td>1950</td>\n",
       "      <td>1</td>\n",
       "      <td>0.681693</td>\n",
       "      <td>1950-1-01</td>\n",
       "    </tr>\n",
       "    <tr>\n",
       "      <th>1</th>\n",
       "      <td>1950</td>\n",
       "      <td>2</td>\n",
       "      <td>4.439573</td>\n",
       "      <td>1950-2-01</td>\n",
       "    </tr>\n",
       "    <tr>\n",
       "      <th>2</th>\n",
       "      <td>1950</td>\n",
       "      <td>3</td>\n",
       "      <td>4.090392</td>\n",
       "      <td>1950-3-01</td>\n",
       "    </tr>\n",
       "    <tr>\n",
       "      <th>3</th>\n",
       "      <td>1950</td>\n",
       "      <td>4</td>\n",
       "      <td>3.262071</td>\n",
       "      <td>1950-4-01</td>\n",
       "    </tr>\n",
       "    <tr>\n",
       "      <th>4</th>\n",
       "      <td>1950</td>\n",
       "      <td>5</td>\n",
       "      <td>2.630177</td>\n",
       "      <td>1950-5-01</td>\n",
       "    </tr>\n",
       "    <tr>\n",
       "      <th>5</th>\n",
       "      <td>1950</td>\n",
       "      <td>6</td>\n",
       "      <td>1.318929</td>\n",
       "      <td>1950-6-01</td>\n",
       "    </tr>\n",
       "    <tr>\n",
       "      <th>6</th>\n",
       "      <td>1950</td>\n",
       "      <td>7</td>\n",
       "      <td>-0.259488</td>\n",
       "      <td>1950-7-01</td>\n",
       "    </tr>\n",
       "    <tr>\n",
       "      <th>7</th>\n",
       "      <td>1950</td>\n",
       "      <td>8</td>\n",
       "      <td>1.624565</td>\n",
       "      <td>1950-8-01</td>\n",
       "    </tr>\n",
       "    <tr>\n",
       "      <th>8</th>\n",
       "      <td>1950</td>\n",
       "      <td>9</td>\n",
       "      <td>1.845451</td>\n",
       "      <td>1950-9-01</td>\n",
       "    </tr>\n",
       "    <tr>\n",
       "      <th>9</th>\n",
       "      <td>1950</td>\n",
       "      <td>10</td>\n",
       "      <td>1.362217</td>\n",
       "      <td>1950-10-01</td>\n",
       "    </tr>\n",
       "  </tbody>\n",
       "</table>\n",
       "</div>"
      ],
      "text/plain": [
       "   year  month  temperature-difference        date\n",
       "0  1950      1                0.681693   1950-1-01\n",
       "1  1950      2                4.439573   1950-2-01\n",
       "2  1950      3                4.090392   1950-3-01\n",
       "3  1950      4                3.262071   1950-4-01\n",
       "4  1950      5                2.630177   1950-5-01\n",
       "5  1950      6                1.318929   1950-6-01\n",
       "6  1950      7               -0.259488   1950-7-01\n",
       "7  1950      8                1.624565   1950-8-01\n",
       "8  1950      9                1.845451   1950-9-01\n",
       "9  1950     10                1.362217  1950-10-01"
      ]
     },
     "execution_count": 22,
     "metadata": {},
     "output_type": "execute_result"
    }
   ],
   "source": [
    "df.head(10)"
   ]
  },
  {
   "cell_type": "code",
   "execution_count": 23,
   "metadata": {},
   "outputs": [],
   "source": [
    "# Difference by Year-Month\n",
    "df['date'] = df['year'].map(str) + \"-\" + df['month'].map(str)\n",
    "df.plot.line(x = 'date', y = 'temperature-difference', figsize=(15,10), title = \"Difference by Year-Month\");"
   ]
  },
  {
   "cell_type": "code",
   "execution_count": 24,
   "metadata": {},
   "outputs": [
    {
     "data": {
      "text/plain": [
       "<matplotlib.axes._subplots.AxesSubplot at 0x7f6847323470>"
      ]
     },
     "execution_count": 24,
     "metadata": {},
     "output_type": "execute_result"
    },
    {
     "data": {
      "image/png": "[encoded data removed]",
      "text/plain": [
       "<Figure size 1080x720 with 1 Axes>"
      ]
     },
     "metadata": {
      "needs_background": "light"
     },
     "output_type": "display_data"
    }
   ],
   "source": [
    "# Difference by Year\n",
    "df2 = df.groupby(['year'])['temperature-difference'].mean().to_frame()\n",
    "df2.reset_index(level=0, inplace=True)\n",
    "df2.plot.line(x = 'year', y = 'temperature-difference', figsize=(15,10), title = \"Difference by Year\")"
   ]
  },
  {
   "cell_type": "markdown",
   "metadata": {},
   "source": [
    "**Comment:**  It does not seem like there is a trend across years which makes sense since we don’t expect any temperature changes in the long-term. However, we can observe that there were some years with especially large (e.g. 1990) and especially small temperature differences (e.g. 1985). Hence, the differences may vary noticeably from year to year."
   ]
  },
  {
   "cell_type": "code",
   "execution_count": 25,
   "metadata": {},
   "outputs": [
    {
     "data": {
      "image/png": "[encoded data removed]",
      "text/plain": [
       "<Figure size 1080x720 with 1 Axes>"
      ]
     },
     "metadata": {
      "needs_background": "light"
     },
     "output_type": "display_data"
    }
   ],
   "source": [
    "# Difference by Month\n",
    "df3 = df.groupby(['month'])['temperature-difference'].mean().to_frame()\n",
    "df3.reset_index(level=0, inplace=True)\n",
    "df3.plot.line(x = 'month', y = 'temperature-difference', figsize=(15,10), title = \"Difference by Month\");"
   ]
  },
  {
   "cell_type": "markdown",
   "metadata": {},
   "source": [
    "**Comment:** We can see that the differences in temperature are much larger in the winter months than in the summer months (see “Difference by Month” plot). This makes sense since we computed the difference as: Difference = Östergotland - General. We expect Östergotland to have warmer temperatures in general than more northern parts of Sweden in the Winter period and Östergotland is in the south. Our expectation is fulfilled since the difference is larger in the winter months."
   ]
  },
  {
   "cell_type": "code",
   "execution_count": 26,
   "metadata": {},
   "outputs": [],
   "source": [
    "sc.stop()"
   ]
  }
 ],
 "metadata": {
  "kernelspec": {
   "display_name": "Python 3",
   "language": "python",
   "name": "python3"
  },
  "language_info": {
   "codemirror_mode": {
    "name": "ipython",
    "version": 3
   },
   "file_extension": ".py",
   "mimetype": "text/x-python",
   "name": "python",
   "nbconvert_exporter": "python",
   "pygments_lexer": "ipython3",
   "version": "3.7.3"
  }
 },
 "nbformat": 4,
 "nbformat_minor": 2
}
