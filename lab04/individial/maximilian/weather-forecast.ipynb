{
 "cells": [
  {
   "cell_type": "markdown",
   "metadata": {},
   "source": [
    "# BDA3 - Machine Learning with Spark"
   ]
  },
  {
   "cell_type": "markdown",
   "metadata": {},
   "source": [
    "Implement in $\\text{Spark}^1$ (PySpark) a kernel method to predict the hourly temperatures for a date and place in Sweden. To do so, you should use the files `temperature-readings.csv` and `stations.csv`. Specifically, the forecast should consist of the predicted temperatures from 4 am (04:00) to 12 am (00:00) in an interval of 2 hours for a date and place in Sweden. Use a kernel that is the sum of three Gaussian kernels:\n",
    "- The first to account for the distance from a station to the point of interest.\n",
    "- The second to account for the distance between the day a temperature measurement was made and the day of interest.\n",
    "- The third to account for the distance between the hour of the day a temperature measurement was made and the hour of interest. Choose an appropriate smoothing coefficient or width for each of the three kernels above. You do not need to use cross-validation."
   ]
  },
  {
   "cell_type": "markdown",
   "metadata": {},
   "source": [
    "¹ Do not use SparkSQL"
   ]
  },
  {
   "cell_type": "markdown",
   "metadata": {},
   "source": [
    "## Questions"
   ]
  },
  {
   "cell_type": "markdown",
   "metadata": {},
   "source": [
    "1. Show that your choice for the kernels’ width is sensible, i.e. it gives more weight to closer points. Discuss why your definition of closeness is reasonable.\n",
    "2. It is quite likely that the predicted temperatures do not differ much from one another. Do you think that the reason may be that the three Gaussian kernels are independent one of another? If so, propose an improved kernel, e.g. propose an alternative way of combining the three Gaussian kernels described above."
   ]
  },
  {
   "cell_type": "markdown",
   "metadata": {},
   "source": [
    "## Help"
   ]
  },
  {
   "cell_type": "markdown",
   "metadata": {},
   "source": [
    "- Note that the file `temperature-readings.csv` may contain temperature measurements that are posterior to the day and hour of your forecast. You must filter such measurements out, i.e. they cannot be used to compute the forecast.\n",
    "- Cache the data you will reuse by using `rdd.cache()`. Check the course slides.\n",
    "- Avoid joining two RDDs. Instead, broadcast the smallest, if small enough. Check the course slides.\n",
    "- My program takes 5-6 minutes (wallclock) on the whole temperature-readings.csv. However, you may want to use a sample when implementing and testing different settings. Then, do `rdd.sample(False, 0.1)` to obtain a sample without replacement of size 10%.\n",
    "- Feel free to use the template below to solve the assignment."
   ]
  },
  {
   "cell_type": "markdown",
   "metadata": {},
   "source": [
    "## Implementation"
   ]
  },
  {
   "cell_type": "code",
   "execution_count": 1,
   "metadata": {},
   "outputs": [
    {
     "name": "stdout",
     "output_type": "stream",
     "text": [
      "--- 1841.5585887432098 seconds ---\n"
     ]
    }
   ],
   "source": [
    "import pyspark\n",
    "import datetime\n",
    "from math import exp\n",
    "import helpers\n",
    "import time\n",
    "\n",
    "# Log execuation time. %%time does not with the Jupyter Lab provided by anaconda for the pyspark environment\n",
    "start_time = time.time()\n",
    "\n",
    "# Data paths\n",
    "tr_path = \"../../../data/temperature-readings.csv\"\n",
    "sr_path = \"../../../data/stations.csv\"\n",
    "\n",
    "# Spark content and data import\n",
    "global sc\n",
    "sc = pyspark.SparkContext(appName=\"Temperature\")\n",
    "\n",
    "# Temperatures pre processing\n",
    "temperature_readings = sc.textFile(tr_path)\n",
    "# station-id, year, month, day, hour, minute, second, temperature\n",
    "# [(102170, 2013, 11, 1, 6.0, 0.0, 0.0, 6.0)]\n",
    "temperatures = temperature_readings.map(lambda l: l.split(\";\"))\n",
    "temperatures = temperatures.map(lambda m: (int(m[0]),\n",
    "                                           int(m[1].split(\"-\")[0]),\n",
    "                                           int(m[1].split(\"-\")[1]),\n",
    "                                           int(m[1].split(\"-\")[2]),\n",
    "                                           float(m[2].split(\":\")[0]),\n",
    "                                           float(m[2].split(\":\")[1]),\n",
    "                                           float(m[2].split(\":\")[2]),\n",
    "                                           float(m[3])))\n",
    "\n",
    "# Stations pre processing\n",
    "station_readings = sc.textFile(sr_path)\n",
    "stations = station_readings.map(lambda l: l.split(\";\"))\n",
    "# station-id, latitude, longitude\n",
    "# [(102170, 60.2788, 12.8538)]\n",
    "stations = stations.map(lambda m: (int(m[0]), (float(m[3]), float(m[4]))))\n",
    "\n",
    "# General parameters\n",
    "h_distance = 1/150\n",
    "h_date = 1/30\n",
    "h_time = 1/3\n",
    "\n",
    "#\n",
    "latitude = 58.4166\n",
    "longitude = 15.6333\n",
    "date = datetime.date(2000, 5, 8)\n",
    "\n",
    "# Function call parameters\n",
    "#latitude = 60.2788\n",
    "#longitude = 12.8538\n",
    "#date = datetime.date(2013, 11, 1)\n",
    "\n",
    "\n",
    "def gaussian_kernel(value, smoothing):\n",
    "    \"\"\"\n",
    "    Implementation of the gaussian kernel.\n",
    "    :param value: The value for which the kernel should be applied.\n",
    "    :param smoothing: The smoothing factor h to apply.\n",
    "    :return: The gaussian kernel applied to the given value.\n",
    "    \"\"\"\n",
    "    return exp(-(value)**2)/smoothing\n",
    "\n",
    "\n",
    "def min_distance(a, b, ring_size):\n",
    "    \"\"\"\n",
    "    Calculates the shortest distance on a ring between two points.\n",
    "    :param a: Point a.\n",
    "    :param b: Point b.\n",
    "    :param ring_size: Size of the ring\n",
    "    :return: The shortest difference between a and b on the given 1-dimensional ring.\n",
    "    \"\"\"\n",
    "    if a < 0 or a > ring_size or b < 0 or b > ring_size:\n",
    "        raise ValueError(\"Both arguments must be greater or equal to 0 and smaller or equal to ring_size.\")\n",
    "    return min(abs(a - b), ring_size - abs(a - b))\n",
    "\n",
    "\n",
    "def kernel_distance(location, rdd_temperatures, rdd_stations, smoothing, kernel):\n",
    "    \"\"\"\n",
    "    Calculates all distances from the location to the locations in the supplied RDD.\n",
    "    :param location: The given location.\n",
    "    :param rdd_temperatures: An RDD with the first entry being the latitude and the second entry the longitude.\n",
    "    :param rdd_stations: An RDD where the first entry is a tuple or list containing latitude and longitude.\n",
    "    :param smoothing: Smoothing factor for the supplied kernel.\n",
    "    :param kernel: A kernel function.\n",
    "    :return: Returns all distances from location to all locations found in rdd_temperatures.\n",
    "    \"\"\"\n",
    "    distances = rdd_temperatures.map(lambda m: helpers.haversine(location[0],\n",
    "                                                                 location[1],\n",
    "                                                                 rdd_stations.value[m[0]][0],\n",
    "                                                                 rdd_stations.value[m[0]][1]))\n",
    "    distances = distances.map(lambda m: kernel(m, smoothing))\n",
    "    return distances\n",
    "\n",
    "\n",
    "def kernel_day(day, rdd, smoothing, kernel):\n",
    "    \"\"\"\n",
    "    Calculates all distances from the given day to all dates in the supplied RDD.\n",
    "    :param day: A datetime object specifying the day of the year.\n",
    "    :param rdd: An RDD where m[1:3] contain year, month and day.\n",
    "    :param smoothing: Smoothing factor for the supplied kernel.\n",
    "    :param kernel: A kernel function.\n",
    "    :return: Returns all distances from day to all days found in RDD.\n",
    "    \"\"\"\n",
    "    differences = rdd.map(lambda m: min_distance(datetime.date(m[1], m[2], m[3]).timetuple().tm_yday,\n",
    "                                                 day.timetuple().tm_yday, 366))\n",
    "    differences = differences.map(lambda m: kernel(m, smoothing))\n",
    "    return differences\n",
    "\n",
    "\n",
    "def kernel_hour(hour, rdd, smoothing, kernel):\n",
    "    \"\"\"\n",
    "    Calculates all distances from the given hour to all hours in the supplied RDD.\n",
    "    :param hour: A datetime object specifying the hour of the day.\n",
    "    :param rdd: An RDD where m[4] is the hour of the day.\n",
    "    :param smoothing: Smoothing factor for the supplied kernel.\n",
    "    :param kernel: A kernel function.\n",
    "    :return: Returns all distances from hour to all hours found in RDD.\n",
    "    \"\"\"\n",
    "    differences = rdd.map(lambda m: min_distance(hour.timetuple().tm_hour, m[4], 24))\n",
    "    differences = differences.map(lambda m: kernel(m, smoothing))\n",
    "    return differences\n",
    "\n",
    "\n",
    "def predict_weather(latitude,\n",
    "                    longitude,\n",
    "                    predict_date,\n",
    "                    rdd_temperatures,\n",
    "                    rdd_stations,\n",
    "                    h_distance,\n",
    "                    h_date,\n",
    "                    h_time,\n",
    "                    kernel,\n",
    "                    include_product=False):\n",
    "    \"\"\"\n",
    "    Predicts the weather for the given day.\n",
    "    :param latitude: Latitude of the desired location.\n",
    "    :param longitude: Longitude of the desired location.\n",
    "    :param predict_date: The date where to predict the weather.\n",
    "    :param rdd_temperatures: An RDD containing temperature information. Check documentation on course page.\n",
    "    :param rdd_stations: An RDD containing station information. Check documentation on course page.\n",
    "    :param h_distance: Smoothing factor for the distance.\n",
    "    :param h_date: Smoothing factor for the date.\n",
    "    :param h_time: Smoothing factor for the time.\n",
    "    :param kernel: A kernel function.\n",
    "    :param include_product: Specifies if the product of the kernels should also be calculated. Default is 'False'.\n",
    "    :return: Returns a list with the predicted temperature for all even hours of the given date.\n",
    "    \"\"\"\n",
    "    # Remove all future data and cache data\n",
    "    rdd_temperatures = rdd_temperatures.filter(lambda m: datetime.date(m[1], m[2], m[3]) > predict_date).cache()\n",
    "    # Collect as a dictionary\n",
    "    rdd_stations = rdd_stations.collectAsMap()\n",
    "    # Broadcast to make available\n",
    "    rdd_stations = sc.broadcast(value=rdd_stations)\n",
    "\n",
    "    # Create the data points distributed over the day\n",
    "    hours = (4, 6, 8, 10, 12, 14, 16, 18, 20, 22)\n",
    "    daytimes = [datetime.datetime.combine(predict_date, datetime.time(hour, 0)) for hour in hours]\n",
    "    daytimes.append(datetime.datetime.combine(predict_date + datetime.timedelta(days=1), datetime.time(0, 0)))\n",
    "\n",
    "    # Call the different kernel functions\n",
    "\n",
    "    # Distance difference\n",
    "    kernel_distances = kernel_distance((latitude, longitude), rdd_temperatures, rdd_stations, h_distance,\n",
    "                                       kernel)\n",
    "\n",
    "    # Day difference\n",
    "    kernel_days = kernel_day(predict_date, rdd_temperatures, h_date, kernel)\n",
    "\n",
    "    # Hour difference\n",
    "    kernel_hours = [kernel_hour(daytime, rdd_temperatures, h_time, kernel) for daytime in daytimes]\n",
    "\n",
    "    # Combine fixed kernels\n",
    "    kernel_distance_days_sum = kernel_distances.zip(kernel_days).map(lambda m: sum(m)).cache()\n",
    "\n",
    "    if include_product:\n",
    "        kernel_distance_days_prod = kernel_distances.zip(kernel_days).map(lambda m: helpers.prod(m)).cache()\n",
    "\n",
    "    # For storing the predictions\n",
    "    temperature_predictions = [None] * len(daytimes)\n",
    "\n",
    "    for i in range(0, len(daytimes)):\n",
    "\n",
    "        # Add the non fixed kernel (moving over day)\n",
    "        kernel_sum = kernel_distance_days_sum.zip(kernel_hours[i]).map(lambda m: sum(m))\n",
    "\n",
    "        # Include the temperatures for calculations\n",
    "        res_sum = kernel_sum.zip(rdd_temperatures).map(lambda m: (m[0], m[1][7]))\n",
    "\n",
    "        # Apply the formulas from slides\n",
    "        res_sum = res_sum.map(lambda m: (m[0] * m[1], m[0]))\n",
    "        res_sum = res_sum.reduce(lambda x, y: (x[0] + y[0], x[1] + y[1]))\n",
    "\n",
    "        if include_product:\n",
    "\n",
    "            # Add the non fixed kernel (moving over day)\n",
    "            kernel_prod = kernel_distance_days_prod.zip(kernel_hours[i]).map(lambda m: helpers.prod(m))\n",
    "\n",
    "            # Include the temperatures for calculations\n",
    "            res_prod = kernel_prod.zip(rdd_temperatures).map(lambda m: (m[0], m[1][7]))\n",
    "\n",
    "            # Apply the formulas from slides\n",
    "            res_prod = res_prod.map(lambda m: (m[0] * m[1], m[0]))\n",
    "            res_prod = res_prod.reduce(lambda x, y: (x[0] + y[0], x[1] + y[1]))\n",
    "\n",
    "        # Store the result\n",
    "        result = [res_sum[0] / res_sum[1]]\n",
    "\n",
    "        if include_product:\n",
    "            result.append(res_prod[0] / res_prod[1])\n",
    "\n",
    "        temperature_predictions[i] = result\n",
    "\n",
    "    return temperature_predictions\n",
    "\n",
    "\n",
    "predicted_temperatures = predict_weather(latitude, longitude, date, temperatures, stations,\n",
    "                                         h_distance, h_date, h_date, gaussian_kernel, True)\n",
    "\n",
    "global res\n",
    "res = predicted_temperatures\n",
    "\n",
    "# Close Spark context\n",
    "sc.stop()\n",
    "\n",
    "# Print execution time\n",
    "print(\"--- %s seconds ---\" % (time.time() - start_time))"
   ]
  },
  {
   "cell_type": "code",
   "execution_count": 2,
   "metadata": {},
   "outputs": [
    {
     "data": {
      "text/plain": [
       "[[3.1804859436815702, 5.761191390207461],\n",
       " [3.922411983503885, 9.327847553827779],\n",
       " [5.204688989456752, 12.60864045006395],\n",
       " [6.322467407322575, 14.712602440525782],\n",
       " [7.075307210367795, 15.952888498452921],\n",
       " [7.010146599735342, 16.228073500469147],\n",
       " [6.4449515789729634, 15.621758618720024],\n",
       " [5.518830273803708, 13.640783286987498],\n",
       " [4.457583384680204, 10.705065563446336],\n",
       " [3.7368666849337173, 8.655144757617267],\n",
       " [3.256819081143892, 6.7421881190615185]]"
      ]
     },
     "execution_count": 2,
     "metadata": {},
     "output_type": "execute_result"
    }
   ],
   "source": [
    "res"
   ]
  },
  {
   "cell_type": "code",
   "execution_count": 3,
   "metadata": {},
   "outputs": [],
   "source": [
    "temp_pred_sum = [r[0] for r in res]\n",
    "temp_pred_prod = [r[1] for r in res]"
   ]
  },
  {
   "cell_type": "code",
   "execution_count": 4,
   "metadata": {},
   "outputs": [],
   "source": [
    "import pandas as pd\n",
    "\n",
    "data = {'hour':[4, 6, 8, 10, 12, 14, 16, 18, 20, 22, 24],\n",
    "        'temperature-prediction-sum':temp_pred_sum,\n",
    "        'temperature-prediction-prod':temp_pred_prod} \n",
    "  \n",
    "df = pd.DataFrame(data) "
   ]
  },
  {
   "cell_type": "code",
   "execution_count": 5,
   "metadata": {},
   "outputs": [
    {
     "data": {
      "text/html": [
       "<div>\n",
       "<style scoped>\n",
       "    .dataframe tbody tr th:only-of-type {\n",
       "        vertical-align: middle;\n",
       "    }\n",
       "\n",
       "    .dataframe tbody tr th {\n",
       "        vertical-align: top;\n",
       "    }\n",
       "\n",
       "    .dataframe thead th {\n",
       "        text-align: right;\n",
       "    }\n",
       "</style>\n",
       "<table border=\"1\" class=\"dataframe\">\n",
       "  <thead>\n",
       "    <tr style=\"text-align: right;\">\n",
       "      <th></th>\n",
       "      <th>hour</th>\n",
       "      <th>temperature-prediction-sum</th>\n",
       "      <th>temperature-prediction-prod</th>\n",
       "    </tr>\n",
       "  </thead>\n",
       "  <tbody>\n",
       "    <tr>\n",
       "      <th>0</th>\n",
       "      <td>4</td>\n",
       "      <td>3.180486</td>\n",
       "      <td>5.761191</td>\n",
       "    </tr>\n",
       "    <tr>\n",
       "      <th>1</th>\n",
       "      <td>6</td>\n",
       "      <td>3.922412</td>\n",
       "      <td>9.327848</td>\n",
       "    </tr>\n",
       "    <tr>\n",
       "      <th>2</th>\n",
       "      <td>8</td>\n",
       "      <td>5.204689</td>\n",
       "      <td>12.608640</td>\n",
       "    </tr>\n",
       "    <tr>\n",
       "      <th>3</th>\n",
       "      <td>10</td>\n",
       "      <td>6.322467</td>\n",
       "      <td>14.712602</td>\n",
       "    </tr>\n",
       "    <tr>\n",
       "      <th>4</th>\n",
       "      <td>12</td>\n",
       "      <td>7.075307</td>\n",
       "      <td>15.952888</td>\n",
       "    </tr>\n",
       "    <tr>\n",
       "      <th>5</th>\n",
       "      <td>14</td>\n",
       "      <td>7.010147</td>\n",
       "      <td>16.228074</td>\n",
       "    </tr>\n",
       "    <tr>\n",
       "      <th>6</th>\n",
       "      <td>16</td>\n",
       "      <td>6.444952</td>\n",
       "      <td>15.621759</td>\n",
       "    </tr>\n",
       "    <tr>\n",
       "      <th>7</th>\n",
       "      <td>18</td>\n",
       "      <td>5.518830</td>\n",
       "      <td>13.640783</td>\n",
       "    </tr>\n",
       "    <tr>\n",
       "      <th>8</th>\n",
       "      <td>20</td>\n",
       "      <td>4.457583</td>\n",
       "      <td>10.705066</td>\n",
       "    </tr>\n",
       "    <tr>\n",
       "      <th>9</th>\n",
       "      <td>22</td>\n",
       "      <td>3.736867</td>\n",
       "      <td>8.655145</td>\n",
       "    </tr>\n",
       "    <tr>\n",
       "      <th>10</th>\n",
       "      <td>24</td>\n",
       "      <td>3.256819</td>\n",
       "      <td>6.742188</td>\n",
       "    </tr>\n",
       "  </tbody>\n",
       "</table>\n",
       "</div>"
      ],
      "text/plain": [
       "    hour  temperature-prediction-sum  temperature-prediction-prod\n",
       "0      4                    3.180486                     5.761191\n",
       "1      6                    3.922412                     9.327848\n",
       "2      8                    5.204689                    12.608640\n",
       "3     10                    6.322467                    14.712602\n",
       "4     12                    7.075307                    15.952888\n",
       "5     14                    7.010147                    16.228074\n",
       "6     16                    6.444952                    15.621759\n",
       "7     18                    5.518830                    13.640783\n",
       "8     20                    4.457583                    10.705066\n",
       "9     22                    3.736867                     8.655145\n",
       "10    24                    3.256819                     6.742188"
      ]
     },
     "execution_count": 5,
     "metadata": {},
     "output_type": "execute_result"
    }
   ],
   "source": [
    "df"
   ]
  },
  {
   "cell_type": "code",
   "execution_count": 6,
   "metadata": {},
   "outputs": [],
   "source": [
    "df.reset_index(level=0, inplace=True)"
   ]
  },
  {
   "cell_type": "code",
   "execution_count": 7,
   "metadata": {},
   "outputs": [],
   "source": [
    "df.plot.line(x = 'hour', y = 'temperature-prediction-sum', figsize=(15,10), title = \"Temperature Predictions (sum of kernels)\");"
   ]
  },
  {
   "cell_type": "code",
   "execution_count": 8,
   "metadata": {},
   "outputs": [
    {
     "data": {
      "image/png": "[encoded data removed]",
      "text/plain": [
       "<Figure size 1080x720 with 1 Axes>"
      ]
     },
     "metadata": {
      "needs_background": "light"
     },
     "output_type": "display_data"
    }
   ],
   "source": [
    "df.plot.line(x = 'hour', y = 'temperature-prediction-prod', figsize=(15,10), title = \"Temperature Prediction (product of kernels)\");"
   ]
  },
  {
   "cell_type": "code",
   "execution_count": null,
   "metadata": {},
   "outputs": [],
   "source": []
  },
  {
   "cell_type": "code",
   "execution_count": null,
   "metadata": {},
   "outputs": [],
   "source": []
  }
 ],
 "metadata": {
  "kernelspec": {
   "display_name": "Python 3",
   "language": "python",
   "name": "python3"
  },
  "language_info": {
   "codemirror_mode": {
    "name": "ipython",
    "version": 3
   },
   "file_extension": ".py",
   "mimetype": "text/x-python",
   "name": "python",
   "nbconvert_exporter": "python",
   "pygments_lexer": "ipython3",
   "version": "3.7.3"
  }
 },
 "nbformat": 4,
 "nbformat_minor": 2
}
