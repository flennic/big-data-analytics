{
 "cells": [
  {
   "cell_type": "markdown",
   "metadata": {},
   "source": [
    "# BDA3 - Spark"
   ]
  },
  {
   "cell_type": "markdown",
   "metadata": {},
   "source": [
    "Submission by:\n",
    "\n",
    "- Julius Kittler (julki092)\n",
    "- Maximilian Pfundstein (maxpf364)"
   ]
  },
  {
   "cell_type": "markdown",
   "metadata": {},
   "source": [
    "***"
   ]
  },
  {
   "cell_type": "markdown",
   "metadata": {},
   "source": [
    "# Implementation"
   ]
  },
  {
   "cell_type": "markdown",
   "metadata": {},
   "source": [
    "It seems like the 00:00:00 measurements belong to the \"next day\" and are hence always at the beginning of a day (not at the end of a day). Hence, we do not filter otu 00:00:00 from a certain day if we want to make a prediction for 00:00:00 for this day since the 00:00:00 measurement would basically be for the previous day. In other words, for the 00:00:00 predictions, we keep all measurements with timestamp 23:59:59 and smaller for the prediction."
   ]
  },
  {
   "cell_type": "code",
   "execution_count": 18,
   "metadata": {},
   "outputs": [
    {
     "name": "stdout",
     "output_type": "stream",
     "text": [
      "Import data and save relevant variables to RDD...\n",
      "Broadcast the station RDD...\n",
      "Filter temp to s.t. it only contains dates before and including specified date...\n",
      "Start predictions...\n",
      "Start reduction...\n",
      "End reduction...\n",
      "### Predictions: 2000-05-08 |lon 58.4166 | lat 15.6333 ###\n",
      "\n",
      "0: 5.4756\n",
      "22: 5.7105\n",
      "20: 5.8828\n",
      "18: 6.0619\n",
      "16: 6.4134\n",
      "14: 6.7195\n",
      "12: 6.7143\n",
      "10: 6.3807\n",
      "8: 5.7063\n",
      "6: 5.1673\n",
      "4: 5.0921\n",
      "\n",
      "--- 355.3775406519572 minutes ---\n"
     ]
    }
   ],
   "source": [
    "from __future__ import division\n",
    "from math import radians, cos, sin, asin, sqrt, exp\n",
    "import datetime as dt\n",
    "from pyspark import SparkContext\n",
    "from operator import add\n",
    "import time as timer\n",
    "\n",
    "start_time = timer.time()\n",
    "\n",
    "# -----------------------------------------------------------------\n",
    "# Function definitions\n",
    "# -----------------------------------------------------------------\n",
    "\n",
    "def haversine(lonlat1, lon2, lat2):\n",
    "    \n",
    "    \"\"\"\n",
    "    Calculate the great circle distance between two points\n",
    "    on the earth (specified in decimal degrees)\n",
    "    \"\"\"\n",
    "    lon1 = lonlat1[0]\n",
    "    lat1 = lonlat1[1]\n",
    "\n",
    "    # convert decimal degrees to radians\n",
    "    lon1, lat1, lon2, lat2 = map(radians, [lon1, lat1, lon2, lat2])\n",
    "    # haversine formula\n",
    "    dlon = lon2 - lon1\n",
    "    dlat = lat2 - lat1\n",
    "    a = sin(dlat/2)**2 + cos(lat1) * cos(lat2) * sin(dlon/2)**2\n",
    "    c = 2 * asin(sqrt(a))\n",
    "    dist_km = 6367 * c\n",
    "    return(dist_km)\n",
    "\n",
    "\n",
    "def daydiff(date1, date2):\n",
    "    \n",
    "    \"\"\"\n",
    "    Calculate the difference in days. It's assumed that this difference\n",
    "    is to be computed relative to the day in the year. E.g. if we have the\n",
    "    days \"1950-01-01\" and \"2013-01-01\", the difference is 0 and if we have\n",
    "    the days \"1950-12-01\" and \"2013-01-01, the difference is 31.\n",
    "    \"\"\"\n",
    "\n",
    "    # Compute difference in days\n",
    "    dist_days = abs((date1 - date2).days) % 365\n",
    "\n",
    "    if dist_days > 365/2:\n",
    "        dist_days = 365 - dist_days\n",
    "\n",
    "    return(dist_days)\n",
    "    \n",
    "\n",
    "def hourdiff(time1, time2):\n",
    "    \n",
    "    \"\"\"\n",
    "    Calculate the difference in hours. It's assumed that this difference\n",
    "    is to be computed relative to the day. E.g. if we have the hours\n",
    "    \"23:00\" and \"01:00\", the difference is 2 hours and if we have the \n",
    "    hours \"23:00\" and \"14:00\", the difference is 9 hours.\n",
    "    \"\"\"\n",
    "\n",
    "    # Compute difference in hours\n",
    "    dist_hours = abs(time1 - time2) % 24\n",
    "\n",
    "    if dist_hours > 24/2:\n",
    "        dist_hours = 24 - dist_hours\n",
    "\n",
    "    return(dist_hours)\n",
    "\n",
    "def gaussian_kernel(dist, h):\n",
    "    return(exp(-(dist/h)**2))\n",
    "    \n",
    "    \n",
    "# -----------------------------------------------------------------\n",
    "# Parameter Preparation\n",
    "# -----------------------------------------------------------------\n",
    "    \n",
    "h_distance = 150 # Up to you\n",
    "h_date = 30 # Up to you\n",
    "h_time = 3 # Up to you\n",
    "\n",
    "# Test case\n",
    "lon = 58.4166 # Up to you\n",
    "lat = 15.6333 # Up to you\n",
    "date = \"2000-05-08\" # Up to you\n",
    "\n",
    "# -----------------------------------------------------------------\n",
    "# Execution\n",
    "# -----------------------------------------------------------------\n",
    "\n",
    "sc = SparkContext(appName = \"BDA\")\n",
    "\n",
    "# Import data and save relevant variables to RDDs\n",
    "print(\"Import data and save relevant variables to RDD...\")\n",
    "\n",
    "# stat = sc.textFile(\"/user/x_julki/data/stations.csv\").map(lambda l: l.split(\";\"))\n",
    "# temp = sc.textFile(\"/user/x_julki/data/temperature-readings.csv\").map(lambda l: l.split(\";\"))\n",
    "temp = sc.textFile(\"input/temperature-readings.csv\").map(lambda l: l.split(\";\"))\n",
    "stat = sc.textFile(\"input/stations.csv\").map(lambda l: l.split(\";\"))\n",
    "\n",
    "# ((station, date, time), temp)\n",
    "temp = temp.map(lambda l: ((int(l[0]), # station\n",
    "                           dt.datetime.strptime(str(l[1]), '%Y-%m-%d').date(), # date\n",
    "                           int(l[2][0:2])), # time\n",
    "                           float(l[3]))) # temp\n",
    "# (station, (lat, lon))\n",
    "stat = stat.map(lambda l: (int(l[0]), (float(l[3]), float(l[4]))))\n",
    "\n",
    "\n",
    "# Broadcast the station RDD\n",
    "print(\"Broadcast the station RDD...\")\n",
    "stat = stat.collectAsMap()\n",
    "stat = sc.broadcast(stat)\n",
    "\n",
    "# Filter temp to s.t. it only contains dates before and including specified date\n",
    "print(\"Filter temp to s.t. it only contains dates before and including specified date...\")\n",
    "date = dt.datetime.strptime(date, '%Y-%m-%d').date()\n",
    "temp = temp.filter(lambda l: l[0][1] <= date)\n",
    "\n",
    "\n",
    "# Do prediction for 00:00:00 based on all values\n",
    "print(\"Start predictions...\")\n",
    "times = [0] + [hr for hr in range(22, 2, -2)]\n",
    "temp = temp.map(lambda l: (l[0], (l[1], \n",
    "                                  float(gaussian_kernel(haversine(stat.value[l[0][0]], lon, lat), h_distance)), # kern_distance\n",
    "                                  float(gaussian_kernel(daydiff(l[0][1], date), h_date)), # kern_date\n",
    "                                  float(gaussian_kernel(hourdiff(l[0][2], times[0]), h_time)))))#.cache() # kern_time\n",
    "pred = temp.map(lambda l: (l[1][1] + l[1][2] + l[1][3], l[1][0] * (l[1][1] + l[1][2] + l[1][3])))\n",
    "# pred = pred.coalesce(1).reduce(lambda x, y: (x[0] + y[0], x[1] +  y[1]))\n",
    "print(\"Start reduction...\")\n",
    "pred = pred.reduce(lambda x, y: (x[0] + y[0], x[1] +  y[1]))\n",
    "print(\"End reduction...\")\n",
    "pred = round(pred[1]/pred[0], 4)\n",
    "print(\"### Predictions: {} |lon {} | lat {} ###\\n\\n{}: {}\".format(date, lon, lat, times[0], pred))\n",
    "preds = [pred]\n",
    "\n",
    "# Do prediction for 22:00:00, 20:00:00, ..., 04:00:00\n",
    "for time in times[1:]:\n",
    "    \n",
    "    # Drop time for the time to predict and all times afterwards\n",
    "    temp = temp.filter(lambda l: not (l[0][1] == date and l[0][2] >= time))#.cache()\n",
    "    \n",
    "    pred = temp.map(lambda l: (l[0], (l[1][0], l[1][1], l[1][2], # keep temp, kern_distance, kern_date from previous computation\n",
    "                                      float(gaussian_kernel(hourdiff(l[0][2], time), h_time))))) # kern_time is computed newly\n",
    "    pred = pred.map(lambda l: (l[1][1] + l[1][2] + l[1][3], l[1][0] * (l[1][1] + l[1][2] + l[1][3])))\n",
    "    pred = pred.coalesce(1).reduce(lambda x, y: (x[0] + y[0], x[1] +  y[1]))\n",
    "    pred = round(pred[1]/pred[0], 4)\n",
    "    print(\"{}: {}\".format(time, pred))\n",
    "    preds += [pred]\n",
    "\n",
    "res = sc.parallelize(((time, pred) for time, pred in zip(times, preds))).coalesce(1).saveAsTextFile(\"BDA3_results/temperature-predictions.txt\")\n",
    "\n",
    "sc.stop()\n",
    "\n",
    "print(\"\\n--- %s minutes ---\" % ((timer.time() - start_time)/60))"
   ]
  },
  {
   "cell_type": "markdown",
   "metadata": {},
   "source": [
    "# Question 1 (TODO)"
   ]
  },
  {
   "cell_type": "code",
   "execution_count": null,
   "metadata": {},
   "outputs": [],
   "source": []
  },
  {
   "cell_type": "markdown",
   "metadata": {},
   "source": [
    "# Question 1 (TODO)"
   ]
  },
  {
   "cell_type": "code",
   "execution_count": 20,
   "metadata": {},
   "outputs": [
    {
     "data": {
      "image/png": "[encoded data removed]",
      "text/plain": [
       "<Figure size 720x576 with 1 Axes>"
      ]
     },
     "metadata": {
      "needs_background": "light"
     },
     "output_type": "display_data"
    }
   ],
   "source": [
    "from matplotlib import pyplot as plt\n",
    "\n",
    "plt.rcParams['figure.figsize'] = (10.0, 8.0)\n",
    "times = [dt.datetime.strptime('00:00:00', '%H:%M:%S').time()] + [dt.time(hr, 0) for hr in range(22, 2, -2)]\n",
    "times = [str(time.hour) for time in times][::-1]\n",
    "plt.title(\"Temperature by Time\")\n",
    "plt.plot(times, preds)\n",
    "plt.show()"
   ]
  }
 ],
 "metadata": {
  "kernelspec": {
   "display_name": "Python 3",
   "language": "python",
   "name": "python3"
  },
  "language_info": {
   "codemirror_mode": {
    "name": "ipython",
    "version": 3
   },
   "file_extension": ".py",
   "mimetype": "text/x-python",
   "name": "python",
   "nbconvert_exporter": "python",
   "pygments_lexer": "ipython3",
   "version": "3.7.3"
  }
 },
 "nbformat": 4,
 "nbformat_minor": 2
}
