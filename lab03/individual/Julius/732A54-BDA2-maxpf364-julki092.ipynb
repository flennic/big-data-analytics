{
 "cells": [
  {
   "cell_type": "markdown",
   "metadata": {},
   "source": [
    "# BDA2 - Spark"
   ]
  },
  {
   "cell_type": "markdown",
   "metadata": {},
   "source": [
    "Submission by:\n",
    "\n",
    "- Julius Kittler (julki092)\n",
    "- Maximilian Pfundstein (maxpf364)"
   ]
  },
  {
   "cell_type": "markdown",
   "metadata": {},
   "source": [
    "***"
   ]
  },
  {
   "cell_type": "markdown",
   "metadata": {},
   "source": [
    "# Task 1"
   ]
  },
  {
   "cell_type": "markdown",
   "metadata": {},
   "source": [
    "**Note:** The code below was executed with temperature-readings.csv. The code would be exactly the same for `temperatures-big.csv`. Only the path would need to be adjusted. "
   ]
  },
  {
   "cell_type": "markdown",
   "metadata": {},
   "source": [
    "## year, station with the max, maxValue ORDER BY maxValue DESC"
   ]
  },
  {
   "cell_type": "markdown",
   "metadata": {},
   "source": [
    "Reference: https://stackoverflow.com/questions/612231/how-can-i-select-rows-with-maxcolumn-value-distinct-by-another-column-in-sql"
   ]
  },
  {
   "cell_type": "code",
   "execution_count": 1,
   "metadata": {},
   "outputs": [
    {
     "name": "stdout",
     "output_type": "stream",
     "text": [
      "+----+-------+--------+\n",
      "|year|station|maxValue|\n",
      "+----+-------+--------+\n",
      "|1975|  86200|    36.1|\n",
      "|1992|  63600|    35.4|\n",
      "|1994| 117160|    34.7|\n",
      "|2014|  96560|    34.4|\n",
      "|2010|  75250|    34.4|\n",
      "|1989|  63050|    33.9|\n",
      "|1982|  94050|    33.8|\n",
      "|1968| 137100|    33.7|\n",
      "|1966| 151640|    33.5|\n",
      "|1983|  98210|    33.3|\n",
      "+----+-------+--------+\n",
      "only showing top 10 rows\n",
      "\n",
      "None\n",
      "CPU times: user 829 ms, sys: 335 ms, total: 1.16 s\n",
      "Wall time: 11min 50s\n"
     ]
    }
   ],
   "source": [
    "%%time\n",
    "\n",
    "import pyspark\n",
    "from pyspark.sql.functions import *\n",
    "from pyspark.sql import SQLContext\n",
    "\n",
    "sc = pyspark.SparkContext(appName='BDA')\n",
    "sqlContext = SQLContext(sc)\n",
    "\n",
    "# directory = \"/user/x_julki/data/temperature-readings.csv\" # full file on hdfs\n",
    "# directory = \"./input/temperature-readings_100000.csv\" # small test file\n",
    "directory = \"./input/temperature-readings.csv\" # full file locally\n",
    "\n",
    "rdd = sc.textFile(directory)\n",
    "rdd = rdd.map(lambda l: l.split(\";\"))\n",
    "rdd = rdd.map(lambda l: (int(l[1][0:4]), int(l[0]), float(l[3])))\n",
    "df = sqlContext.createDataFrame(rdd, ['year', 'station', 'temp'])\n",
    "df.registerTempTable('rdd')\n",
    "\n",
    "df = df.filter((df['year'] >= 1950) & (df['year'] <= 2014))\n",
    "df_agg = df.groupBy('year').agg(max('temp').alias('maxValue')) # (year, max_temp per year)           \n",
    "df_res = df.join(df_agg, (df['year'] == df_agg['year']) & (df['temp'] == df_agg['maxValue']), 'inner') # joining step\n",
    "df_res = df_res.orderBy(desc('maxValue')).select([df_agg['year'], 'station','maxValue']).dropDuplicates() \n",
    "\n",
    "print(df_res.show(10))\n",
    "sc.stop()"
   ]
  },
  {
   "cell_type": "markdown",
   "metadata": {},
   "source": [
    "## year, station with the min, minValue ORDER BY minValue DESC"
   ]
  },
  {
   "cell_type": "code",
   "execution_count": 2,
   "metadata": {},
   "outputs": [
    {
     "name": "stdout",
     "output_type": "stream",
     "text": [
      "+----+-------+--------+\n",
      "|year|station|minValue|\n",
      "+----+-------+--------+\n",
      "|1990| 147270|   -35.0|\n",
      "|1990| 166870|   -35.0|\n",
      "|1952| 192830|   -35.5|\n",
      "|1974| 166870|   -35.6|\n",
      "|1974| 179950|   -35.6|\n",
      "|1954| 113410|   -36.0|\n",
      "|1992| 179960|   -36.1|\n",
      "|1975| 157860|   -37.0|\n",
      "|1972| 167860|   -37.5|\n",
      "|2000| 169860|   -37.6|\n",
      "+----+-------+--------+\n",
      "only showing top 10 rows\n",
      "\n",
      "None\n",
      "CPU times: user 151 ms, sys: 78.2 ms, total: 230 ms\n",
      "Wall time: 12min 2s\n"
     ]
    }
   ],
   "source": [
    "%%time\n",
    "\n",
    "import pyspark\n",
    "from pyspark.sql.functions import *\n",
    "from pyspark.sql import SQLContext\n",
    "\n",
    "sc = pyspark.SparkContext(appName=\"BDA\")\n",
    "sqlContext = SQLContext(sc)\n",
    "\n",
    "# directory = \"/user/x_julki/data/temperature-readings.csv\" # full file on hdfs\n",
    "# directory = \"./input/temperature-readings_100000.csv\" # small test file\n",
    "directory = \"./input/temperature-readings.csv\" # full file locally\n",
    "\n",
    "rdd = sc.textFile(directory)\n",
    "rdd = rdd.map(lambda l: l.split(\";\"))\n",
    "rdd = rdd.map(lambda l: (int(l[1][0:4]), int(l[0]), float(l[3])))\n",
    "df = sqlContext.createDataFrame(rdd, ['year', 'station', 'temp'])\n",
    "df.registerTempTable('rdd')\n",
    "\n",
    "df = df.filter((df['year'] >= 1950) & (df['year'] <= 2014))\n",
    "df_agg = df.groupBy('year').agg(min('temp').alias('minValue')) # (year, min_temp per year)           \n",
    "df_res = df.join(df_agg, (df['year'] == df_agg['year']) & (df['temp'] == df_agg['minValue']), 'inner') # joining step\n",
    "df_res = df_res.orderBy(desc('minValue')).select([df_agg['year'], 'station','minValue']).dropDuplicates() \n",
    "\n",
    "print(df_res.show(10))\n",
    "sc.stop()"
   ]
  },
  {
   "cell_type": "markdown",
   "metadata": {},
   "source": [
    "# Assignment 2"
   ]
  },
  {
   "cell_type": "markdown",
   "metadata": {},
   "source": [
    "## year, month, value ORDER BY value DESC (with duplicate stations) | built-in API functions"
   ]
  },
  {
   "cell_type": "code",
   "execution_count": 3,
   "metadata": {},
   "outputs": [
    {
     "name": "stdout",
     "output_type": "stream",
     "text": [
      "+----+-----+------+\n",
      "|year|month| value|\n",
      "+----+-----+------+\n",
      "|2014|    7|147681|\n",
      "|2011|    7|146656|\n",
      "|2010|    7|143419|\n",
      "|2012|    7|137477|\n",
      "|2013|    7|133657|\n",
      "|2009|    7|133008|\n",
      "|2011|    8|132734|\n",
      "|2009|    8|128349|\n",
      "|2013|    8|128235|\n",
      "|2003|    7|128133|\n",
      "+----+-----+------+\n",
      "only showing top 10 rows\n",
      "\n",
      "None\n",
      "CPU times: user 85.6 ms, sys: 47.5 ms, total: 133 ms\n",
      "Wall time: 5min 44s\n"
     ]
    }
   ],
   "source": [
    "%%time\n",
    "\n",
    "import pyspark\n",
    "from pyspark.sql.functions import *\n",
    "from pyspark.sql import SQLContext\n",
    "\n",
    "sc = pyspark.SparkContext(appName=\"BDA\")\n",
    "sqlContext = SQLContext(sc)\n",
    "\n",
    "# directory = \"/user/x_julki/data/temperature-readings.csv\" # full file on hdfs\n",
    "# directory = \"./input/temperature-readings_100000.csv\" # small test file\n",
    "directory = \"./input/temperature-readings.csv\" # full file locally\n",
    "\n",
    "rdd = sc.textFile(directory)\n",
    "rdd = rdd.map(lambda l: l.split(\";\"))\n",
    "rdd = rdd.map(lambda l: (int(l[1][0:4]), int(l[1][5:7]), int(l[0]), float(l[3])))\n",
    "df = sqlContext.createDataFrame(rdd, ['year', 'month', 'station', 'temp'])\n",
    "df.registerTempTable('rdd')\n",
    "\n",
    "df = df.filter((df['year'] >= 1950) & (df['year'] <= 2014)).filter(df['temp'] > 10)\n",
    "df_res = df.groupBy('year', 'month').count().withColumnRenamed('count', 'value').orderBy(desc('value'))        \n",
    "\n",
    "print(df_res.show(10))\n",
    "sc.stop()"
   ]
  },
  {
   "cell_type": "markdown",
   "metadata": {},
   "source": [
    "## year, month, value ORDER BY value DESC (with duplicate stations) | regular SQL query"
   ]
  },
  {
   "cell_type": "code",
   "execution_count": 2,
   "metadata": {},
   "outputs": [
    {
     "name": "stdout",
     "output_type": "stream",
     "text": [
      "+----+-----+------+\n",
      "|year|month| value|\n",
      "+----+-----+------+\n",
      "|2014|    7|147681|\n",
      "|2011|    7|146656|\n",
      "|2010|    7|143419|\n",
      "|2012|    7|137477|\n",
      "|2013|    7|133657|\n",
      "|2009|    7|133008|\n",
      "|2011|    8|132734|\n",
      "|2009|    8|128349|\n",
      "|2013|    8|128235|\n",
      "|2003|    7|128133|\n",
      "+----+-----+------+\n",
      "only showing top 10 rows\n",
      "\n",
      "None\n",
      "CPU times: user 77.6 ms, sys: 38.7 ms, total: 116 ms\n",
      "Wall time: 4min 28s\n"
     ]
    }
   ],
   "source": [
    "%%time\n",
    "\n",
    "import pyspark\n",
    "from pyspark.sql.functions import *\n",
    "from pyspark.sql import SQLContext\n",
    "\n",
    "sc = pyspark.SparkContext(appName=\"BDA\")\n",
    "sqlContext = SQLContext(sc)\n",
    "\n",
    "# directory = \"/user/x_julki/data/temperature-readings.csv\" # full file on hdfs\n",
    "# directory = \"./input/temperature-readings_100000.csv\" # small test file\n",
    "directory = \"./input/temperature-readings.csv\" # full file locally\n",
    "\n",
    "rdd = sc.textFile(directory)\n",
    "rdd = rdd.map(lambda l: l.split(\";\"))\n",
    "rdd = rdd.map(lambda l: (int(l[1][0:4]), int(l[1][5:7]), int(l[0]), float(l[3])))\n",
    "df = sqlContext.createDataFrame(rdd, ['year', 'month', 'station', 'temp'])\n",
    "df.registerTempTable('rdd')\n",
    "\n",
    "df_res = sqlContext.sql(\"\"\"SELECT year, month, count(station) as value FROM rdd \n",
    "                        WHERE year >= 1950 AND year >= 1950 AND temp > 10\n",
    "                        GROUP BY year, month\n",
    "                        ORDER BY value DESC\"\"\")      \n",
    "\n",
    "print(df_res.show(10))\n",
    "sc.stop()"
   ]
  },
  {
   "cell_type": "markdown",
   "metadata": {},
   "source": [
    "## year, month, value ORDER BY value DESC (with unique stations) | built-in API functions"
   ]
  },
  {
   "cell_type": "code",
   "execution_count": 6,
   "metadata": {},
   "outputs": [
    {
     "name": "stdout",
     "output_type": "stream",
     "text": [
      "+----+-----+-----+\n",
      "|year|month|value|\n",
      "+----+-----+-----+\n",
      "|1972|   10|  378|\n",
      "|1973|    6|  377|\n",
      "|1973|    5|  377|\n",
      "|1972|    8|  376|\n",
      "|1973|    9|  376|\n",
      "|1972|    5|  375|\n",
      "|1972|    6|  375|\n",
      "|1971|    8|  375|\n",
      "|1972|    9|  375|\n",
      "|1971|    9|  374|\n",
      "+----+-----+-----+\n",
      "only showing top 10 rows\n",
      "\n",
      "None\n",
      "CPU times: user 103 ms, sys: 48.7 ms, total: 152 ms\n",
      "Wall time: 5min 53s\n"
     ]
    }
   ],
   "source": [
    "%%time\n",
    "\n",
    "import pyspark\n",
    "from pyspark.sql.functions import *\n",
    "from pyspark.sql import SQLContext\n",
    "\n",
    "sc = pyspark.SparkContext(appName=\"BDA\")\n",
    "sqlContext = SQLContext(sc)\n",
    "\n",
    "# directory = \"/user/x_julki/data/temperature-readings.csv\" # full file on hdfs\n",
    "# directory = \"./input/temperature-readings_100000.csv\" # small test file\n",
    "directory = \"./input/temperature-readings.csv\" # full file locally\n",
    "\n",
    "rdd = sc.textFile(directory)\n",
    "rdd = rdd.map(lambda l: l.split(\";\"))\n",
    "rdd = rdd.map(lambda l: (int(l[1][0:4]), int(l[1][5:7]), int(l[0]), float(l[3])))\n",
    "df = sqlContext.createDataFrame(rdd, ['year', 'month', 'station', 'temp'])\n",
    "df.registerTempTable('rdd')\n",
    "\n",
    "df = df.filter((df['year'] >= 1950) & (df['year'] <= 2014)).filter(df['temp'] > 10)\n",
    "df_res = df.groupBy('year', 'month', 'station').count().groupBy('year', 'month').count()\n",
    "df_res = df_res.withColumnRenamed('count', 'value').orderBy(desc('value'))       \n",
    "\n",
    "print(df_res.show(10))\n",
    "sc.stop()"
   ]
  },
  {
   "cell_type": "markdown",
   "metadata": {},
   "source": [
    "## year, month, value ORDER BY value DESC (with unique stations) | regular SQL query"
   ]
  },
  {
   "cell_type": "code",
   "execution_count": 3,
   "metadata": {},
   "outputs": [
    {
     "name": "stdout",
     "output_type": "stream",
     "text": [
      "+----+-----+-----+\n",
      "|year|month|value|\n",
      "+----+-----+-----+\n",
      "|1972|   10|  378|\n",
      "|1973|    6|  377|\n",
      "|1973|    5|  377|\n",
      "|1973|    9|  376|\n",
      "|1972|    8|  376|\n",
      "|1972|    6|  375|\n",
      "|1971|    8|  375|\n",
      "|1972|    9|  375|\n",
      "|1972|    5|  375|\n",
      "|1972|    7|  374|\n",
      "+----+-----+-----+\n",
      "only showing top 10 rows\n",
      "\n",
      "None\n",
      "CPU times: user 95.1 ms, sys: 55.8 ms, total: 151 ms\n",
      "Wall time: 5min 45s\n"
     ]
    }
   ],
   "source": [
    "%%time\n",
    "\n",
    "import pyspark\n",
    "from pyspark.sql.functions import *\n",
    "from pyspark.sql import SQLContext\n",
    "\n",
    "sc = pyspark.SparkContext(appName=\"BDA\")\n",
    "sqlContext = SQLContext(sc)\n",
    "\n",
    "# directory = \"/user/x_julki/data/temperature-readings.csv\" # full file on hdfs\n",
    "# directory = \"./input/temperature-readings_100000.csv\" # small test file\n",
    "directory = \"./input/temperature-readings.csv\" # full file locally\n",
    "\n",
    "rdd = sc.textFile(directory)\n",
    "rdd = rdd.map(lambda l: l.split(\";\"))\n",
    "rdd = rdd.map(lambda l: (int(l[1][0:4]), int(l[1][5:7]), int(l[0]), float(l[3])))\n",
    "df = sqlContext.createDataFrame(rdd, ['year', 'month', 'station', 'temp'])\n",
    "df.registerTempTable('rdd')\n",
    "\n",
    "df_res = sqlContext.sql(\"\"\"SELECT year, month, count(DISTINCT station) as value FROM rdd \n",
    "                        WHERE year >= 1950 AND year >= 1950 AND temp > 10\n",
    "                        GROUP BY year, month\n",
    "                        ORDER BY value DESC\"\"\")      \n",
    "\n",
    "print(df_res.show(10))\n",
    "sc.stop()"
   ]
  },
  {
   "cell_type": "markdown",
   "metadata": {},
   "source": [
    "# Assignment 3"
   ]
  },
  {
   "cell_type": "markdown",
   "metadata": {},
   "source": [
    "## year, month, station, avgMonthlyTemperature ORDER BY avgMonthlyTemperature DESC"
   ]
  },
  {
   "cell_type": "code",
   "execution_count": 1,
   "metadata": {},
   "outputs": [
    {
     "name": "stdout",
     "output_type": "stream",
     "text": [
      "+----+-----+-------+---------------------+\n",
      "|year|month|station|avgMonthlyTemperature|\n",
      "+----+-----+-------+---------------------+\n",
      "|2014|    7|  96000|                 26.3|\n",
      "|1994|    7|  96550|   23.071052631578947|\n",
      "|1983|    8|  54550|                 23.0|\n",
      "|1994|    7|  78140|   22.970967741935485|\n",
      "|1994|    7|  85280|   22.872580645161293|\n",
      "|1994|    7|  75120|    22.85806451612903|\n",
      "|1994|    7|  65450|    22.85645161290322|\n",
      "|1994|    7|  96000|    22.80806451612904|\n",
      "|1994|    7|  95160|    22.76451612903226|\n",
      "|1994|    7|  86200|    22.71129032258064|\n",
      "+----+-----+-------+---------------------+\n",
      "only showing top 10 rows\n",
      "\n",
      "None\n",
      "CPU times: user 752 ms, sys: 282 ms, total: 1.03 s\n",
      "Wall time: 6min 56s\n"
     ]
    }
   ],
   "source": [
    "%%time\n",
    "\n",
    "import pyspark\n",
    "from pyspark.sql.functions import *\n",
    "from pyspark.sql import SQLContext\n",
    "\n",
    "sc = pyspark.SparkContext(appName=\"BDA\")\n",
    "sqlContext = SQLContext(sc)\n",
    "\n",
    "# directory = \"/user/x_julki/data/temperature-readings.csv\" # full file on hdfs\n",
    "# directory = \"./input/temperature-readings_100000.csv\" # small test file\n",
    "directory = \"./input/temperature-readings.csv\" # full file locally\n",
    "\n",
    "rdd = sc.textFile(directory)\n",
    "rdd = rdd.map(lambda l: l.split(\";\"))\n",
    "rdd = rdd.map(lambda l: (int(l[1][0:4]), int(l[1][5:7]), int(l[1][8:10]), int(l[0]), float(l[3])))\n",
    "df = sqlContext.createDataFrame(rdd, ['year', 'month', 'day', 'station', 'temp'])\n",
    "df.registerTempTable('rdd')\n",
    "\n",
    "df = df.filter((df['year'] >= 1960) & (df['year'] <= 2014))\n",
    "df_res = df.groupBy('year', 'month', 'station', 'day').agg(((min('temp') + max('temp'))/2).alias('avgDailyTemperature'))\n",
    "df_res = df_res.groupBy('year', 'month', 'station').agg(mean('avgDailyTemperature').alias('avgMonthlyTemperature'))\n",
    "df_res = df_res.select(['year', 'month', 'station', 'avgMonthlyTemperature']).orderBy(desc('avgMonthlyTemperature'))       \n",
    "\n",
    "print(df_res.show(10))\n",
    "sc.stop()"
   ]
  },
  {
   "cell_type": "markdown",
   "metadata": {},
   "source": [
    "# Assignment 4"
   ]
  },
  {
   "cell_type": "code",
   "execution_count": 1,
   "metadata": {},
   "outputs": [
    {
     "name": "stdout",
     "output_type": "stream",
     "text": [
      "+-------+-------+---------------------+\n",
      "|station|maxTemp|maxDailyPrecipitation|\n",
      "+-------+-------+---------------------+\n",
      "+-------+-------+---------------------+\n",
      "\n",
      "None\n",
      "CPU times: user 723 ms, sys: 275 ms, total: 998 ms\n",
      "Wall time: 33.8 s\n"
     ]
    }
   ],
   "source": [
    "%%time\n",
    "\n",
    "import pyspark\n",
    "from pyspark.sql.functions import *\n",
    "from pyspark.sql import SQLContext\n",
    "\n",
    "sc = pyspark.SparkContext(appName=\"BDA\")\n",
    "sqlContext = SQLContext(sc)\n",
    "\n",
    "# temperature-readings ---------------------------------------------------------------------------\n",
    "\n",
    "# directory = \"/user/x_julki/data/temperature-readings.csv\" # full file on hdfs\n",
    "directory = \"./input/temperature-readings_100000.csv\" # small test file\n",
    "# directory = \"./input/temperature-readings.csv\" # full file locally\n",
    "\n",
    "rdd = sc.textFile(directory)\n",
    "rdd = rdd.map(lambda l: l.split(\";\"))\n",
    "rdd = rdd.map(lambda l: (int(l[0]), float(l[3])))\n",
    "df_temp = sqlContext.createDataFrame(rdd, ['station', 'temp'])\n",
    "df_temp.registerTempTable('rdd')\n",
    "\n",
    "df_temp = df_temp.groupBy('station').agg(max('temp').alias('maxTemp'))\n",
    "df_temp = df_temp.filter((df_temp['maxTemp'] >= 25) & (df_temp['maxTemp'] <= 30))\n",
    "\n",
    "# precipitation-readings --------------------------------------------------------------------------\n",
    "\n",
    "# directory = \"/user/x_julki/data/precipitation-readings.csv\" # full file on hdfs\n",
    "directory = \"./input/precipitation-readings_1000000.csv\" # small test file\n",
    "# directory = \"./input/precipitation-readings.csv\" # full file locally\n",
    "\n",
    "rdd = sc.textFile(directory)\n",
    "rdd = rdd.map(lambda l: l.split(\";\"))\n",
    "rdd = rdd.map(lambda l: (str(l[1][0:10]), int(l[0]), float(l[3])))\n",
    "df_prec = sqlContext.createDataFrame(rdd, ['date', 'station', 'prec'])\n",
    "df_prec.registerTempTable('rdd')\n",
    "\n",
    "df_prec = df_prec.groupBy('station', 'date').agg(max('prec').alias('maxDailyPrec'))\n",
    "df_prec = df_prec.groupBy('station').agg(min('maxDailyPrec').alias('min_maxDailyPrec'), max('maxDailyPrec').alias('max_maxDailyPrec'))\n",
    "df_prec = df_prec.filter((df_prec['min_maxDailyPrec'] >= 100) & (df_prec['max_maxDailyPrec'] <= 200))\n",
    "df_prec = df_prec.withColumnRenamed('max_maxDailyPrec', 'maxDailyPrecipitation').select(['station', 'maxDailyPrecipitation'])\n",
    "\n",
    "# join --------------------------------------------------------------------------------------------\n",
    "\n",
    "df_res = df_prec.join(df_temp, df_prec['station'] == df_temp['station'], 'inner')\n",
    "df_res = df_res.select([df_temp['station'], 'maxTemp','maxDailyPrecipitation']).orderBy(desc('station'))\n",
    "\n",
    "print(df_res.show(10))\n",
    "sc.stop()"
   ]
  },
  {
   "cell_type": "markdown",
   "metadata": {},
   "source": [
    "# Assignment 5"
   ]
  },
  {
   "cell_type": "code",
   "execution_count": 1,
   "metadata": {},
   "outputs": [
    {
     "name": "stdout",
     "output_type": "stream",
     "text": [
      "+----+-----+-----------------------+\n",
      "|year|month|avgMonthlyPrecipitation|\n",
      "+----+-----+-----------------------+\n",
      "|2016|    7|                    0.0|\n",
      "|2016|    6|                47.6625|\n",
      "|2016|    5|     29.250000000000007|\n",
      "|2016|    4|     26.900000000000006|\n",
      "|2016|    3|     19.962500000000002|\n",
      "|2016|    2|                21.5625|\n",
      "|2016|    1|     22.325000000000003|\n",
      "|2015|   12|                 28.925|\n",
      "|2015|   11|      63.88750000000001|\n",
      "|2015|   10|                 2.2625|\n",
      "+----+-----+-----------------------+\n",
      "only showing top 10 rows\n",
      "\n",
      "None\n",
      "CPU times: user 716 ms, sys: 266 ms, total: 982 ms\n",
      "Wall time: 1min 39s\n"
     ]
    }
   ],
   "source": [
    "%%time\n",
    "\n",
    "import pyspark\n",
    "from pyspark.sql.functions import *\n",
    "from pyspark.sql import SQLContext\n",
    "\n",
    "sc = pyspark.SparkContext(appName=\"BDA\")\n",
    "sqlContext = SQLContext(sc)\n",
    "\n",
    "# stations-Ostergotland ---------------------------------------------------------------------------\n",
    "\n",
    "# directory = \"/user/x_julki/data/stations-Ostergotland.csv\" # full file on hdfs\n",
    "directory = \"./input/stations-Ostergotland.csv\" # full file locally\n",
    "\n",
    "rdd = sc.textFile(directory)\n",
    "rdd = rdd.map(lambda l: l.split(\";\"))\n",
    "rdd = rdd.map(lambda l: (int(l[0]),))\n",
    "\n",
    "df_oster = sqlContext.createDataFrame(rdd, ['station'])\n",
    "df_oster.registerTempTable('rdd')\n",
    "\n",
    "df_oster = df_oster.distinct()\n",
    "\n",
    "# precipitation-readings --------------------------------------------------------------------------\n",
    "\n",
    "# directory = \"/user/x_julki/data/precipitation-readings.csv\" # full file on hdfs\n",
    "# directory = \"./input/precipitation-readings_1000000.csv\" # small test file\n",
    "directory = \"./input/precipitation-readings.csv\" # full file locally\n",
    "\n",
    "rdd = sc.textFile(directory)\n",
    "rdd = rdd.map(lambda l: l.split(\";\"))\n",
    "rdd = rdd.map(lambda l: (int(l[1][0:4]), int(l[1][5:7]), int(l[0]), float(l[3])))\n",
    "df_prec = sqlContext.createDataFrame(rdd, ['year', 'month', 'station', 'prec'])\n",
    "df_prec.registerTempTable('rdd')\n",
    "\n",
    "df_prec = df_prec.filter((df_prec['year'] >= 1993) & (df_prec['year'] <= 2016))\n",
    "\n",
    "# join --------------------------------------------------------------------------------------------\n",
    "\n",
    "df_res = df_oster.join(df_prec, df_prec['station'] == df_oster['station'], 'inner').drop(df_prec['station'])\n",
    "df_res = df_res.groupBy(['year', 'month', 'station']).agg(sum('prec').alias('totMonthlyPrecByStation'))\n",
    "df_res = df_res.groupBy(['year', 'month']).agg(mean('totMonthlyPrecByStation').alias('avgMonthlyPrecipitation'))\n",
    "df_res = df_res.select(['year', 'month','avgMonthlyPrecipitation']).orderBy(desc('year'), desc('month'))\n",
    "\n",
    "print(df_res.show(10))\n",
    "sc.stop()"
   ]
  },
  {
   "cell_type": "markdown",
   "metadata": {},
   "source": [
    "# Assignment 6"
   ]
  },
  {
   "cell_type": "code",
   "execution_count": 1,
   "metadata": {},
   "outputs": [
    {
     "name": "stdout",
     "output_type": "stream",
     "text": [
      "+----+-----+--------------------+\n",
      "|year|month|          difference|\n",
      "+----+-----+--------------------+\n",
      "|2014|   12|  -0.823889353795701|\n",
      "|2014|   11| -2.0635396726928983|\n",
      "|2014|   10| -1.5225549840378143|\n",
      "|2014|    9|-0.06105818643721...|\n",
      "|2014|    8|  0.6426470719706945|\n",
      "|2014|    7|  -2.093910775893086|\n",
      "|2014|    6|  1.8073686197315233|\n",
      "|2014|    5|-0.26719065014069976|\n",
      "|2014|    4|  -2.066193158991547|\n",
      "|2014|    3| -4.4867483435745665|\n",
      "+----+-----+--------------------+\n",
      "only showing top 10 rows\n",
      "\n",
      "None\n",
      "CPU times: user 1.02 s, sys: 466 ms, total: 1.49 s\n",
      "Wall time: 22min 34s\n"
     ]
    }
   ],
   "source": [
    "%%time\n",
    "\n",
    "import pyspark\n",
    "from pyspark.sql.functions import *\n",
    "from pyspark.sql import SQLContext\n",
    "\n",
    "sc = pyspark.SparkContext(appName=\"BDA\")\n",
    "sqlContext = SQLContext(sc)\n",
    "\n",
    "\n",
    "# stations-Ostergotland ---------------------------------------------------------------------------\n",
    "\n",
    "# directory = \"/user/x_julki/data/stations-Ostergotland.csv\" # full file on hdfs\n",
    "directory = \"./input/stations-Ostergotland.csv\" # full file locally\n",
    "\n",
    "rdd = sc.textFile(directory)\n",
    "rdd = rdd.map(lambda l: l.split(\";\"))\n",
    "rdd = rdd.map(lambda l: (int(l[0]),))\n",
    "\n",
    "df_oster = sqlContext.createDataFrame(rdd, ['station'])\n",
    "df_oster.registerTempTable('rdd')\n",
    "\n",
    "df_oster = df_oster.distinct()\n",
    "\n",
    "\n",
    "# temperature-readings ---------------------------------------------------------------------------\n",
    "\n",
    "# directory = \"/user/x_julki/data/temperature-readings.csv\" # full file on hdfs\n",
    "# directory = \"./input/temperature-readings_100000.csv\" # small test file\n",
    "directory = \"./input/temperature-readings.csv\" # full file locally\n",
    "\n",
    "rdd = sc.textFile(directory)\n",
    "rdd = rdd.map(lambda l: l.split(\";\"))\n",
    "rdd = rdd.map(lambda l: (int(l[1][0:4]), int(l[1][5:7]), int(l[1][8:10]), int(l[0]), float(l[3])))\n",
    "df_temp = sqlContext.createDataFrame(rdd, ['year', 'month', 'day', 'station', 'temp'])\n",
    "df_temp.registerTempTable('rdd')\n",
    "\n",
    "df_temp = df_temp.filter((df_temp['year'] >= 1950) & (df_temp['year'] <= 2014))\n",
    "\n",
    "# longterm (1950-1980) ----------------------------------------------------------------------------\n",
    "\n",
    "df_full = df_oster.join(df_temp, df_temp['station'] == df_oster['station'], 'inner').drop(df_temp['station'])\n",
    "\n",
    "df_full = df_full.groupBy('year', 'month', 'station', 'day').agg(((min('temp') + max('temp'))/2).alias('avgDailyTemperatureByYearByStation'))\n",
    "df_full = df_full.groupBy('year', 'month', 'station').agg(mean('avgDailyTemperatureByYearByStation').alias('avgMonthlyTemperatureByYearByStation'))\n",
    "df_full = df_full.groupBy('year', 'month').agg(mean('avgMonthlyTemperatureByYearByStation').alias('avgMonthlyTemperatureByYear'))\n",
    "\n",
    "df_longterm = df_full.filter((df_full['year'] >= 1950) & (df_full['year'] <= 1980))\n",
    "\n",
    "df_longterm = df_longterm.groupBy('month').agg(mean('avgMonthlyTemperatureByYear').alias('avgMonthlyTemperature_longterm'))\n",
    "\n",
    "\n",
    "# difference (1950-2014) --------------------------------------------------------------------------\n",
    "\n",
    "df_res = df_full.join(df_longterm, df_full['month'] == df_longterm['month'], 'inner').drop(df_longterm['month'])\n",
    "\n",
    "df_res = df_res.withColumn('difference', col('avgMonthlyTemperature_longterm') - col('avgMonthlyTemperatureByYear'))\n",
    "df_res = df_res.select(['year', 'month', 'difference']).orderBy(desc('year'), desc('month'))\n",
    "df_res.coalesce(1).write.csv('BDA2_Asg6.csv')\n",
    "                                            \n",
    "print(df_res.show(10))\n",
    "# sc.stop()"
   ]
  },
  {
   "cell_type": "markdown",
   "metadata": {},
   "source": [
    "**Plotting the difference**"
   ]
  },
  {
   "cell_type": "code",
   "execution_count": 2,
   "metadata": {},
   "outputs": [
    {
     "data": {
      "text/html": [
       "<div>\n",
       "<style scoped>\n",
       "    .dataframe tbody tr th:only-of-type {\n",
       "        vertical-align: middle;\n",
       "    }\n",
       "\n",
       "    .dataframe tbody tr th {\n",
       "        vertical-align: top;\n",
       "    }\n",
       "\n",
       "    .dataframe thead th {\n",
       "        text-align: right;\n",
       "    }\n",
       "</style>\n",
       "<table border=\"1\" class=\"dataframe\">\n",
       "  <thead>\n",
       "    <tr style=\"text-align: right;\">\n",
       "      <th></th>\n",
       "      <th>year</th>\n",
       "      <th>month</th>\n",
       "      <th>difference</th>\n",
       "    </tr>\n",
       "  </thead>\n",
       "  <tbody>\n",
       "    <tr>\n",
       "      <th>0</th>\n",
       "      <td>2014</td>\n",
       "      <td>12</td>\n",
       "      <td>-0.823889</td>\n",
       "    </tr>\n",
       "    <tr>\n",
       "      <th>1</th>\n",
       "      <td>2014</td>\n",
       "      <td>11</td>\n",
       "      <td>-2.063540</td>\n",
       "    </tr>\n",
       "    <tr>\n",
       "      <th>2</th>\n",
       "      <td>2014</td>\n",
       "      <td>10</td>\n",
       "      <td>-1.522555</td>\n",
       "    </tr>\n",
       "    <tr>\n",
       "      <th>3</th>\n",
       "      <td>2014</td>\n",
       "      <td>9</td>\n",
       "      <td>-0.061058</td>\n",
       "    </tr>\n",
       "    <tr>\n",
       "      <th>4</th>\n",
       "      <td>2014</td>\n",
       "      <td>8</td>\n",
       "      <td>0.642647</td>\n",
       "    </tr>\n",
       "  </tbody>\n",
       "</table>\n",
       "</div>"
      ],
      "text/plain": [
       "   year  month  difference\n",
       "0  2014     12   -0.823889\n",
       "1  2014     11   -2.063540\n",
       "2  2014     10   -1.522555\n",
       "3  2014      9   -0.061058\n",
       "4  2014      8    0.642647"
      ]
     },
     "execution_count": 2,
     "metadata": {},
     "output_type": "execute_result"
    }
   ],
   "source": [
    "# Prepare data for plot\n",
    "import matplotlib\n",
    "import pandas as pd\n",
    "\n",
    "df = pd.read_csv(\"BDA2_Asg6.csv/part-00000-33e3a2af-e5eb-4080-8725-8d131edbd6a8-c000.csv\", index_col=None, header=None)\n",
    "df.columns = ['year', 'month', 'difference']\n",
    "# df = df.iloc[::-1]\n",
    "df = df.apply(pd.to_numeric) # convert all columns of DataFrame to numeric\n",
    "df.head()"
   ]
  },
  {
   "cell_type": "code",
   "execution_count": 3,
   "metadata": {},
   "outputs": [],
   "source": [
    "# Difference by Year-Month\n",
    "df['date'] = df['year'].map(str) + \"-\" + df['month'].map(str)\n",
    "df.plot.line(x = 'date', y = 'difference', figsize=(15,10), title = \"Difference by Year-Month\");"
   ]
  },
  {
   "cell_type": "code",
   "execution_count": 4,
   "metadata": {},
   "outputs": [
    {
     "data": {
      "image/png": "[encoded data removed]",
      "text/plain": [
       "<Figure size 1080x720 with 1 Axes>"
      ]
     },
     "metadata": {
      "needs_background": "light"
     },
     "output_type": "display_data"
    }
   ],
   "source": [
    "# Difference by Year\n",
    "df2 = df.groupby(['year'])['difference'].mean().to_frame()\n",
    "df2.reset_index(level=0, inplace=True)\n",
    "df2.plot.line(x = 'year', y = 'difference', figsize=(15,10), title = \"Difference by Year\");"
   ]
  },
  {
   "cell_type": "markdown",
   "metadata": {},
   "source": [
    "**Comment:** It does not seem like there is a trend across years (and neither across dates) which makes sense since we don’t expect any temperature changes in the long-term. However, we can observe that there were some years with especially large (e.g. 1990) and especially small temperature differences (e.g. 1985). Hence, the differences may vary noticeably from year to year."
   ]
  },
  {
   "cell_type": "code",
   "execution_count": 6,
   "metadata": {},
   "outputs": [
    {
     "data": {
      "image/png": "[encoded data removed]",
      "text/plain": [
       "<Figure size 1080x720 with 1 Axes>"
      ]
     },
     "metadata": {
      "needs_background": "light"
     },
     "output_type": "display_data"
    }
   ],
   "source": [
    "# Difference by Month\n",
    "df3 = df.groupby(['month'])['difference'].mean().to_frame()\n",
    "df3.reset_index(level=0, inplace=True)\n",
    "df3.plot.line(x = 'month', y = 'difference', figsize=(15,10), title = \"Difference by Month\");"
   ]
  },
  {
   "cell_type": "markdown",
   "metadata": {},
   "source": [
    "**Comment:** We can see that the differences in temperature are negative in the winter months and positive in the summer months (see “Difference by Month” plot). This makes sense since we computed the difference as: Difference = General - Östergotland. We expect Östergotland to have warmer temperatures in general than more northern parts of Sweden in the Winter period (but still negative temperatures) because Östergotland is in the south. Our expectation is fulfilled."
   ]
  }
 ],
 "metadata": {
  "kernelspec": {
   "display_name": "Python 3",
   "language": "python",
   "name": "python3"
  },
  "language_info": {
   "codemirror_mode": {
    "name": "ipython",
    "version": 3
   },
   "file_extension": ".py",
   "mimetype": "text/x-python",
   "name": "python",
   "nbconvert_exporter": "python",
   "pygments_lexer": "ipython3",
   "version": "3.7.3"
  }
 },
 "nbformat": 4,
 "nbformat_minor": 2
}
