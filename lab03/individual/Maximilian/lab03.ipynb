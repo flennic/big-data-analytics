{
 "cells": [
  {
   "cell_type": "markdown",
   "metadata": {},
   "source": [
    "# BDA2 - Spark SQL"
   ]
  },
  {
   "cell_type": "markdown",
   "metadata": {},
   "source": [
    "**Submission by:**\n",
    "- Julius Kittler (julki092)\n",
    "- Maximilian Pfundstein (maxpf364)"
   ]
  },
  {
   "cell_type": "markdown",
   "metadata": {},
   "source": [
    "Redo the exercises BDA1 using Spark SQL whenever possible. There are two ways to write queries in SparkSQL - using built-in API functions or running SQL-like\n",
    "queries. To pass this lab, you need to use built-in API functions for all the questions, in addition, SQL-like queries for the second question. The slides of this link (https://www.ida.liu.se/~732A54/lab/SparkSQLQuickIntro.pdf) show some examples of Spark SQL."
   ]
  },
  {
   "cell_type": "markdown",
   "metadata": {},
   "source": [
    "## Setup"
   ]
  },
  {
   "cell_type": "markdown",
   "metadata": {},
   "source": [
    "The following code is used to prepare the data files, execute only once and **be careful!**"
   ]
  },
  {
   "cell_type": "raw",
   "metadata": {},
   "source": [
    "# Remove UTF-8 BOM\n",
    "!vim -c ':set nobomb' -c ':set fileencoding=utf-8' -c ':wq' ../data/temperature-readings.csv\n",
    "!vim -c ':set nobomb' -c ':set fileencoding=utf-8' -c ':wq' ../data/precipitation-readings.csv\n",
    "!vim -c ':set nobomb' -c ':set fileencoding=utf-8' -c ':wq' ../data/stations-Ostergotland.csv\n",
    "!vim -c ':set nobomb' -c ':set fileencoding=utf-8' -c ':wq' ../data/stations.csv\n",
    "\n",
    "#!sed '1s/^\\xEF\\xBB\\xBF//' < ../data/temperature-readings.csv > ../data/temperature-readings.csv\n",
    "#!sed '1s/^\\xEF\\xBB\\xBF//' < ../data/precipitation-readings.csv > ../data/precipitation-readings.csv\n",
    "#!sed '1s/^\\xEF\\xBB\\xBF//' < ../data/stations-Ostergotland.csv > ../data/stations-Ostergotland.csv\n",
    "#!sed '1s/^\\xEF\\xBB\\xBF//' < ../data/stations.csv > ../data/stations.csv\n",
    "\n",
    "# Create big 16GiB file\n",
    "for i in range(8):\n",
    "    !cat ../data/temperature-readings.csv >> ../data/temperature-readings-big.csv"
   ]
  },
  {
   "cell_type": "code",
   "execution_count": 1,
   "metadata": {},
   "outputs": [],
   "source": [
    "import pyspark\n",
    "import pyspark.sql\n",
    "from pyspark.sql import SQLContext, Row\n",
    "from pyspark.sql import functions as F\n",
    "from pyspark.sql import Window\n",
    "from pyspark.sql.functions import col\n",
    "import csv\n",
    "import math\n",
    "import sys\n",
    "import pandas as pd\n",
    "\n",
    "tr_path = \"../../../data/temperature-readings.csv\"\n",
    "tr_big_path = \"../../../data/temperature-readings-big.csv\"\n",
    "pr_path = \"../../../data/precipitation-readings.csv\"\n",
    "sro_path = \"../../../data/stations-Ostergotland.csv\"\n",
    "sr_path = \"../../../data/stations.csv\""
   ]
  },
  {
   "cell_type": "code",
   "execution_count": 2,
   "metadata": {},
   "outputs": [],
   "source": [
    "sc = pyspark.SparkContext(appName = \"Temperature\")\n",
    "sc_sql = pyspark.SQLContext(sc)\n",
    "\n",
    "temperature_readings = sc.textFile(tr_path)\n",
    "temperature_readings_big = sc.textFile(tr_big_path)\n",
    "precipitation_readings = sc.textFile(pr_path)\n",
    "station_oster_readings = sc.textFile(sro_path)\n",
    "station_readings = sc.textFile(sr_path)"
   ]
  },
  {
   "cell_type": "markdown",
   "metadata": {},
   "source": [
    "## Assignment 1"
   ]
  },
  {
   "cell_type": "markdown",
   "metadata": {},
   "source": [
    "What are the lowest and highest temperatures measured each year for the period 1950- 2014. Provide the lists sorted in the descending order with respect to the maximum temperature. In this exercise you will use the `temperature-readings.csv` file."
   ]
  },
  {
   "cell_type": "markdown",
   "metadata": {},
   "source": [
    "### From Previous Lab: Min and Max for each station"
   ]
  },
  {
   "cell_type": "code",
   "execution_count": 3,
   "metadata": {},
   "outputs": [
    {
     "name": "stdout",
     "output_type": "stream",
     "text": [
      "CPU times: user 61.4 ms, sys: 29 ms, total: 90.4 ms\n",
      "Wall time: 3min 15s\n"
     ]
    }
   ],
   "source": [
    "%%time\n",
    "\n",
    "res = temperature_readings.map(lambda l: l.split(\";\"))\n",
    "res = res.map(lambda p: Row(year=int(p[1].split(\"-\")[0]), temp=float(p[3])))\n",
    "res = sc_sql.createDataFrame(res)\n",
    "res = res.filter((res['year'] >= 1950) & (res['year'] <= 2014)).groupBy('year')\n",
    "res = res.agg(F.max('temp').alias('temp_max'), F.min('temp').alias('temp_min'))\n",
    "\n",
    "global df\n",
    "\n",
    "df = res.orderBy('temp_max', ascending=False).toPandas()"
   ]
  },
  {
   "cell_type": "code",
   "execution_count": 4,
   "metadata": {},
   "outputs": [
    {
     "data": {
      "text/html": [
       "<div>\n",
       "<style scoped>\n",
       "    .dataframe tbody tr th:only-of-type {\n",
       "        vertical-align: middle;\n",
       "    }\n",
       "\n",
       "    .dataframe tbody tr th {\n",
       "        vertical-align: top;\n",
       "    }\n",
       "\n",
       "    .dataframe thead th {\n",
       "        text-align: right;\n",
       "    }\n",
       "</style>\n",
       "<table border=\"1\" class=\"dataframe\">\n",
       "  <thead>\n",
       "    <tr style=\"text-align: right;\">\n",
       "      <th></th>\n",
       "      <th>year</th>\n",
       "      <th>temp_max</th>\n",
       "      <th>temp_min</th>\n",
       "    </tr>\n",
       "  </thead>\n",
       "  <tbody>\n",
       "    <tr>\n",
       "      <th>0</th>\n",
       "      <td>1975</td>\n",
       "      <td>36.1</td>\n",
       "      <td>-37.0</td>\n",
       "    </tr>\n",
       "    <tr>\n",
       "      <th>1</th>\n",
       "      <td>1992</td>\n",
       "      <td>35.4</td>\n",
       "      <td>-36.1</td>\n",
       "    </tr>\n",
       "    <tr>\n",
       "      <th>2</th>\n",
       "      <td>1994</td>\n",
       "      <td>34.7</td>\n",
       "      <td>-40.5</td>\n",
       "    </tr>\n",
       "    <tr>\n",
       "      <th>3</th>\n",
       "      <td>2014</td>\n",
       "      <td>34.4</td>\n",
       "      <td>-42.5</td>\n",
       "    </tr>\n",
       "    <tr>\n",
       "      <th>4</th>\n",
       "      <td>2010</td>\n",
       "      <td>34.4</td>\n",
       "      <td>-41.7</td>\n",
       "    </tr>\n",
       "    <tr>\n",
       "      <th>5</th>\n",
       "      <td>1989</td>\n",
       "      <td>33.9</td>\n",
       "      <td>-38.2</td>\n",
       "    </tr>\n",
       "    <tr>\n",
       "      <th>6</th>\n",
       "      <td>1982</td>\n",
       "      <td>33.8</td>\n",
       "      <td>-42.2</td>\n",
       "    </tr>\n",
       "    <tr>\n",
       "      <th>7</th>\n",
       "      <td>1968</td>\n",
       "      <td>33.7</td>\n",
       "      <td>-42.0</td>\n",
       "    </tr>\n",
       "    <tr>\n",
       "      <th>8</th>\n",
       "      <td>1966</td>\n",
       "      <td>33.5</td>\n",
       "      <td>-49.4</td>\n",
       "    </tr>\n",
       "    <tr>\n",
       "      <th>9</th>\n",
       "      <td>1983</td>\n",
       "      <td>33.3</td>\n",
       "      <td>-38.2</td>\n",
       "    </tr>\n",
       "  </tbody>\n",
       "</table>\n",
       "</div>"
      ],
      "text/plain": [
       "   year  temp_max  temp_min\n",
       "0  1975      36.1     -37.0\n",
       "1  1992      35.4     -36.1\n",
       "2  1994      34.7     -40.5\n",
       "3  2014      34.4     -42.5\n",
       "4  2010      34.4     -41.7\n",
       "5  1989      33.9     -38.2\n",
       "6  1982      33.8     -42.2\n",
       "7  1968      33.7     -42.0\n",
       "8  1966      33.5     -49.4\n",
       "9  1983      33.3     -38.2"
      ]
     },
     "execution_count": 4,
     "metadata": {},
     "output_type": "execute_result"
    }
   ],
   "source": [
    "df.head(10)"
   ]
  },
  {
   "cell_type": "markdown",
   "metadata": {},
   "source": [
    "**Task 1a:** What are the lowest and highest temperature measured each year for the period 1950 to 2014? Provide the list sorted in the descending order with respect to the maximum temperature. Extend the program to include the station number (not the station name) where the maximum/minimum temperature was measured."
   ]
  },
  {
   "cell_type": "markdown",
   "metadata": {},
   "source": [
    "### Min and Max for each station including the different station numbers"
   ]
  },
  {
   "cell_type": "code",
   "execution_count": 5,
   "metadata": {},
   "outputs": [
    {
     "name": "stdout",
     "output_type": "stream",
     "text": [
      "CPU times: user 70.7 ms, sys: 35.6 ms, total: 106 ms\n",
      "Wall time: 4min 32s\n"
     ]
    }
   ],
   "source": [
    "%%time\n",
    "\n",
    "res = temperature_readings.map(lambda l: l.split(\";\"))\n",
    "res = res.map(lambda p: Row(station=int(p[0]), year=int(p[1].split(\"-\")[0]), temp=float(p[3])))\n",
    "res = sc_sql.createDataFrame(res)\n",
    "res = res.filter((res['year'] >= 1950) & (res['year'] <= 2014))\n",
    "\n",
    "w = Window.partitionBy('year')\n",
    "\n",
    "res_max = res.withColumn('temp_max', F.max('temp').over(w)).where(F.col('temp') == F.col('temp_max')).drop('temp')\n",
    "res_min = res.withColumn('temp_min', F.min('temp').over(w)).where(F.col('temp') == F.col('temp_min')).drop('temp')\n",
    "\n",
    "global df\n",
    "\n",
    "df = res_max.join(res_min, \"year\").orderBy(['temp_max', 'year'], ascending=False).toPandas()"
   ]
  },
  {
   "cell_type": "code",
   "execution_count": 6,
   "metadata": {},
   "outputs": [
    {
     "data": {
      "text/html": [
       "<div>\n",
       "<style scoped>\n",
       "    .dataframe tbody tr th:only-of-type {\n",
       "        vertical-align: middle;\n",
       "    }\n",
       "\n",
       "    .dataframe tbody tr th {\n",
       "        vertical-align: top;\n",
       "    }\n",
       "\n",
       "    .dataframe thead th {\n",
       "        text-align: right;\n",
       "    }\n",
       "</style>\n",
       "<table border=\"1\" class=\"dataframe\">\n",
       "  <thead>\n",
       "    <tr style=\"text-align: right;\">\n",
       "      <th></th>\n",
       "      <th>year</th>\n",
       "      <th>station</th>\n",
       "      <th>temp_max</th>\n",
       "      <th>station</th>\n",
       "      <th>temp_min</th>\n",
       "    </tr>\n",
       "  </thead>\n",
       "  <tbody>\n",
       "    <tr>\n",
       "      <th>0</th>\n",
       "      <td>1975</td>\n",
       "      <td>86200</td>\n",
       "      <td>36.1</td>\n",
       "      <td>157860</td>\n",
       "      <td>-37.0</td>\n",
       "    </tr>\n",
       "    <tr>\n",
       "      <th>1</th>\n",
       "      <td>1992</td>\n",
       "      <td>63600</td>\n",
       "      <td>35.4</td>\n",
       "      <td>179960</td>\n",
       "      <td>-36.1</td>\n",
       "    </tr>\n",
       "    <tr>\n",
       "      <th>2</th>\n",
       "      <td>1994</td>\n",
       "      <td>117160</td>\n",
       "      <td>34.7</td>\n",
       "      <td>179960</td>\n",
       "      <td>-40.5</td>\n",
       "    </tr>\n",
       "    <tr>\n",
       "      <th>3</th>\n",
       "      <td>2014</td>\n",
       "      <td>96560</td>\n",
       "      <td>34.4</td>\n",
       "      <td>192840</td>\n",
       "      <td>-42.5</td>\n",
       "    </tr>\n",
       "    <tr>\n",
       "      <th>4</th>\n",
       "      <td>2010</td>\n",
       "      <td>75250</td>\n",
       "      <td>34.4</td>\n",
       "      <td>191910</td>\n",
       "      <td>-41.7</td>\n",
       "    </tr>\n",
       "    <tr>\n",
       "      <th>5</th>\n",
       "      <td>1989</td>\n",
       "      <td>63050</td>\n",
       "      <td>33.9</td>\n",
       "      <td>166870</td>\n",
       "      <td>-38.2</td>\n",
       "    </tr>\n",
       "    <tr>\n",
       "      <th>6</th>\n",
       "      <td>1982</td>\n",
       "      <td>94050</td>\n",
       "      <td>33.8</td>\n",
       "      <td>113410</td>\n",
       "      <td>-42.2</td>\n",
       "    </tr>\n",
       "    <tr>\n",
       "      <th>7</th>\n",
       "      <td>1968</td>\n",
       "      <td>137100</td>\n",
       "      <td>33.7</td>\n",
       "      <td>179950</td>\n",
       "      <td>-42.0</td>\n",
       "    </tr>\n",
       "    <tr>\n",
       "      <th>8</th>\n",
       "      <td>1966</td>\n",
       "      <td>151640</td>\n",
       "      <td>33.5</td>\n",
       "      <td>179950</td>\n",
       "      <td>-49.4</td>\n",
       "    </tr>\n",
       "    <tr>\n",
       "      <th>9</th>\n",
       "      <td>2002</td>\n",
       "      <td>78290</td>\n",
       "      <td>33.3</td>\n",
       "      <td>169860</td>\n",
       "      <td>-42.2</td>\n",
       "    </tr>\n",
       "  </tbody>\n",
       "</table>\n",
       "</div>"
      ],
      "text/plain": [
       "   year  station  temp_max  station  temp_min\n",
       "0  1975    86200      36.1   157860     -37.0\n",
       "1  1992    63600      35.4   179960     -36.1\n",
       "2  1994   117160      34.7   179960     -40.5\n",
       "3  2014    96560      34.4   192840     -42.5\n",
       "4  2010    75250      34.4   191910     -41.7\n",
       "5  1989    63050      33.9   166870     -38.2\n",
       "6  1982    94050      33.8   113410     -42.2\n",
       "7  1968   137100      33.7   179950     -42.0\n",
       "8  1966   151640      33.5   179950     -49.4\n",
       "9  2002    78290      33.3   169860     -42.2"
      ]
     },
     "execution_count": 6,
     "metadata": {},
     "output_type": "execute_result"
    }
   ],
   "source": [
    "df.head(10)"
   ]
  },
  {
   "cell_type": "markdown",
   "metadata": {},
   "source": [
    "### year, station with the max, maxValue ORDER BY maxValue DESC"
   ]
  },
  {
   "cell_type": "code",
   "execution_count": 7,
   "metadata": {},
   "outputs": [
    {
     "name": "stdout",
     "output_type": "stream",
     "text": [
      "CPU times: user 77.8 ms, sys: 10.7 ms, total: 88.5 ms\n",
      "Wall time: 3min 51s\n"
     ]
    }
   ],
   "source": [
    "%%time\n",
    "\n",
    "res = temperature_readings.map(lambda l: l.split(\";\"))\n",
    "res = res.map(lambda p: Row(station=int(p[0]), year=int(p[1].split(\"-\")[0]), temp=float(p[3])))\n",
    "res = sc_sql.createDataFrame(res)\n",
    "res = res.filter((res['year'] >= 1950) & (res['year'] <= 2014))\n",
    "\n",
    "w = Window.partitionBy('year')\n",
    "\n",
    "res_max = res.withColumn('temp_max', F.max('temp').over(w)).where(F.col('temp') == F.col('temp_max')).drop('temp')\n",
    "global df\n",
    "\n",
    "df = res_max.orderBy(['temp_max', 'year'], ascending=False).toPandas()"
   ]
  },
  {
   "cell_type": "code",
   "execution_count": 8,
   "metadata": {},
   "outputs": [
    {
     "data": {
      "text/html": [
       "<div>\n",
       "<style scoped>\n",
       "    .dataframe tbody tr th:only-of-type {\n",
       "        vertical-align: middle;\n",
       "    }\n",
       "\n",
       "    .dataframe tbody tr th {\n",
       "        vertical-align: top;\n",
       "    }\n",
       "\n",
       "    .dataframe thead th {\n",
       "        text-align: right;\n",
       "    }\n",
       "</style>\n",
       "<table border=\"1\" class=\"dataframe\">\n",
       "  <thead>\n",
       "    <tr style=\"text-align: right;\">\n",
       "      <th></th>\n",
       "      <th>station</th>\n",
       "      <th>year</th>\n",
       "      <th>temp_max</th>\n",
       "    </tr>\n",
       "  </thead>\n",
       "  <tbody>\n",
       "    <tr>\n",
       "      <th>0</th>\n",
       "      <td>86200</td>\n",
       "      <td>1975</td>\n",
       "      <td>36.1</td>\n",
       "    </tr>\n",
       "    <tr>\n",
       "      <th>1</th>\n",
       "      <td>63600</td>\n",
       "      <td>1992</td>\n",
       "      <td>35.4</td>\n",
       "    </tr>\n",
       "    <tr>\n",
       "      <th>2</th>\n",
       "      <td>117160</td>\n",
       "      <td>1994</td>\n",
       "      <td>34.7</td>\n",
       "    </tr>\n",
       "    <tr>\n",
       "      <th>3</th>\n",
       "      <td>96560</td>\n",
       "      <td>2014</td>\n",
       "      <td>34.4</td>\n",
       "    </tr>\n",
       "    <tr>\n",
       "      <th>4</th>\n",
       "      <td>75250</td>\n",
       "      <td>2010</td>\n",
       "      <td>34.4</td>\n",
       "    </tr>\n",
       "    <tr>\n",
       "      <th>5</th>\n",
       "      <td>63050</td>\n",
       "      <td>1989</td>\n",
       "      <td>33.9</td>\n",
       "    </tr>\n",
       "    <tr>\n",
       "      <th>6</th>\n",
       "      <td>94050</td>\n",
       "      <td>1982</td>\n",
       "      <td>33.8</td>\n",
       "    </tr>\n",
       "    <tr>\n",
       "      <th>7</th>\n",
       "      <td>137100</td>\n",
       "      <td>1968</td>\n",
       "      <td>33.7</td>\n",
       "    </tr>\n",
       "    <tr>\n",
       "      <th>8</th>\n",
       "      <td>151640</td>\n",
       "      <td>1966</td>\n",
       "      <td>33.5</td>\n",
       "    </tr>\n",
       "    <tr>\n",
       "      <th>9</th>\n",
       "      <td>78290</td>\n",
       "      <td>2002</td>\n",
       "      <td>33.3</td>\n",
       "    </tr>\n",
       "  </tbody>\n",
       "</table>\n",
       "</div>"
      ],
      "text/plain": [
       "   station  year  temp_max\n",
       "0    86200  1975      36.1\n",
       "1    63600  1992      35.4\n",
       "2   117160  1994      34.7\n",
       "3    96560  2014      34.4\n",
       "4    75250  2010      34.4\n",
       "5    63050  1989      33.9\n",
       "6    94050  1982      33.8\n",
       "7   137100  1968      33.7\n",
       "8   151640  1966      33.5\n",
       "9    78290  2002      33.3"
      ]
     },
     "execution_count": 8,
     "metadata": {},
     "output_type": "execute_result"
    }
   ],
   "source": [
    "df.head(10)"
   ]
  },
  {
   "cell_type": "markdown",
   "metadata": {},
   "source": [
    "### year, station with the min, minValue ORDER BY minValue DESC"
   ]
  },
  {
   "cell_type": "code",
   "execution_count": 9,
   "metadata": {},
   "outputs": [
    {
     "name": "stdout",
     "output_type": "stream",
     "text": [
      "CPU times: user 75.4 ms, sys: 14.3 ms, total: 89.6 ms\n",
      "Wall time: 3min 53s\n"
     ]
    }
   ],
   "source": [
    "%%time\n",
    "\n",
    "res = temperature_readings.map(lambda l: l.split(\";\"))\n",
    "res = res.map(lambda p: Row(station=int(p[0]), year=int(p[1].split(\"-\")[0]), temp=float(p[3])))\n",
    "res = sc_sql.createDataFrame(res)\n",
    "res = res.filter((res['year'] >= 1950) & (res['year'] <= 2014))\n",
    "\n",
    "w = Window.partitionBy('year')\n",
    "\n",
    "res_min = res.withColumn('temp_min', F.min('temp').over(w)).where(F.col('temp') == F.col('temp_min')).drop('temp')\n",
    "global df\n",
    "\n",
    "df = res_min.orderBy(['temp_min', 'year'], ascending=False).toPandas()"
   ]
  },
  {
   "cell_type": "code",
   "execution_count": 10,
   "metadata": {},
   "outputs": [
    {
     "data": {
      "text/html": [
       "<div>\n",
       "<style scoped>\n",
       "    .dataframe tbody tr th:only-of-type {\n",
       "        vertical-align: middle;\n",
       "    }\n",
       "\n",
       "    .dataframe tbody tr th {\n",
       "        vertical-align: top;\n",
       "    }\n",
       "\n",
       "    .dataframe thead th {\n",
       "        text-align: right;\n",
       "    }\n",
       "</style>\n",
       "<table border=\"1\" class=\"dataframe\">\n",
       "  <thead>\n",
       "    <tr style=\"text-align: right;\">\n",
       "      <th></th>\n",
       "      <th>station</th>\n",
       "      <th>year</th>\n",
       "      <th>temp_min</th>\n",
       "    </tr>\n",
       "  </thead>\n",
       "  <tbody>\n",
       "    <tr>\n",
       "      <th>0</th>\n",
       "      <td>147270</td>\n",
       "      <td>1990</td>\n",
       "      <td>-35.0</td>\n",
       "    </tr>\n",
       "    <tr>\n",
       "      <th>1</th>\n",
       "      <td>166870</td>\n",
       "      <td>1990</td>\n",
       "      <td>-35.0</td>\n",
       "    </tr>\n",
       "    <tr>\n",
       "      <th>2</th>\n",
       "      <td>192830</td>\n",
       "      <td>1952</td>\n",
       "      <td>-35.5</td>\n",
       "    </tr>\n",
       "    <tr>\n",
       "      <th>3</th>\n",
       "      <td>166870</td>\n",
       "      <td>1974</td>\n",
       "      <td>-35.6</td>\n",
       "    </tr>\n",
       "    <tr>\n",
       "      <th>4</th>\n",
       "      <td>179950</td>\n",
       "      <td>1974</td>\n",
       "      <td>-35.6</td>\n",
       "    </tr>\n",
       "    <tr>\n",
       "      <th>5</th>\n",
       "      <td>113410</td>\n",
       "      <td>1954</td>\n",
       "      <td>-36.0</td>\n",
       "    </tr>\n",
       "    <tr>\n",
       "      <th>6</th>\n",
       "      <td>179960</td>\n",
       "      <td>1992</td>\n",
       "      <td>-36.1</td>\n",
       "    </tr>\n",
       "    <tr>\n",
       "      <th>7</th>\n",
       "      <td>157860</td>\n",
       "      <td>1975</td>\n",
       "      <td>-37.0</td>\n",
       "    </tr>\n",
       "    <tr>\n",
       "      <th>8</th>\n",
       "      <td>167860</td>\n",
       "      <td>1972</td>\n",
       "      <td>-37.5</td>\n",
       "    </tr>\n",
       "    <tr>\n",
       "      <th>9</th>\n",
       "      <td>169860</td>\n",
       "      <td>2000</td>\n",
       "      <td>-37.6</td>\n",
       "    </tr>\n",
       "  </tbody>\n",
       "</table>\n",
       "</div>"
      ],
      "text/plain": [
       "   station  year  temp_min\n",
       "0   147270  1990     -35.0\n",
       "1   166870  1990     -35.0\n",
       "2   192830  1952     -35.5\n",
       "3   166870  1974     -35.6\n",
       "4   179950  1974     -35.6\n",
       "5   113410  1954     -36.0\n",
       "6   179960  1992     -36.1\n",
       "7   157860  1975     -37.0\n",
       "8   167860  1972     -37.5\n",
       "9   169860  2000     -37.6"
      ]
     },
     "execution_count": 10,
     "metadata": {},
     "output_type": "execute_result"
    }
   ],
   "source": [
    "df.head(10)"
   ]
  },
  {
   "cell_type": "markdown",
   "metadata": {},
   "source": [
    "## Assignment 2"
   ]
  },
  {
   "cell_type": "markdown",
   "metadata": {},
   "source": [
    "Count the number of readings for each month in the period of 1950-2014 which are higher than 10 degrees. Repeat the exercise, this time taking only distinct readings from each station. That is, if a station reported a reading above 10 degrees in some month, then it appears only once in the count for that month. In this exercise you will use the `temperature-readings.csv` file.\n",
    "\n",
    "The output should contain the following information:\n",
    "\n",
    "Year, month, count"
   ]
  },
  {
   "cell_type": "code",
   "execution_count": 11,
   "metadata": {},
   "outputs": [
    {
     "name": "stdout",
     "output_type": "stream",
     "text": [
      "CPU times: user 92 ms, sys: 19.8 ms, total: 112 ms\n",
      "Wall time: 3min 49s\n"
     ]
    }
   ],
   "source": [
    "%%time\n",
    "\n",
    "res = temperature_readings.map(lambda l: l.split(\";\"))\n",
    "res = res.map(lambda p: Row(station=int(p[0]), year=int(p[1].split(\"-\")[0]), month=int(p[1].split(\"-\")[1]), day=int(p[1].split(\"-\")[2]), temp=float(p[3])))\n",
    "res = sc_sql.createDataFrame(res)\n",
    "res = res.filter((res['year'] >= 1950) & (res['year'] <= 2014))\n",
    "res = res.filter(res['temp'] > 10.0)\n",
    "\n",
    "res = res.groupBy('year', 'month').count().select('year', 'month', F.col('count')).orderBy(['count', 'year', 'month'], ascending=False)\n",
    "\n",
    "global df\n",
    "df = res.toPandas()"
   ]
  },
  {
   "cell_type": "code",
   "execution_count": 12,
   "metadata": {},
   "outputs": [
    {
     "data": {
      "text/html": [
       "<div>\n",
       "<style scoped>\n",
       "    .dataframe tbody tr th:only-of-type {\n",
       "        vertical-align: middle;\n",
       "    }\n",
       "\n",
       "    .dataframe tbody tr th {\n",
       "        vertical-align: top;\n",
       "    }\n",
       "\n",
       "    .dataframe thead th {\n",
       "        text-align: right;\n",
       "    }\n",
       "</style>\n",
       "<table border=\"1\" class=\"dataframe\">\n",
       "  <thead>\n",
       "    <tr style=\"text-align: right;\">\n",
       "      <th></th>\n",
       "      <th>year</th>\n",
       "      <th>month</th>\n",
       "      <th>count</th>\n",
       "    </tr>\n",
       "  </thead>\n",
       "  <tbody>\n",
       "    <tr>\n",
       "      <th>0</th>\n",
       "      <td>2014</td>\n",
       "      <td>7</td>\n",
       "      <td>147681</td>\n",
       "    </tr>\n",
       "    <tr>\n",
       "      <th>1</th>\n",
       "      <td>2011</td>\n",
       "      <td>7</td>\n",
       "      <td>146656</td>\n",
       "    </tr>\n",
       "    <tr>\n",
       "      <th>2</th>\n",
       "      <td>2010</td>\n",
       "      <td>7</td>\n",
       "      <td>143419</td>\n",
       "    </tr>\n",
       "    <tr>\n",
       "      <th>3</th>\n",
       "      <td>2012</td>\n",
       "      <td>7</td>\n",
       "      <td>137477</td>\n",
       "    </tr>\n",
       "    <tr>\n",
       "      <th>4</th>\n",
       "      <td>2013</td>\n",
       "      <td>7</td>\n",
       "      <td>133657</td>\n",
       "    </tr>\n",
       "    <tr>\n",
       "      <th>5</th>\n",
       "      <td>2009</td>\n",
       "      <td>7</td>\n",
       "      <td>133008</td>\n",
       "    </tr>\n",
       "    <tr>\n",
       "      <th>6</th>\n",
       "      <td>2011</td>\n",
       "      <td>8</td>\n",
       "      <td>132734</td>\n",
       "    </tr>\n",
       "    <tr>\n",
       "      <th>7</th>\n",
       "      <td>2009</td>\n",
       "      <td>8</td>\n",
       "      <td>128349</td>\n",
       "    </tr>\n",
       "    <tr>\n",
       "      <th>8</th>\n",
       "      <td>2013</td>\n",
       "      <td>8</td>\n",
       "      <td>128235</td>\n",
       "    </tr>\n",
       "    <tr>\n",
       "      <th>9</th>\n",
       "      <td>2003</td>\n",
       "      <td>7</td>\n",
       "      <td>128133</td>\n",
       "    </tr>\n",
       "  </tbody>\n",
       "</table>\n",
       "</div>"
      ],
      "text/plain": [
       "   year  month   count\n",
       "0  2014      7  147681\n",
       "1  2011      7  146656\n",
       "2  2010      7  143419\n",
       "3  2012      7  137477\n",
       "4  2013      7  133657\n",
       "5  2009      7  133008\n",
       "6  2011      8  132734\n",
       "7  2009      8  128349\n",
       "8  2013      8  128235\n",
       "9  2003      7  128133"
      ]
     },
     "execution_count": 12,
     "metadata": {},
     "output_type": "execute_result"
    }
   ],
   "source": [
    "df.head(10)"
   ]
  },
  {
   "cell_type": "markdown",
   "metadata": {},
   "source": [
    "The following configuration is used for both SQL statement."
   ]
  },
  {
   "cell_type": "code",
   "execution_count": 13,
   "metadata": {},
   "outputs": [],
   "source": [
    "db_temp = temperature_readings.map(lambda l: l.split(\";\")) \\\n",
    "            .filter(lambda m: (int(m[1][:4]) >= 1950 and int(m[1][:4]) <= 2014)) \\\n",
    "            .map(lambda m: Row(station = m[0], date = m[1], year = m[1].split(\"-\")[0], month = m[1].split(\"-\")[1],\n",
    "                               time = m[2], temp = float(m[3]), quality = m[4]))\n",
    "\n",
    "schema = sc_sql.createDataFrame(db_temp)\n",
    "\n",
    "schema.registerTempTable(\"temp_schema\")"
   ]
  },
  {
   "cell_type": "code",
   "execution_count": 14,
   "metadata": {},
   "outputs": [
    {
     "name": "stdout",
     "output_type": "stream",
     "text": [
      "CPU times: user 68.4 ms, sys: 25 ms, total: 93.5 ms\n",
      "Wall time: 4min 24s\n"
     ]
    }
   ],
   "source": [
    "%%time\n",
    "\n",
    "global res\n",
    "\n",
    "res = sc_sql.sql(\"\"\"\n",
    "    SELECT year, month, COUNT(year) AS count\n",
    "    FROM temp_schema\n",
    "    WHERE year >= 1950 AND year <= 2014 and temp > 10\n",
    "    GROUP BY year, month\n",
    "    ORDER BY cast(count as integer) DESC, cast(year as integer) DESC, cast(month as integer) DESC\n",
    "\"\"\")\n",
    "\n",
    "res = res.toPandas()"
   ]
  },
  {
   "cell_type": "code",
   "execution_count": 15,
   "metadata": {},
   "outputs": [
    {
     "data": {
      "text/html": [
       "<div>\n",
       "<style scoped>\n",
       "    .dataframe tbody tr th:only-of-type {\n",
       "        vertical-align: middle;\n",
       "    }\n",
       "\n",
       "    .dataframe tbody tr th {\n",
       "        vertical-align: top;\n",
       "    }\n",
       "\n",
       "    .dataframe thead th {\n",
       "        text-align: right;\n",
       "    }\n",
       "</style>\n",
       "<table border=\"1\" class=\"dataframe\">\n",
       "  <thead>\n",
       "    <tr style=\"text-align: right;\">\n",
       "      <th></th>\n",
       "      <th>year</th>\n",
       "      <th>month</th>\n",
       "      <th>count</th>\n",
       "    </tr>\n",
       "  </thead>\n",
       "  <tbody>\n",
       "    <tr>\n",
       "      <th>0</th>\n",
       "      <td>2014</td>\n",
       "      <td>07</td>\n",
       "      <td>147681</td>\n",
       "    </tr>\n",
       "    <tr>\n",
       "      <th>1</th>\n",
       "      <td>2011</td>\n",
       "      <td>07</td>\n",
       "      <td>146656</td>\n",
       "    </tr>\n",
       "    <tr>\n",
       "      <th>2</th>\n",
       "      <td>2010</td>\n",
       "      <td>07</td>\n",
       "      <td>143419</td>\n",
       "    </tr>\n",
       "    <tr>\n",
       "      <th>3</th>\n",
       "      <td>2012</td>\n",
       "      <td>07</td>\n",
       "      <td>137477</td>\n",
       "    </tr>\n",
       "    <tr>\n",
       "      <th>4</th>\n",
       "      <td>2013</td>\n",
       "      <td>07</td>\n",
       "      <td>133657</td>\n",
       "    </tr>\n",
       "    <tr>\n",
       "      <th>5</th>\n",
       "      <td>2009</td>\n",
       "      <td>07</td>\n",
       "      <td>133008</td>\n",
       "    </tr>\n",
       "    <tr>\n",
       "      <th>6</th>\n",
       "      <td>2011</td>\n",
       "      <td>08</td>\n",
       "      <td>132734</td>\n",
       "    </tr>\n",
       "    <tr>\n",
       "      <th>7</th>\n",
       "      <td>2009</td>\n",
       "      <td>08</td>\n",
       "      <td>128349</td>\n",
       "    </tr>\n",
       "    <tr>\n",
       "      <th>8</th>\n",
       "      <td>2013</td>\n",
       "      <td>08</td>\n",
       "      <td>128235</td>\n",
       "    </tr>\n",
       "    <tr>\n",
       "      <th>9</th>\n",
       "      <td>2003</td>\n",
       "      <td>07</td>\n",
       "      <td>128133</td>\n",
       "    </tr>\n",
       "  </tbody>\n",
       "</table>\n",
       "</div>"
      ],
      "text/plain": [
       "   year month   count\n",
       "0  2014    07  147681\n",
       "1  2011    07  146656\n",
       "2  2010    07  143419\n",
       "3  2012    07  137477\n",
       "4  2013    07  133657\n",
       "5  2009    07  133008\n",
       "6  2011    08  132734\n",
       "7  2009    08  128349\n",
       "8  2013    08  128235\n",
       "9  2003    07  128133"
      ]
     },
     "execution_count": 15,
     "metadata": {},
     "output_type": "execute_result"
    }
   ],
   "source": [
    "res.head(10)"
   ]
  },
  {
   "cell_type": "markdown",
   "metadata": {},
   "source": [
    "Now we repeat the exercise where we take only distinct readings from each station."
   ]
  },
  {
   "cell_type": "code",
   "execution_count": 16,
   "metadata": {},
   "outputs": [
    {
     "name": "stdout",
     "output_type": "stream",
     "text": [
      "CPU times: user 124 ms, sys: 16.7 ms, total: 141 ms\n",
      "Wall time: 3min 37s\n"
     ]
    }
   ],
   "source": [
    "%%time\n",
    "\n",
    "res = temperature_readings.map(lambda l: l.split(\";\"))\n",
    "res = res.map(lambda p: Row(station=int(p[0]), year=int(p[1].split(\"-\")[0]), month=int(p[1].split(\"-\")[1]), temp=float(p[3])))\n",
    "res = sc_sql.createDataFrame(res)\n",
    "res = res.filter((res['year'] >= 1950) & (res['year'] <= 2014) & (res['temp'] > 10.0))\n",
    "\n",
    "res = res.groupBy('year', 'month', 'station').count().groupBy('year', 'month').count().select('year', 'month', F.col('count')).orderBy(['count', 'year', 'month'], ascending=False)\n",
    "\n",
    "global df\n",
    "df = res.toPandas()"
   ]
  },
  {
   "cell_type": "code",
   "execution_count": 17,
   "metadata": {},
   "outputs": [
    {
     "data": {
      "text/html": [
       "<div>\n",
       "<style scoped>\n",
       "    .dataframe tbody tr th:only-of-type {\n",
       "        vertical-align: middle;\n",
       "    }\n",
       "\n",
       "    .dataframe tbody tr th {\n",
       "        vertical-align: top;\n",
       "    }\n",
       "\n",
       "    .dataframe thead th {\n",
       "        text-align: right;\n",
       "    }\n",
       "</style>\n",
       "<table border=\"1\" class=\"dataframe\">\n",
       "  <thead>\n",
       "    <tr style=\"text-align: right;\">\n",
       "      <th></th>\n",
       "      <th>year</th>\n",
       "      <th>month</th>\n",
       "      <th>count</th>\n",
       "    </tr>\n",
       "  </thead>\n",
       "  <tbody>\n",
       "    <tr>\n",
       "      <th>0</th>\n",
       "      <td>1972</td>\n",
       "      <td>10</td>\n",
       "      <td>378</td>\n",
       "    </tr>\n",
       "    <tr>\n",
       "      <th>1</th>\n",
       "      <td>1973</td>\n",
       "      <td>6</td>\n",
       "      <td>377</td>\n",
       "    </tr>\n",
       "    <tr>\n",
       "      <th>2</th>\n",
       "      <td>1973</td>\n",
       "      <td>5</td>\n",
       "      <td>377</td>\n",
       "    </tr>\n",
       "    <tr>\n",
       "      <th>3</th>\n",
       "      <td>1973</td>\n",
       "      <td>9</td>\n",
       "      <td>376</td>\n",
       "    </tr>\n",
       "    <tr>\n",
       "      <th>4</th>\n",
       "      <td>1972</td>\n",
       "      <td>8</td>\n",
       "      <td>376</td>\n",
       "    </tr>\n",
       "    <tr>\n",
       "      <th>5</th>\n",
       "      <td>1972</td>\n",
       "      <td>9</td>\n",
       "      <td>375</td>\n",
       "    </tr>\n",
       "    <tr>\n",
       "      <th>6</th>\n",
       "      <td>1972</td>\n",
       "      <td>6</td>\n",
       "      <td>375</td>\n",
       "    </tr>\n",
       "    <tr>\n",
       "      <th>7</th>\n",
       "      <td>1972</td>\n",
       "      <td>5</td>\n",
       "      <td>375</td>\n",
       "    </tr>\n",
       "    <tr>\n",
       "      <th>8</th>\n",
       "      <td>1971</td>\n",
       "      <td>8</td>\n",
       "      <td>375</td>\n",
       "    </tr>\n",
       "    <tr>\n",
       "      <th>9</th>\n",
       "      <td>1972</td>\n",
       "      <td>7</td>\n",
       "      <td>374</td>\n",
       "    </tr>\n",
       "  </tbody>\n",
       "</table>\n",
       "</div>"
      ],
      "text/plain": [
       "   year  month  count\n",
       "0  1972     10    378\n",
       "1  1973      6    377\n",
       "2  1973      5    377\n",
       "3  1973      9    376\n",
       "4  1972      8    376\n",
       "5  1972      9    375\n",
       "6  1972      6    375\n",
       "7  1972      5    375\n",
       "8  1971      8    375\n",
       "9  1972      7    374"
      ]
     },
     "execution_count": 17,
     "metadata": {},
     "output_type": "execute_result"
    }
   ],
   "source": [
    "df.head(10)"
   ]
  },
  {
   "cell_type": "code",
   "execution_count": 18,
   "metadata": {},
   "outputs": [
    {
     "name": "stdout",
     "output_type": "stream",
     "text": [
      "CPU times: user 84.6 ms, sys: 38.7 ms, total: 123 ms\n",
      "Wall time: 4min 33s\n"
     ]
    }
   ],
   "source": [
    "%%time\n",
    "\n",
    "global res\n",
    "\n",
    "res = sc_sql.sql(\"\"\"\n",
    "    SELECT year, month, COUNT(year) AS count\n",
    "    FROM (\n",
    "        SELECT year, month, COUNT(year) AS count\n",
    "        FROM temp_schema\n",
    "        WHERE year >= 1950 AND year <= 2014 and temp > 10\n",
    "        GROUP BY year, month, station\n",
    "    )\n",
    "    GROUP BY year, month\n",
    "    ORDER BY cast(count as integer) DESC, cast(year as integer) DESC, cast(month as integer) DESC\n",
    "\"\"\")\n",
    "\n",
    "res = res.toPandas()"
   ]
  },
  {
   "cell_type": "code",
   "execution_count": 19,
   "metadata": {},
   "outputs": [
    {
     "data": {
      "text/html": [
       "<div>\n",
       "<style scoped>\n",
       "    .dataframe tbody tr th:only-of-type {\n",
       "        vertical-align: middle;\n",
       "    }\n",
       "\n",
       "    .dataframe tbody tr th {\n",
       "        vertical-align: top;\n",
       "    }\n",
       "\n",
       "    .dataframe thead th {\n",
       "        text-align: right;\n",
       "    }\n",
       "</style>\n",
       "<table border=\"1\" class=\"dataframe\">\n",
       "  <thead>\n",
       "    <tr style=\"text-align: right;\">\n",
       "      <th></th>\n",
       "      <th>year</th>\n",
       "      <th>month</th>\n",
       "      <th>count</th>\n",
       "    </tr>\n",
       "  </thead>\n",
       "  <tbody>\n",
       "    <tr>\n",
       "      <th>0</th>\n",
       "      <td>1972</td>\n",
       "      <td>10</td>\n",
       "      <td>378</td>\n",
       "    </tr>\n",
       "    <tr>\n",
       "      <th>1</th>\n",
       "      <td>1973</td>\n",
       "      <td>06</td>\n",
       "      <td>377</td>\n",
       "    </tr>\n",
       "    <tr>\n",
       "      <th>2</th>\n",
       "      <td>1973</td>\n",
       "      <td>05</td>\n",
       "      <td>377</td>\n",
       "    </tr>\n",
       "    <tr>\n",
       "      <th>3</th>\n",
       "      <td>1973</td>\n",
       "      <td>09</td>\n",
       "      <td>376</td>\n",
       "    </tr>\n",
       "    <tr>\n",
       "      <th>4</th>\n",
       "      <td>1972</td>\n",
       "      <td>08</td>\n",
       "      <td>376</td>\n",
       "    </tr>\n",
       "    <tr>\n",
       "      <th>5</th>\n",
       "      <td>1972</td>\n",
       "      <td>09</td>\n",
       "      <td>375</td>\n",
       "    </tr>\n",
       "    <tr>\n",
       "      <th>6</th>\n",
       "      <td>1972</td>\n",
       "      <td>06</td>\n",
       "      <td>375</td>\n",
       "    </tr>\n",
       "    <tr>\n",
       "      <th>7</th>\n",
       "      <td>1972</td>\n",
       "      <td>05</td>\n",
       "      <td>375</td>\n",
       "    </tr>\n",
       "    <tr>\n",
       "      <th>8</th>\n",
       "      <td>1971</td>\n",
       "      <td>08</td>\n",
       "      <td>375</td>\n",
       "    </tr>\n",
       "    <tr>\n",
       "      <th>9</th>\n",
       "      <td>1972</td>\n",
       "      <td>07</td>\n",
       "      <td>374</td>\n",
       "    </tr>\n",
       "  </tbody>\n",
       "</table>\n",
       "</div>"
      ],
      "text/plain": [
       "   year month  count\n",
       "0  1972    10    378\n",
       "1  1973    06    377\n",
       "2  1973    05    377\n",
       "3  1973    09    376\n",
       "4  1972    08    376\n",
       "5  1972    09    375\n",
       "6  1972    06    375\n",
       "7  1972    05    375\n",
       "8  1971    08    375\n",
       "9  1972    07    374"
      ]
     },
     "execution_count": 19,
     "metadata": {},
     "output_type": "execute_result"
    }
   ],
   "source": [
    "res.head(10)"
   ]
  },
  {
   "cell_type": "markdown",
   "metadata": {},
   "source": [
    "## Assignment 3"
   ]
  },
  {
   "cell_type": "markdown",
   "metadata": {},
   "source": [
    "Find the average monthly temperature for each available station in Sweden. Your result should include average temperature for each station for each month in the period of 1960-2014. Bear in mind that not every station has the readings for each month in this timeframe. In this exercise you will use the `temperature-readings.csvfile`.\n",
    "\n",
    "The output should contain the following information:\n",
    "\n",
    "Year, month, station number, average monthly temperature"
   ]
  },
  {
   "cell_type": "code",
   "execution_count": 20,
   "metadata": {},
   "outputs": [
    {
     "name": "stdout",
     "output_type": "stream",
     "text": [
      "CPU times: user 1.34 s, sys: 121 ms, total: 1.46 s\n",
      "Wall time: 4min\n"
     ]
    }
   ],
   "source": [
    "%%time\n",
    "\n",
    "res = temperature_readings.map(lambda l: l.split(\";\"))\n",
    "res = res.map(lambda p: Row(station=int(p[0]), year=int(p[1].split(\"-\")[0]), month=int(p[1].split(\"-\")[1]), day=int(p[1].split(\"-\")[2]), temp=float(p[3])))\n",
    "res = sc_sql.createDataFrame(res)\n",
    "res = res.filter((res['year'] >= 1960) & (res['year'] <= 2014))\n",
    "res = res.groupBy('year', 'month', 'day', 'station')\n",
    "res = res.agg(F.max('temp').alias('temp_max'), F.min('temp').alias('temp_min'))\n",
    "res = res.withColumn('davg', (res['temp_max'] + res['temp_min'])/2)\n",
    "res = res.select('year', 'month', 'day', 'station', 'davg')\n",
    "res = res.groupBy('year', 'month', 'station').agg(F.mean('davg').alias('average-temperature'))\n",
    "\n",
    "global df\n",
    "df = res.orderBy(['average-temperature', 'year', 'month', 'station'], ascending=False).toPandas()"
   ]
  },
  {
   "cell_type": "code",
   "execution_count": 21,
   "metadata": {},
   "outputs": [
    {
     "data": {
      "text/html": [
       "<div>\n",
       "<style scoped>\n",
       "    .dataframe tbody tr th:only-of-type {\n",
       "        vertical-align: middle;\n",
       "    }\n",
       "\n",
       "    .dataframe tbody tr th {\n",
       "        vertical-align: top;\n",
       "    }\n",
       "\n",
       "    .dataframe thead th {\n",
       "        text-align: right;\n",
       "    }\n",
       "</style>\n",
       "<table border=\"1\" class=\"dataframe\">\n",
       "  <thead>\n",
       "    <tr style=\"text-align: right;\">\n",
       "      <th></th>\n",
       "      <th>year</th>\n",
       "      <th>month</th>\n",
       "      <th>station</th>\n",
       "      <th>average-temperature</th>\n",
       "    </tr>\n",
       "  </thead>\n",
       "  <tbody>\n",
       "    <tr>\n",
       "      <th>0</th>\n",
       "      <td>2014</td>\n",
       "      <td>7</td>\n",
       "      <td>96000</td>\n",
       "      <td>26.300000</td>\n",
       "    </tr>\n",
       "    <tr>\n",
       "      <th>1</th>\n",
       "      <td>1994</td>\n",
       "      <td>7</td>\n",
       "      <td>96550</td>\n",
       "      <td>23.071053</td>\n",
       "    </tr>\n",
       "    <tr>\n",
       "      <th>2</th>\n",
       "      <td>1983</td>\n",
       "      <td>8</td>\n",
       "      <td>54550</td>\n",
       "      <td>23.000000</td>\n",
       "    </tr>\n",
       "    <tr>\n",
       "      <th>3</th>\n",
       "      <td>1994</td>\n",
       "      <td>7</td>\n",
       "      <td>78140</td>\n",
       "      <td>22.970968</td>\n",
       "    </tr>\n",
       "    <tr>\n",
       "      <th>4</th>\n",
       "      <td>1994</td>\n",
       "      <td>7</td>\n",
       "      <td>85280</td>\n",
       "      <td>22.872581</td>\n",
       "    </tr>\n",
       "    <tr>\n",
       "      <th>5</th>\n",
       "      <td>1994</td>\n",
       "      <td>7</td>\n",
       "      <td>75120</td>\n",
       "      <td>22.858065</td>\n",
       "    </tr>\n",
       "    <tr>\n",
       "      <th>6</th>\n",
       "      <td>1994</td>\n",
       "      <td>7</td>\n",
       "      <td>65450</td>\n",
       "      <td>22.856452</td>\n",
       "    </tr>\n",
       "    <tr>\n",
       "      <th>7</th>\n",
       "      <td>1994</td>\n",
       "      <td>7</td>\n",
       "      <td>96000</td>\n",
       "      <td>22.808065</td>\n",
       "    </tr>\n",
       "    <tr>\n",
       "      <th>8</th>\n",
       "      <td>1994</td>\n",
       "      <td>7</td>\n",
       "      <td>95160</td>\n",
       "      <td>22.764516</td>\n",
       "    </tr>\n",
       "    <tr>\n",
       "      <th>9</th>\n",
       "      <td>1994</td>\n",
       "      <td>7</td>\n",
       "      <td>86200</td>\n",
       "      <td>22.711290</td>\n",
       "    </tr>\n",
       "  </tbody>\n",
       "</table>\n",
       "</div>"
      ],
      "text/plain": [
       "   year  month  station  average-temperature\n",
       "0  2014      7    96000            26.300000\n",
       "1  1994      7    96550            23.071053\n",
       "2  1983      8    54550            23.000000\n",
       "3  1994      7    78140            22.970968\n",
       "4  1994      7    85280            22.872581\n",
       "5  1994      7    75120            22.858065\n",
       "6  1994      7    65450            22.856452\n",
       "7  1994      7    96000            22.808065\n",
       "8  1994      7    95160            22.764516\n",
       "9  1994      7    86200            22.711290"
      ]
     },
     "execution_count": 21,
     "metadata": {},
     "output_type": "execute_result"
    }
   ],
   "source": [
    "df.head(10)"
   ]
  },
  {
   "cell_type": "markdown",
   "metadata": {},
   "source": [
    "## Assignment 4"
   ]
  },
  {
   "cell_type": "markdown",
   "metadata": {},
   "source": [
    "Provide  a  list  of  stations  with  their  associated  maximum  measured  temperatures  and maximum  measured  daily  precipitation.  Show  only  those  stations  where  the  maximum temperature is between 25 and 30 degrees and maximum daily precipitation is between 100 mm and 200mm. In this exercise you will use the `temperature-readings.csv` and `precipitation-readings.csv` files. \n",
    "\n",
    "The output should contain the following information:\n",
    "\n",
    "Station number, maximum measured temperature, maximum daily precipitation"
   ]
  },
  {
   "cell_type": "code",
   "execution_count": 22,
   "metadata": {},
   "outputs": [
    {
     "name": "stdout",
     "output_type": "stream",
     "text": [
      "CPU times: user 128 ms, sys: 18.2 ms, total: 146 ms\n",
      "Wall time: 4min 18s\n"
     ]
    }
   ],
   "source": [
    "%%time\n",
    "\n",
    "res_t = temperature_readings.map(lambda l: l.split(\";\"))\n",
    "res_p = precipitation_readings.map(lambda l: l.split(\";\"))\n",
    "\n",
    "res_p = res_p.map(lambda p: Row(year=int(p[1].split(\"-\")[0]), month=int(p[1].split(\"-\")[1]), day=int(p[1].split(\"-\")[2]), station=int(p[0]), precipitation=float(p[3])))\n",
    "res_p = sc_sql.createDataFrame(res_p)\n",
    "\n",
    "res_p = res_p.groupBy('year', 'month', 'station', 'day')\n",
    "res_p = res_p.agg(F.max('precipitation').alias('precip_max'))\n",
    "res_p = res_p.groupBy('year', 'month', 'station')\n",
    "res_p = res_p.agg(F.max('precip_max').alias('pmax'), F.min('precip_max').alias('pmin'))\n",
    "res_p = res_p.filter((res_p['pmin'] >= 100.0) & (res_p['pmax'] <= 200.0))\n",
    "res_p = res_p.groupBy('station')\n",
    "res_p = res_p.agg(F.max('pmax').alias('max_daily_precipitation'))\n",
    "\n",
    "res_t = res_t.map(lambda p: Row(station=int(p[0]), temperature=float(p[3])))\n",
    "res_t = sc_sql.createDataFrame(res_t)\n",
    "\n",
    "res_t = res_t.groupBy('station')\n",
    "res_t = res_t.agg(F.max('temperature').alias('max_temperature'))\n",
    "res_t = res_t.filter((res_t['max_temperature'] > 25.0) & (res_t['max_temperature'] < 30.0))\n",
    "\n",
    "global df\n",
    "\n",
    "df = res_t.join(res_p, \"station\").orderBy('station', ascending=False).toPandas()"
   ]
  },
  {
   "cell_type": "code",
   "execution_count": 23,
   "metadata": {},
   "outputs": [
    {
     "data": {
      "text/html": [
       "<div>\n",
       "<style scoped>\n",
       "    .dataframe tbody tr th:only-of-type {\n",
       "        vertical-align: middle;\n",
       "    }\n",
       "\n",
       "    .dataframe tbody tr th {\n",
       "        vertical-align: top;\n",
       "    }\n",
       "\n",
       "    .dataframe thead th {\n",
       "        text-align: right;\n",
       "    }\n",
       "</style>\n",
       "<table border=\"1\" class=\"dataframe\">\n",
       "  <thead>\n",
       "    <tr style=\"text-align: right;\">\n",
       "      <th></th>\n",
       "      <th>station</th>\n",
       "      <th>max_temperature</th>\n",
       "      <th>max_daily_precipitation</th>\n",
       "    </tr>\n",
       "  </thead>\n",
       "  <tbody>\n",
       "  </tbody>\n",
       "</table>\n",
       "</div>"
      ],
      "text/plain": [
       "Empty DataFrame\n",
       "Columns: [station, max_temperature, max_daily_precipitation]\n",
       "Index: []"
      ]
     },
     "execution_count": 23,
     "metadata": {},
     "output_type": "execute_result"
    }
   ],
   "source": [
    "df.head()"
   ]
  },
  {
   "cell_type": "markdown",
   "metadata": {},
   "source": [
    "## Assignment 5"
   ]
  },
  {
   "cell_type": "markdown",
   "metadata": {},
   "source": [
    "Calculate the average monthly precipitation for the Östergotland region (list of stations is provided in the separate file) for the period 1993-2016. In order to do this, you will first need to calculate  the  total  monthly  precipitation  for  each  station  before calculating the monthly average (by averaging over stations). In this exercise you will use the `precipitation-readings.csv` and `stations-Ostergotland.csv` files.\n",
    "\n",
    "HINT (not for the SparkSQL lab): Avoid using joins here! `stations-Ostergotland.csv` is small  and if distributed will cause a number of unnecessary shuffles when joined with precipitation RDD. If you distribute `precipitation-readings.csv` then either repartition your stations RDD to 1 partition or make use of the collect to acquire a python list and broadcast function to broadcast the list to all nodes.\n",
    "\n",
    "The output should contain the following information:\n",
    "\n",
    "Year, month, average monthly precipitation"
   ]
  },
  {
   "cell_type": "code",
   "execution_count": 24,
   "metadata": {},
   "outputs": [
    {
     "name": "stdout",
     "output_type": "stream",
     "text": [
      "CPU times: user 87.6 ms, sys: 34.2 ms, total: 122 ms\n",
      "Wall time: 1min 16s\n"
     ]
    }
   ],
   "source": [
    "%%time\n",
    "\n",
    "res_p = precipitation_readings.map(lambda l: l.split(\";\"))\n",
    "res_s = station_oster_readings.map(lambda l: l.split(\";\"))\n",
    "\n",
    "res_s = res_s.map(lambda m: int(m[0])).collect()\n",
    "res_s = sc.broadcast(value=res_s)\n",
    "\n",
    "res_p = res_p.map(lambda p: Row(station=int(p[0]), year=int(p[1].split('-')[0]), month=int(p[1].split('-')[1]), day=int(p[1].split('-')[2]), precipitation = float(p[3])))\n",
    "res_p = sc_sql.createDataFrame(res_p)\n",
    "res_p = res_p.filter((res_p['year'] >= 1993) & (res_p['year'] <= 2016))\n",
    "\n",
    "res = res_p.where(res_p['station'].isin(res_s.value))\n",
    "\n",
    "res = res.groupBy('year', 'month', 'station').agg(F.sum('precipitation').alias('precipitation_cum'))\n",
    "res = res.groupBy('year', 'month').agg(F.avg('precipitation_cum').alias('precipitation_avg'))\n",
    "\n",
    "global df\n",
    "\n",
    "df = res.orderBy(['year', 'month'], ascending=False).toPandas()"
   ]
  },
  {
   "cell_type": "code",
   "execution_count": 25,
   "metadata": {},
   "outputs": [
    {
     "data": {
      "text/html": [
       "<div>\n",
       "<style scoped>\n",
       "    .dataframe tbody tr th:only-of-type {\n",
       "        vertical-align: middle;\n",
       "    }\n",
       "\n",
       "    .dataframe tbody tr th {\n",
       "        vertical-align: top;\n",
       "    }\n",
       "\n",
       "    .dataframe thead th {\n",
       "        text-align: right;\n",
       "    }\n",
       "</style>\n",
       "<table border=\"1\" class=\"dataframe\">\n",
       "  <thead>\n",
       "    <tr style=\"text-align: right;\">\n",
       "      <th></th>\n",
       "      <th>year</th>\n",
       "      <th>month</th>\n",
       "      <th>precipitation_avg</th>\n",
       "    </tr>\n",
       "  </thead>\n",
       "  <tbody>\n",
       "    <tr>\n",
       "      <th>0</th>\n",
       "      <td>2016</td>\n",
       "      <td>7</td>\n",
       "      <td>0.0000</td>\n",
       "    </tr>\n",
       "    <tr>\n",
       "      <th>1</th>\n",
       "      <td>2016</td>\n",
       "      <td>6</td>\n",
       "      <td>47.6625</td>\n",
       "    </tr>\n",
       "    <tr>\n",
       "      <th>2</th>\n",
       "      <td>2016</td>\n",
       "      <td>5</td>\n",
       "      <td>29.2500</td>\n",
       "    </tr>\n",
       "    <tr>\n",
       "      <th>3</th>\n",
       "      <td>2016</td>\n",
       "      <td>4</td>\n",
       "      <td>26.9000</td>\n",
       "    </tr>\n",
       "    <tr>\n",
       "      <th>4</th>\n",
       "      <td>2016</td>\n",
       "      <td>3</td>\n",
       "      <td>19.9625</td>\n",
       "    </tr>\n",
       "    <tr>\n",
       "      <th>5</th>\n",
       "      <td>2016</td>\n",
       "      <td>2</td>\n",
       "      <td>21.5625</td>\n",
       "    </tr>\n",
       "    <tr>\n",
       "      <th>6</th>\n",
       "      <td>2016</td>\n",
       "      <td>1</td>\n",
       "      <td>22.3250</td>\n",
       "    </tr>\n",
       "    <tr>\n",
       "      <th>7</th>\n",
       "      <td>2015</td>\n",
       "      <td>12</td>\n",
       "      <td>28.9250</td>\n",
       "    </tr>\n",
       "    <tr>\n",
       "      <th>8</th>\n",
       "      <td>2015</td>\n",
       "      <td>11</td>\n",
       "      <td>63.8875</td>\n",
       "    </tr>\n",
       "    <tr>\n",
       "      <th>9</th>\n",
       "      <td>2015</td>\n",
       "      <td>10</td>\n",
       "      <td>2.2625</td>\n",
       "    </tr>\n",
       "  </tbody>\n",
       "</table>\n",
       "</div>"
      ],
      "text/plain": [
       "   year  month  precipitation_avg\n",
       "0  2016      7             0.0000\n",
       "1  2016      6            47.6625\n",
       "2  2016      5            29.2500\n",
       "3  2016      4            26.9000\n",
       "4  2016      3            19.9625\n",
       "5  2016      2            21.5625\n",
       "6  2016      1            22.3250\n",
       "7  2015     12            28.9250\n",
       "8  2015     11            63.8875\n",
       "9  2015     10             2.2625"
      ]
     },
     "execution_count": 25,
     "metadata": {},
     "output_type": "execute_result"
    }
   ],
   "source": [
    "df.head(10)"
   ]
  },
  {
   "cell_type": "markdown",
   "metadata": {},
   "source": [
    "## Assignment 6"
   ]
  },
  {
   "cell_type": "markdown",
   "metadata": {},
   "source": [
    "Compare the average monthly temperature (find the difference) in the period 1950-2014 for all stations in Östergotland with long-term monthly averages in the period of 1950-1980. Make a plot of your results. \n",
    "\n",
    "HINT: The first step is to find the monthly averages for each station. Then, you can average over all stations to acquire the average temperature for a specific year and month. This RDD/DataFrame can beu sed to compute the long-term average by averaging over all the years in the interval.\n",
    "\n",
    "The out put should contain the following information:\n",
    "\n",
    "Year, month, difference"
   ]
  },
  {
   "cell_type": "code",
   "execution_count": null,
   "metadata": {},
   "outputs": [],
   "source": [
    "%%time\n",
    "\n",
    "global res_t\n",
    "global res_s\n",
    "\n",
    "res_t = temperature_readings.map(lambda l: l.split(\";\"))\n",
    "res_s = station_oster_readings.map(lambda l: l.split(\";\"))\n",
    "\n",
    "res_s = res_s.map(lambda m: int(m[0])).collect()\n",
    "res_s = sc.broadcast(value=res_s)\n",
    "\n",
    "res_t = res_t.map(lambda p: Row(year=int(p[1].split(\"-\")[0]), month=int(p[1].split(\"-\")[1]), day=int(p[1].split(\"-\")[2]), station=int(p[0]), temp=float(p[3])))\n",
    "res_t = sc_sql.createDataFrame(res_t)\n",
    "res_t = res_t.filter((res_t['year'] >= 1950) & (res_t['year'] <= 2014))\n",
    "res_t = res_t.where(res_t['station'].isin(res_s.value))\n",
    "res_t = res_t.groupBy('year', 'month', 'day', 'station')\n",
    "res_t = res_t.agg(F.max('temp').alias('temp_max'), F.min('temp').alias('temp_min'))\n",
    "\n",
    "res_t = res_t.withColumn('davg', (res_t['temp_max'] + res_t['temp_min'])/2)\n",
    "res_t = res_t.select('year', 'month', 'day', 'station', 'davg')\n",
    "res_t = res_t.groupBy('year', 'month', 'station').agg(F.mean('davg').alias('davg'))\n",
    "res_t = res_t.groupBy('year', 'month').agg(F.mean('davg').alias('davg'))\n",
    "\n",
    "res_t_bigger_range = res_t.filter((res_t['year'] >= 1950) & (res_t['year'] <= 1980))\n",
    "res_t_bigger_range = res_t_bigger_range.groupBy('month').agg(F.mean('davg').alias('average-temperature'))\n",
    "\n",
    "res = res_t_bigger_range.join(res_t, \"month\")\n",
    "res = res.withColumn('temperature-difference', res['average-temperature'] - res['davg'])\n",
    "res = res.select('year', 'month', 'temperature-difference')\n",
    "\n",
    "global df\n",
    "\n",
    "df = res.orderBy(['year', 'month'], ascending=[0, 0]).toPandas()"
   ]
  },
  {
   "cell_type": "code",
   "execution_count": null,
   "metadata": {},
   "outputs": [],
   "source": [
    "df.head(10)"
   ]
  },
  {
   "cell_type": "code",
   "execution_count": null,
   "metadata": {},
   "outputs": [],
   "source": [
    "# Difference by Year-Month\n",
    "df['date'] = df['year'].map(str) + \"-\" + df['month'].map(str)\n",
    "df.plot.line(x = 'date', y = 'temperature-difference', figsize=(15,10), title = \"Difference by Year-Month\");"
   ]
  },
  {
   "cell_type": "code",
   "execution_count": null,
   "metadata": {},
   "outputs": [],
   "source": [
    "# Difference by Year\n",
    "df2 = df.groupby(['year'])['temperature-difference'].mean().to_frame()\n",
    "df2.reset_index(level=0, inplace=True)\n",
    "df2.plot.line(x = 'year', y = 'temperature-difference', figsize=(15,10), title = \"Difference by Year\");"
   ]
  },
  {
   "cell_type": "markdown",
   "metadata": {},
   "source": [
    "**Comment:**  It does not seem like there is a trend across years which makes sense since we don’t expect any temperature changes in the long-term. However, we can observe that there were some years with especially large (e.g. 1990) and especially small temperature differences (e.g. 1985). Hence, the differences may vary noticeably from year to year."
   ]
  },
  {
   "cell_type": "code",
   "execution_count": null,
   "metadata": {},
   "outputs": [],
   "source": [
    "# Difference by Month\n",
    "df3 = df.groupby(['month'])['temperature-difference'].mean().to_frame()\n",
    "df3.reset_index(level=0, inplace=True)\n",
    "df3.plot.line(x = 'month', y = 'temperature-difference', figsize=(15,10), title = \"Difference by Month\");"
   ]
  },
  {
   "cell_type": "markdown",
   "metadata": {},
   "source": [
    "**Comment:** We can see that the differences in temperature are much larger in the winter months than in the summer months (see “Difference by Month” plot). This makes sense since we computed the difference as: Difference = Östergotland - General. We expect Östergotland to have warmer temperatures in general than more northern parts of Sweden in the Winter period and Östergotland is in the south. Our expectation is fulfilled since the difference is larger in the winter months."
   ]
  },
  {
   "cell_type": "code",
   "execution_count": null,
   "metadata": {},
   "outputs": [],
   "source": [
    "sc.stop()"
   ]
  },
  {
   "cell_type": "code",
   "execution_count": null,
   "metadata": {},
   "outputs": [],
   "source": []
  }
 ],
 "metadata": {
  "kernelspec": {
   "display_name": "Python 3",
   "language": "python",
   "name": "python3"
  },
  "language_info": {
   "codemirror_mode": {
    "name": "ipython",
    "version": 3
   },
   "file_extension": ".py",
   "mimetype": "text/x-python",
   "name": "python",
   "nbconvert_exporter": "python",
   "pygments_lexer": "ipython3",
   "version": "3.7.3"
  }
 },
 "nbformat": 4,
 "nbformat_minor": 2
}
