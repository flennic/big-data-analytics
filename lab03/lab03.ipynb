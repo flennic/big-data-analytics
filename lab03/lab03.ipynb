{
 "cells": [
  {
   "cell_type": "markdown",
   "metadata": {},
   "source": [
    "# BDA2 - Spark SQL"
   ]
  },
  {
   "cell_type": "markdown",
   "metadata": {},
   "source": [
    "Redo the exercises BDA1 using Spark SQL whenever possible. There are two ways to write queries in SparkSQL - using built-in API functions or running SQL-like\n",
    "queries. To pass this lab, you need to use built-in API functions for all the questions, in addition, SQL-like queries for the second question. The slides of this link (https://www.ida.liu.se/~732A54/lab/SparkSQLQuickIntro.pdf) show some examples of Spark SQL."
   ]
  },
  {
   "cell_type": "markdown",
   "metadata": {},
   "source": [
    "## Setup"
   ]
  },
  {
   "cell_type": "markdown",
   "metadata": {},
   "source": [
    "The following code is used to prepare the data files, execute only once and **be careful!**"
   ]
  },
  {
   "cell_type": "raw",
   "metadata": {},
   "source": [
    "# Remove UTF-8 BOM\n",
    "!vim -c ':set nobomb' -c ':set fileencoding=utf-8' -c ':wq' ../data/temperature-readings.csv\n",
    "!vim -c ':set nobomb' -c ':set fileencoding=utf-8' -c ':wq' ../data/precipitation-readings.csv\n",
    "!vim -c ':set nobomb' -c ':set fileencoding=utf-8' -c ':wq' ../data/stations-Ostergotland.csv\n",
    "!vim -c ':set nobomb' -c ':set fileencoding=utf-8' -c ':wq' ../data/stations.csv\n",
    "\n",
    "#!sed '1s/^\\xEF\\xBB\\xBF//' < ../data/temperature-readings.csv > ../data/temperature-readings.csv\n",
    "#!sed '1s/^\\xEF\\xBB\\xBF//' < ../data/precipitation-readings.csv > ../data/precipitation-readings.csv\n",
    "#!sed '1s/^\\xEF\\xBB\\xBF//' < ../data/stations-Ostergotland.csv > ../data/stations-Ostergotland.csv\n",
    "#!sed '1s/^\\xEF\\xBB\\xBF//' < ../data/stations.csv > ../data/stations.csv\n",
    "\n",
    "# Create big 16GiB file\n",
    "for i in range(8):\n",
    "    !cat ../data/temperature-readings.csv >> ../data/temperature-readings-big.csv"
   ]
  },
  {
   "cell_type": "code",
   "execution_count": 1,
   "metadata": {},
   "outputs": [],
   "source": [
    "import pyspark\n",
    "import pyspark.sql\n",
    "from pyspark.sql import SQLContext, Row\n",
    "from pyspark.sql import functions as F\n",
    "from pyspark.sql import Window\n",
    "from pyspark.sql.functions import col\n",
    "import csv\n",
    "import math\n",
    "import sys\n",
    "import pandas as pd\n",
    "\n",
    "tr_path = \"../data/temperature-readings.csv\"\n",
    "tr_big_path = \"../data/temperature-readings-big.csv\"\n",
    "pr_path = \"../data/precipitation-readings.csv\"\n",
    "sro_path = \"../data/stations-Ostergotland.csv\"\n",
    "sr_path = \"../data/stations.csv\""
   ]
  },
  {
   "cell_type": "code",
   "execution_count": 2,
   "metadata": {},
   "outputs": [],
   "source": [
    "sc = pyspark.SparkContext(appName = \"Temperature\")\n",
    "sc_sql = pyspark.SQLContext(sc)\n",
    "\n",
    "temperature_readings = sc.textFile(tr_path)\n",
    "temperature_readings_big = sc.textFile(tr_big_path)\n",
    "precipitation_readings = sc.textFile(pr_path)\n",
    "station_oster_readings = sc.textFile(sro_path)\n",
    "station_readings = sc.textFile(sr_path)"
   ]
  },
  {
   "cell_type": "markdown",
   "metadata": {},
   "source": [
    "## Assignment 1"
   ]
  },
  {
   "cell_type": "markdown",
   "metadata": {},
   "source": [
    "What are the lowest and highest temperatures measured each year for the period 1950- 2014. Provide the lists sorted in the descending order with respect to the maximum temperature. In this exercise you will use the `temperature-readings.csv` file."
   ]
  },
  {
   "cell_type": "code",
   "execution_count": 11,
   "metadata": {},
   "outputs": [
    {
     "name": "stdout",
     "output_type": "stream",
     "text": [
      "CPU times: user 52.1 ms, sys: 12.1 ms, total: 64.2 ms\n",
      "Wall time: 29.5 s\n"
     ]
    }
   ],
   "source": [
    "%%time\n",
    "\n",
    "res = temperature_readings.map(lambda l: l.split(\";\"))\n",
    "res = res.map(lambda p: Row(year=int(p[1].split(\"-\")[0]), temp=float(p[3])))\n",
    "res = sc_sql.createDataFrame(res)\n",
    "res = res.filter((res['year'] >= 1950) & (res['year'] <= 2014)).groupBy('year')\n",
    "res = res.agg(F.max('temp').alias('temp_max'), F.min('temp').alias('temp_min'))\n",
    "\n",
    "global df\n",
    "\n",
    "df = res.orderBy('temp_max', ascending=False).toPandas()"
   ]
  },
  {
   "cell_type": "code",
   "execution_count": 12,
   "metadata": {},
   "outputs": [
    {
     "data": {
      "text/html": [
       "<div>\n",
       "<style scoped>\n",
       "    .dataframe tbody tr th:only-of-type {\n",
       "        vertical-align: middle;\n",
       "    }\n",
       "\n",
       "    .dataframe tbody tr th {\n",
       "        vertical-align: top;\n",
       "    }\n",
       "\n",
       "    .dataframe thead th {\n",
       "        text-align: right;\n",
       "    }\n",
       "</style>\n",
       "<table border=\"1\" class=\"dataframe\">\n",
       "  <thead>\n",
       "    <tr style=\"text-align: right;\">\n",
       "      <th></th>\n",
       "      <th>year</th>\n",
       "      <th>temp_max</th>\n",
       "      <th>temp_min</th>\n",
       "    </tr>\n",
       "  </thead>\n",
       "  <tbody>\n",
       "    <tr>\n",
       "      <th>0</th>\n",
       "      <td>1975</td>\n",
       "      <td>35.5</td>\n",
       "      <td>-35.4</td>\n",
       "    </tr>\n",
       "    <tr>\n",
       "      <th>1</th>\n",
       "      <td>1994</td>\n",
       "      <td>34.7</td>\n",
       "      <td>-36.6</td>\n",
       "    </tr>\n",
       "    <tr>\n",
       "      <th>2</th>\n",
       "      <td>2014</td>\n",
       "      <td>33.7</td>\n",
       "      <td>-34.6</td>\n",
       "    </tr>\n",
       "    <tr>\n",
       "      <th>3</th>\n",
       "      <td>1970</td>\n",
       "      <td>33.2</td>\n",
       "      <td>-39.5</td>\n",
       "    </tr>\n",
       "    <tr>\n",
       "      <th>4</th>\n",
       "      <td>1989</td>\n",
       "      <td>33.2</td>\n",
       "      <td>-37.2</td>\n",
       "    </tr>\n",
       "    <tr>\n",
       "      <th>5</th>\n",
       "      <td>1982</td>\n",
       "      <td>33.0</td>\n",
       "      <td>-42.2</td>\n",
       "    </tr>\n",
       "    <tr>\n",
       "      <th>6</th>\n",
       "      <td>1988</td>\n",
       "      <td>32.6</td>\n",
       "      <td>-31.5</td>\n",
       "    </tr>\n",
       "    <tr>\n",
       "      <th>7</th>\n",
       "      <td>1986</td>\n",
       "      <td>32.2</td>\n",
       "      <td>-38.4</td>\n",
       "    </tr>\n",
       "    <tr>\n",
       "      <th>8</th>\n",
       "      <td>2008</td>\n",
       "      <td>32.2</td>\n",
       "      <td>-32.7</td>\n",
       "    </tr>\n",
       "    <tr>\n",
       "      <th>9</th>\n",
       "      <td>2003</td>\n",
       "      <td>32.1</td>\n",
       "      <td>-37.2</td>\n",
       "    </tr>\n",
       "  </tbody>\n",
       "</table>\n",
       "</div>"
      ],
      "text/plain": [
       "   year  temp_max  temp_min\n",
       "0  1975      35.5     -35.4\n",
       "1  1994      34.7     -36.6\n",
       "2  2014      33.7     -34.6\n",
       "3  1970      33.2     -39.5\n",
       "4  1989      33.2     -37.2\n",
       "5  1982      33.0     -42.2\n",
       "6  1988      32.6     -31.5\n",
       "7  1986      32.2     -38.4\n",
       "8  2008      32.2     -32.7\n",
       "9  2003      32.1     -37.2"
      ]
     },
     "execution_count": 12,
     "metadata": {},
     "output_type": "execute_result"
    }
   ],
   "source": [
    "df.head(10)"
   ]
  },
  {
   "cell_type": "markdown",
   "metadata": {},
   "source": [
    "**Task 1a:** What are the lowest and highest temperature measured each year for the period 1950 to 2014? Provide the list sorted in the descending order with respect to the maximum temperature. Extend the program to include the station number (not the station name) where the maximum/minimum temperature was measured."
   ]
  },
  {
   "cell_type": "code",
   "execution_count": 16,
   "metadata": {},
   "outputs": [
    {
     "name": "stdout",
     "output_type": "stream",
     "text": [
      "CPU times: user 83 ms, sys: 20 ms, total: 103 ms\n",
      "Wall time: 3min 46s\n"
     ]
    }
   ],
   "source": [
    "%%time\n",
    "\n",
    "res = temperature_readings.map(lambda l: l.split(\";\"))\n",
    "res = res.map(lambda p: Row(station=int(p[0]), year=int(p[1].split(\"-\")[0]), temp=float(p[3])))\n",
    "res = sc_sql.createDataFrame(res)\n",
    "res = res.filter((res['year'] >= 1950) & (res['year'] <= 2014))\n",
    "\n",
    "w = Window.partitionBy('year')\n",
    "\n",
    "res_max = res.withColumn('temp_max', F.max('temp').over(w)).where(F.col('temp') == F.col('temp_max')).drop('temp')\n",
    "res_min = res.withColumn('temp_min', F.min('temp').over(w)).where(F.col('temp') == F.col('temp_min')).drop('temp')\n",
    "\n",
    "global df\n",
    "\n",
    "df = res_max.join(res_min, \"year\").orderBy(['temp_max', 'year'], ascending=False).toPandas()"
   ]
  },
  {
   "cell_type": "code",
   "execution_count": 22,
   "metadata": {},
   "outputs": [
    {
     "data": {
      "text/html": [
       "<div>\n",
       "<style scoped>\n",
       "    .dataframe tbody tr th:only-of-type {\n",
       "        vertical-align: middle;\n",
       "    }\n",
       "\n",
       "    .dataframe tbody tr th {\n",
       "        vertical-align: top;\n",
       "    }\n",
       "\n",
       "    .dataframe thead th {\n",
       "        text-align: right;\n",
       "    }\n",
       "</style>\n",
       "<table border=\"1\" class=\"dataframe\">\n",
       "  <thead>\n",
       "    <tr style=\"text-align: right;\">\n",
       "      <th></th>\n",
       "      <th>year</th>\n",
       "      <th>station</th>\n",
       "      <th>temp_max</th>\n",
       "      <th>station</th>\n",
       "      <th>temp_min</th>\n",
       "    </tr>\n",
       "  </thead>\n",
       "  <tbody>\n",
       "    <tr>\n",
       "      <th>0</th>\n",
       "      <td>1975</td>\n",
       "      <td>106100</td>\n",
       "      <td>35.5</td>\n",
       "      <td>122330</td>\n",
       "      <td>-35.4</td>\n",
       "    </tr>\n",
       "    <tr>\n",
       "      <th>1</th>\n",
       "      <td>1994</td>\n",
       "      <td>117160</td>\n",
       "      <td>34.7</td>\n",
       "      <td>113410</td>\n",
       "      <td>-36.6</td>\n",
       "    </tr>\n",
       "    <tr>\n",
       "      <th>2</th>\n",
       "      <td>2014</td>\n",
       "      <td>106160</td>\n",
       "      <td>33.7</td>\n",
       "      <td>124030</td>\n",
       "      <td>-34.6</td>\n",
       "    </tr>\n",
       "    <tr>\n",
       "      <th>3</th>\n",
       "      <td>1989</td>\n",
       "      <td>107400</td>\n",
       "      <td>33.2</td>\n",
       "      <td>114510</td>\n",
       "      <td>-37.2</td>\n",
       "    </tr>\n",
       "    <tr>\n",
       "      <th>4</th>\n",
       "      <td>1970</td>\n",
       "      <td>103080</td>\n",
       "      <td>33.2</td>\n",
       "      <td>114510</td>\n",
       "      <td>-39.5</td>\n",
       "    </tr>\n",
       "    <tr>\n",
       "      <th>5</th>\n",
       "      <td>1982</td>\n",
       "      <td>102540</td>\n",
       "      <td>33.0</td>\n",
       "      <td>113410</td>\n",
       "      <td>-42.2</td>\n",
       "    </tr>\n",
       "    <tr>\n",
       "      <th>6</th>\n",
       "      <td>1988</td>\n",
       "      <td>102540</td>\n",
       "      <td>32.6</td>\n",
       "      <td>114510</td>\n",
       "      <td>-31.5</td>\n",
       "    </tr>\n",
       "    <tr>\n",
       "      <th>7</th>\n",
       "      <td>2008</td>\n",
       "      <td>102390</td>\n",
       "      <td>32.2</td>\n",
       "      <td>112530</td>\n",
       "      <td>-32.7</td>\n",
       "    </tr>\n",
       "    <tr>\n",
       "      <th>8</th>\n",
       "      <td>1986</td>\n",
       "      <td>115230</td>\n",
       "      <td>32.2</td>\n",
       "      <td>112170</td>\n",
       "      <td>-38.4</td>\n",
       "    </tr>\n",
       "    <tr>\n",
       "      <th>9</th>\n",
       "      <td>2005</td>\n",
       "      <td>107140</td>\n",
       "      <td>32.1</td>\n",
       "      <td>112530</td>\n",
       "      <td>-39.1</td>\n",
       "    </tr>\n",
       "  </tbody>\n",
       "</table>\n",
       "</div>"
      ],
      "text/plain": [
       "   year  station  temp_max  station  temp_min\n",
       "0  1975   106100      35.5   122330     -35.4\n",
       "1  1994   117160      34.7   113410     -36.6\n",
       "2  2014   106160      33.7   124030     -34.6\n",
       "3  1989   107400      33.2   114510     -37.2\n",
       "4  1970   103080      33.2   114510     -39.5\n",
       "5  1982   102540      33.0   113410     -42.2\n",
       "6  1988   102540      32.6   114510     -31.5\n",
       "7  2008   102390      32.2   112530     -32.7\n",
       "8  1986   115230      32.2   112170     -38.4\n",
       "9  2005   107140      32.1   112530     -39.1"
      ]
     },
     "execution_count": 22,
     "metadata": {},
     "output_type": "execute_result"
    }
   ],
   "source": [
    "df.head(10)"
   ]
  },
  {
   "cell_type": "markdown",
   "metadata": {},
   "source": [
    "## Assignment 2"
   ]
  },
  {
   "cell_type": "markdown",
   "metadata": {},
   "source": [
    "Count the number of readings for each month in the period of 1950-2014 which are higher than 10 degrees. Repeat the exercise, this time taking only distinct readings from each station. That is, if a station reported a reading above 10 degrees in some month, then it appears only once in the count for that month. In this exercise you will use the `temperature-readings.csv` file.\n",
    "\n",
    "The output should contain the following information:\n",
    "\n",
    "Year, month, count"
   ]
  },
  {
   "cell_type": "code",
   "execution_count": 12,
   "metadata": {},
   "outputs": [
    {
     "name": "stdout",
     "output_type": "stream",
     "text": [
      "CPU times: user 76.9 ms, sys: 10.9 ms, total: 87.8 ms\n",
      "Wall time: 36.6 s\n"
     ]
    }
   ],
   "source": [
    "%%time\n",
    "\n",
    "res = temperature_readings.map(lambda l: l.split(\";\"))\n",
    "res = res.map(lambda p: Row(station=int(p[0]), year=int(p[1].split(\"-\")[0]), month=int(p[1].split(\"-\")[1]), day=int(p[1].split(\"-\")[2]), temp=float(p[3])))\n",
    "res = sc_sql.createDataFrame(res)\n",
    "res = res.filter((res['year'] >= 1950) & (res['year'] <= 2014))\n",
    "res = res.filter(res['temp'] > 10.0)\n",
    "\n",
    "res = res.groupBy('year', 'month').count().select('year', 'month', F.col('count')).orderBy(['year', 'month'], ascending=False)\n",
    "\n",
    "global df\n",
    "df = res.toPandas()"
   ]
  },
  {
   "cell_type": "code",
   "execution_count": 13,
   "metadata": {},
   "outputs": [
    {
     "data": {
      "text/html": [
       "<div>\n",
       "<style scoped>\n",
       "    .dataframe tbody tr th:only-of-type {\n",
       "        vertical-align: middle;\n",
       "    }\n",
       "\n",
       "    .dataframe tbody tr th {\n",
       "        vertical-align: top;\n",
       "    }\n",
       "\n",
       "    .dataframe thead th {\n",
       "        text-align: right;\n",
       "    }\n",
       "</style>\n",
       "<table border=\"1\" class=\"dataframe\">\n",
       "  <thead>\n",
       "    <tr style=\"text-align: right;\">\n",
       "      <th></th>\n",
       "      <th>year</th>\n",
       "      <th>month</th>\n",
       "      <th>count</th>\n",
       "    </tr>\n",
       "  </thead>\n",
       "  <tbody>\n",
       "    <tr>\n",
       "      <th>0</th>\n",
       "      <td>2014</td>\n",
       "      <td>11</td>\n",
       "      <td>440</td>\n",
       "    </tr>\n",
       "    <tr>\n",
       "      <th>1</th>\n",
       "      <td>2014</td>\n",
       "      <td>10</td>\n",
       "      <td>4232</td>\n",
       "    </tr>\n",
       "    <tr>\n",
       "      <th>2</th>\n",
       "      <td>2014</td>\n",
       "      <td>9</td>\n",
       "      <td>11981</td>\n",
       "    </tr>\n",
       "    <tr>\n",
       "      <th>3</th>\n",
       "      <td>2014</td>\n",
       "      <td>8</td>\n",
       "      <td>18535</td>\n",
       "    </tr>\n",
       "    <tr>\n",
       "      <th>4</th>\n",
       "      <td>2014</td>\n",
       "      <td>7</td>\n",
       "      <td>24106</td>\n",
       "    </tr>\n",
       "    <tr>\n",
       "      <th>5</th>\n",
       "      <td>2014</td>\n",
       "      <td>6</td>\n",
       "      <td>14218</td>\n",
       "    </tr>\n",
       "    <tr>\n",
       "      <th>6</th>\n",
       "      <td>2014</td>\n",
       "      <td>5</td>\n",
       "      <td>8455</td>\n",
       "    </tr>\n",
       "    <tr>\n",
       "      <th>7</th>\n",
       "      <td>2014</td>\n",
       "      <td>4</td>\n",
       "      <td>2860</td>\n",
       "    </tr>\n",
       "    <tr>\n",
       "      <th>8</th>\n",
       "      <td>2014</td>\n",
       "      <td>3</td>\n",
       "      <td>592</td>\n",
       "    </tr>\n",
       "    <tr>\n",
       "      <th>9</th>\n",
       "      <td>2013</td>\n",
       "      <td>11</td>\n",
       "      <td>73</td>\n",
       "    </tr>\n",
       "  </tbody>\n",
       "</table>\n",
       "</div>"
      ],
      "text/plain": [
       "   year  month  count\n",
       "0  2014     11    440\n",
       "1  2014     10   4232\n",
       "2  2014      9  11981\n",
       "3  2014      8  18535\n",
       "4  2014      7  24106\n",
       "5  2014      6  14218\n",
       "6  2014      5   8455\n",
       "7  2014      4   2860\n",
       "8  2014      3    592\n",
       "9  2013     11     73"
      ]
     },
     "execution_count": 13,
     "metadata": {},
     "output_type": "execute_result"
    }
   ],
   "source": [
    "df.head(10)"
   ]
  },
  {
   "cell_type": "markdown",
   "metadata": {},
   "source": [
    "The following configuration is used for both SQL statement."
   ]
  },
  {
   "cell_type": "code",
   "execution_count": 14,
   "metadata": {},
   "outputs": [],
   "source": [
    "db_temp = temperature_readings.map(lambda l: l.split(\";\")) \\\n",
    "            .filter(lambda m: (int(m[1][:4]) >= 1950 and int(m[1][:4]) <= 2014)) \\\n",
    "            .map(lambda m: Row(station = m[0], date = m[1], year = m[1].split(\"-\")[0], month = m[1].split(\"-\")[1],\n",
    "                               time = m[2], temp = float(m[3]), quality = m[4]))\n",
    "\n",
    "schema = sc_sql.createDataFrame(db_temp)\n",
    "\n",
    "schema.registerTempTable(\"temp_schema\")"
   ]
  },
  {
   "cell_type": "code",
   "execution_count": 15,
   "metadata": {},
   "outputs": [
    {
     "name": "stdout",
     "output_type": "stream",
     "text": [
      "CPU times: user 41.2 ms, sys: 22.1 ms, total: 63.3 ms\n",
      "Wall time: 42.7 s\n"
     ]
    }
   ],
   "source": [
    "%%time\n",
    "\n",
    "global res\n",
    "\n",
    "res = sc_sql.sql(\"\"\"\n",
    "    SELECT year, month, COUNT(year) AS count\n",
    "    FROM temp_schema\n",
    "    WHERE year >= 1950 AND year <= 2014 and temp > 10\n",
    "    GROUP BY year, month\n",
    "    ORDER BY cast(year as integer) DESC, cast(month as integer) DESC\n",
    "\"\"\")\n",
    "\n",
    "res = res.toPandas()"
   ]
  },
  {
   "cell_type": "code",
   "execution_count": 16,
   "metadata": {},
   "outputs": [
    {
     "data": {
      "text/html": [
       "<div>\n",
       "<style scoped>\n",
       "    .dataframe tbody tr th:only-of-type {\n",
       "        vertical-align: middle;\n",
       "    }\n",
       "\n",
       "    .dataframe tbody tr th {\n",
       "        vertical-align: top;\n",
       "    }\n",
       "\n",
       "    .dataframe thead th {\n",
       "        text-align: right;\n",
       "    }\n",
       "</style>\n",
       "<table border=\"1\" class=\"dataframe\">\n",
       "  <thead>\n",
       "    <tr style=\"text-align: right;\">\n",
       "      <th></th>\n",
       "      <th>year</th>\n",
       "      <th>month</th>\n",
       "      <th>count</th>\n",
       "    </tr>\n",
       "  </thead>\n",
       "  <tbody>\n",
       "    <tr>\n",
       "      <th>0</th>\n",
       "      <td>2014</td>\n",
       "      <td>11</td>\n",
       "      <td>440</td>\n",
       "    </tr>\n",
       "    <tr>\n",
       "      <th>1</th>\n",
       "      <td>2014</td>\n",
       "      <td>10</td>\n",
       "      <td>4232</td>\n",
       "    </tr>\n",
       "    <tr>\n",
       "      <th>2</th>\n",
       "      <td>2014</td>\n",
       "      <td>09</td>\n",
       "      <td>11981</td>\n",
       "    </tr>\n",
       "    <tr>\n",
       "      <th>3</th>\n",
       "      <td>2014</td>\n",
       "      <td>08</td>\n",
       "      <td>18535</td>\n",
       "    </tr>\n",
       "    <tr>\n",
       "      <th>4</th>\n",
       "      <td>2014</td>\n",
       "      <td>07</td>\n",
       "      <td>24106</td>\n",
       "    </tr>\n",
       "    <tr>\n",
       "      <th>5</th>\n",
       "      <td>2014</td>\n",
       "      <td>06</td>\n",
       "      <td>14218</td>\n",
       "    </tr>\n",
       "    <tr>\n",
       "      <th>6</th>\n",
       "      <td>2014</td>\n",
       "      <td>05</td>\n",
       "      <td>8455</td>\n",
       "    </tr>\n",
       "    <tr>\n",
       "      <th>7</th>\n",
       "      <td>2014</td>\n",
       "      <td>04</td>\n",
       "      <td>2860</td>\n",
       "    </tr>\n",
       "    <tr>\n",
       "      <th>8</th>\n",
       "      <td>2014</td>\n",
       "      <td>03</td>\n",
       "      <td>592</td>\n",
       "    </tr>\n",
       "    <tr>\n",
       "      <th>9</th>\n",
       "      <td>2013</td>\n",
       "      <td>11</td>\n",
       "      <td>73</td>\n",
       "    </tr>\n",
       "  </tbody>\n",
       "</table>\n",
       "</div>"
      ],
      "text/plain": [
       "   year month  count\n",
       "0  2014    11    440\n",
       "1  2014    10   4232\n",
       "2  2014    09  11981\n",
       "3  2014    08  18535\n",
       "4  2014    07  24106\n",
       "5  2014    06  14218\n",
       "6  2014    05   8455\n",
       "7  2014    04   2860\n",
       "8  2014    03    592\n",
       "9  2013    11     73"
      ]
     },
     "execution_count": 16,
     "metadata": {},
     "output_type": "execute_result"
    }
   ],
   "source": [
    "res.head(10)"
   ]
  },
  {
   "cell_type": "markdown",
   "metadata": {},
   "source": [
    "Now we repeat the exercise where we take only distinct readings from each station."
   ]
  },
  {
   "cell_type": "code",
   "execution_count": 17,
   "metadata": {},
   "outputs": [
    {
     "name": "stdout",
     "output_type": "stream",
     "text": [
      "CPU times: user 83.5 ms, sys: 32.4 ms, total: 116 ms\n",
      "Wall time: 36 s\n"
     ]
    }
   ],
   "source": [
    "%%time\n",
    "\n",
    "res = temperature_readings.map(lambda l: l.split(\";\"))\n",
    "res = res.map(lambda p: Row(station=int(p[0]), year=int(p[1].split(\"-\")[0]), month=int(p[1].split(\"-\")[1]), temp=float(p[3])))\n",
    "res = sc_sql.createDataFrame(res)\n",
    "res = res.filter((res['year'] >= 1950) & (res['year'] <= 2014) & (res['temp'] > 10.0))\n",
    "\n",
    "res = res.groupBy('year', 'month', 'station').count().groupBy('year', 'month').count().select('year', 'month', F.col('count')).orderBy(['year', 'month'], ascending=False)\n",
    "\n",
    "global df\n",
    "df = res.toPandas()"
   ]
  },
  {
   "cell_type": "code",
   "execution_count": 19,
   "metadata": {},
   "outputs": [
    {
     "data": {
      "text/html": [
       "<div>\n",
       "<style scoped>\n",
       "    .dataframe tbody tr th:only-of-type {\n",
       "        vertical-align: middle;\n",
       "    }\n",
       "\n",
       "    .dataframe tbody tr th {\n",
       "        vertical-align: top;\n",
       "    }\n",
       "\n",
       "    .dataframe thead th {\n",
       "        text-align: right;\n",
       "    }\n",
       "</style>\n",
       "<table border=\"1\" class=\"dataframe\">\n",
       "  <thead>\n",
       "    <tr style=\"text-align: right;\">\n",
       "      <th></th>\n",
       "      <th>year</th>\n",
       "      <th>month</th>\n",
       "      <th>count</th>\n",
       "    </tr>\n",
       "  </thead>\n",
       "  <tbody>\n",
       "    <tr>\n",
       "      <th>0</th>\n",
       "      <td>2014</td>\n",
       "      <td>11</td>\n",
       "      <td>27</td>\n",
       "    </tr>\n",
       "    <tr>\n",
       "      <th>1</th>\n",
       "      <td>2014</td>\n",
       "      <td>10</td>\n",
       "      <td>49</td>\n",
       "    </tr>\n",
       "    <tr>\n",
       "      <th>2</th>\n",
       "      <td>2014</td>\n",
       "      <td>9</td>\n",
       "      <td>50</td>\n",
       "    </tr>\n",
       "    <tr>\n",
       "      <th>3</th>\n",
       "      <td>2014</td>\n",
       "      <td>8</td>\n",
       "      <td>50</td>\n",
       "    </tr>\n",
       "    <tr>\n",
       "      <th>4</th>\n",
       "      <td>2014</td>\n",
       "      <td>7</td>\n",
       "      <td>50</td>\n",
       "    </tr>\n",
       "    <tr>\n",
       "      <th>5</th>\n",
       "      <td>2014</td>\n",
       "      <td>6</td>\n",
       "      <td>50</td>\n",
       "    </tr>\n",
       "    <tr>\n",
       "      <th>6</th>\n",
       "      <td>2014</td>\n",
       "      <td>5</td>\n",
       "      <td>49</td>\n",
       "    </tr>\n",
       "    <tr>\n",
       "      <th>7</th>\n",
       "      <td>2014</td>\n",
       "      <td>4</td>\n",
       "      <td>47</td>\n",
       "    </tr>\n",
       "    <tr>\n",
       "      <th>8</th>\n",
       "      <td>2014</td>\n",
       "      <td>3</td>\n",
       "      <td>31</td>\n",
       "    </tr>\n",
       "    <tr>\n",
       "      <th>9</th>\n",
       "      <td>2013</td>\n",
       "      <td>11</td>\n",
       "      <td>19</td>\n",
       "    </tr>\n",
       "  </tbody>\n",
       "</table>\n",
       "</div>"
      ],
      "text/plain": [
       "   year  month  count\n",
       "0  2014     11     27\n",
       "1  2014     10     49\n",
       "2  2014      9     50\n",
       "3  2014      8     50\n",
       "4  2014      7     50\n",
       "5  2014      6     50\n",
       "6  2014      5     49\n",
       "7  2014      4     47\n",
       "8  2014      3     31\n",
       "9  2013     11     19"
      ]
     },
     "execution_count": 19,
     "metadata": {},
     "output_type": "execute_result"
    }
   ],
   "source": [
    "df.head(10)"
   ]
  },
  {
   "cell_type": "code",
   "execution_count": 20,
   "metadata": {},
   "outputs": [
    {
     "name": "stdout",
     "output_type": "stream",
     "text": [
      "CPU times: user 67.7 ms, sys: 26 ms, total: 93.7 ms\n",
      "Wall time: 43.8 s\n"
     ]
    }
   ],
   "source": [
    "%%time\n",
    "\n",
    "global res\n",
    "\n",
    "res = sc_sql.sql(\"\"\"\n",
    "    SELECT year, month, COUNT(year) AS count\n",
    "    FROM (\n",
    "        SELECT year, month, COUNT(year) AS count\n",
    "        FROM temp_schema\n",
    "        WHERE year >= 1950 AND year <= 2014 and temp > 10\n",
    "        GROUP BY year, month, station\n",
    "    )\n",
    "    GROUP BY year, month\n",
    "    ORDER BY cast(year as integer) DESC, cast(month as integer) DESC\n",
    "\"\"\")\n",
    "\n",
    "res = res.toPandas()"
   ]
  },
  {
   "cell_type": "code",
   "execution_count": 21,
   "metadata": {},
   "outputs": [
    {
     "data": {
      "text/html": [
       "<div>\n",
       "<style scoped>\n",
       "    .dataframe tbody tr th:only-of-type {\n",
       "        vertical-align: middle;\n",
       "    }\n",
       "\n",
       "    .dataframe tbody tr th {\n",
       "        vertical-align: top;\n",
       "    }\n",
       "\n",
       "    .dataframe thead th {\n",
       "        text-align: right;\n",
       "    }\n",
       "</style>\n",
       "<table border=\"1\" class=\"dataframe\">\n",
       "  <thead>\n",
       "    <tr style=\"text-align: right;\">\n",
       "      <th></th>\n",
       "      <th>year</th>\n",
       "      <th>month</th>\n",
       "      <th>count</th>\n",
       "    </tr>\n",
       "  </thead>\n",
       "  <tbody>\n",
       "    <tr>\n",
       "      <th>0</th>\n",
       "      <td>2014</td>\n",
       "      <td>11</td>\n",
       "      <td>27</td>\n",
       "    </tr>\n",
       "    <tr>\n",
       "      <th>1</th>\n",
       "      <td>2014</td>\n",
       "      <td>10</td>\n",
       "      <td>49</td>\n",
       "    </tr>\n",
       "    <tr>\n",
       "      <th>2</th>\n",
       "      <td>2014</td>\n",
       "      <td>09</td>\n",
       "      <td>50</td>\n",
       "    </tr>\n",
       "    <tr>\n",
       "      <th>3</th>\n",
       "      <td>2014</td>\n",
       "      <td>08</td>\n",
       "      <td>50</td>\n",
       "    </tr>\n",
       "    <tr>\n",
       "      <th>4</th>\n",
       "      <td>2014</td>\n",
       "      <td>07</td>\n",
       "      <td>50</td>\n",
       "    </tr>\n",
       "    <tr>\n",
       "      <th>5</th>\n",
       "      <td>2014</td>\n",
       "      <td>06</td>\n",
       "      <td>50</td>\n",
       "    </tr>\n",
       "    <tr>\n",
       "      <th>6</th>\n",
       "      <td>2014</td>\n",
       "      <td>05</td>\n",
       "      <td>49</td>\n",
       "    </tr>\n",
       "    <tr>\n",
       "      <th>7</th>\n",
       "      <td>2014</td>\n",
       "      <td>04</td>\n",
       "      <td>47</td>\n",
       "    </tr>\n",
       "    <tr>\n",
       "      <th>8</th>\n",
       "      <td>2014</td>\n",
       "      <td>03</td>\n",
       "      <td>31</td>\n",
       "    </tr>\n",
       "    <tr>\n",
       "      <th>9</th>\n",
       "      <td>2013</td>\n",
       "      <td>11</td>\n",
       "      <td>19</td>\n",
       "    </tr>\n",
       "  </tbody>\n",
       "</table>\n",
       "</div>"
      ],
      "text/plain": [
       "   year month  count\n",
       "0  2014    11     27\n",
       "1  2014    10     49\n",
       "2  2014    09     50\n",
       "3  2014    08     50\n",
       "4  2014    07     50\n",
       "5  2014    06     50\n",
       "6  2014    05     49\n",
       "7  2014    04     47\n",
       "8  2014    03     31\n",
       "9  2013    11     19"
      ]
     },
     "execution_count": 21,
     "metadata": {},
     "output_type": "execute_result"
    }
   ],
   "source": [
    "res.head(10)"
   ]
  },
  {
   "cell_type": "markdown",
   "metadata": {},
   "source": [
    "## Assignment 3"
   ]
  },
  {
   "cell_type": "markdown",
   "metadata": {},
   "source": [
    "Find the average monthly temperature for each available station in Sweden. Your result should include average temperature for each station for each month in the period of 1960-2014. Bear in mind that not every station has the readings for each month in this timeframe. In this exercise you will use the `temperature-readings.csvfile`.\n",
    "\n",
    "The output should contain the following information:\n",
    "\n",
    "Year, month, station number, average monthly temperature"
   ]
  },
  {
   "cell_type": "code",
   "execution_count": 61,
   "metadata": {},
   "outputs": [
    {
     "name": "stdout",
     "output_type": "stream",
     "text": [
      "CPU times: user 235 ms, sys: 36.7 ms, total: 272 ms\n",
      "Wall time: 40 s\n"
     ]
    }
   ],
   "source": [
    "%%time\n",
    "\n",
    "res = temperature_readings.map(lambda l: l.split(\";\"))\n",
    "res = res.map(lambda p: Row(station=int(p[0]), year=int(p[1].split(\"-\")[0]), month=int(p[1].split(\"-\")[1]), day=int(p[1].split(\"-\")[2]), temp=float(p[3])))\n",
    "res = sc_sql.createDataFrame(res)\n",
    "res = res.filter((res['year'] >= 1960) & (res['year'] <= 2014))\n",
    "res = res.groupBy('year', 'month', 'day', 'station')\n",
    "res = res.agg(F.max('temp').alias('temp_max'), F.min('temp').alias('temp_min'))\n",
    "res = res.withColumn('davg', (res['temp_max'] + res['temp_min'])/2)\n",
    "res = res.select('year', 'month', 'day', 'station', 'davg')\n",
    "res = res.groupBy('year', 'month', 'station').agg(F.mean('davg').alias('average-temperature'))\n",
    "\n",
    "global df\n",
    "df = res.orderBy(['year', 'month', 'station'], ascending=False).toPandas()"
   ]
  },
  {
   "cell_type": "code",
   "execution_count": 62,
   "metadata": {},
   "outputs": [
    {
     "data": {
      "text/html": [
       "<div>\n",
       "<style scoped>\n",
       "    .dataframe tbody tr th:only-of-type {\n",
       "        vertical-align: middle;\n",
       "    }\n",
       "\n",
       "    .dataframe tbody tr th {\n",
       "        vertical-align: top;\n",
       "    }\n",
       "\n",
       "    .dataframe thead th {\n",
       "        text-align: right;\n",
       "    }\n",
       "</style>\n",
       "<table border=\"1\" class=\"dataframe\">\n",
       "  <thead>\n",
       "    <tr style=\"text-align: right;\">\n",
       "      <th></th>\n",
       "      <th>year</th>\n",
       "      <th>month</th>\n",
       "      <th>station</th>\n",
       "      <th>average-temperature</th>\n",
       "    </tr>\n",
       "  </thead>\n",
       "  <tbody>\n",
       "    <tr>\n",
       "      <th>0</th>\n",
       "      <td>2014</td>\n",
       "      <td>12</td>\n",
       "      <td>127130</td>\n",
       "      <td>-0.314516</td>\n",
       "    </tr>\n",
       "    <tr>\n",
       "      <th>1</th>\n",
       "      <td>2014</td>\n",
       "      <td>12</td>\n",
       "      <td>126440</td>\n",
       "      <td>-6.080645</td>\n",
       "    </tr>\n",
       "    <tr>\n",
       "      <th>2</th>\n",
       "      <td>2014</td>\n",
       "      <td>12</td>\n",
       "      <td>126290</td>\n",
       "      <td>-6.509677</td>\n",
       "    </tr>\n",
       "    <tr>\n",
       "      <th>3</th>\n",
       "      <td>2014</td>\n",
       "      <td>12</td>\n",
       "      <td>125440</td>\n",
       "      <td>-6.962903</td>\n",
       "    </tr>\n",
       "    <tr>\n",
       "      <th>4</th>\n",
       "      <td>2014</td>\n",
       "      <td>12</td>\n",
       "      <td>125170</td>\n",
       "      <td>-7.580645</td>\n",
       "    </tr>\n",
       "    <tr>\n",
       "      <th>5</th>\n",
       "      <td>2014</td>\n",
       "      <td>12</td>\n",
       "      <td>124300</td>\n",
       "      <td>-4.764516</td>\n",
       "    </tr>\n",
       "    <tr>\n",
       "      <th>6</th>\n",
       "      <td>2014</td>\n",
       "      <td>12</td>\n",
       "      <td>124110</td>\n",
       "      <td>-8.284375</td>\n",
       "    </tr>\n",
       "    <tr>\n",
       "      <th>7</th>\n",
       "      <td>2014</td>\n",
       "      <td>12</td>\n",
       "      <td>124030</td>\n",
       "      <td>-7.954839</td>\n",
       "    </tr>\n",
       "    <tr>\n",
       "      <th>8</th>\n",
       "      <td>2014</td>\n",
       "      <td>12</td>\n",
       "      <td>123460</td>\n",
       "      <td>-7.901613</td>\n",
       "    </tr>\n",
       "    <tr>\n",
       "      <th>9</th>\n",
       "      <td>2014</td>\n",
       "      <td>12</td>\n",
       "      <td>123340</td>\n",
       "      <td>-8.793548</td>\n",
       "    </tr>\n",
       "  </tbody>\n",
       "</table>\n",
       "</div>"
      ],
      "text/plain": [
       "   year  month  station  average-temperature\n",
       "0  2014     12   127130            -0.314516\n",
       "1  2014     12   126440            -6.080645\n",
       "2  2014     12   126290            -6.509677\n",
       "3  2014     12   125440            -6.962903\n",
       "4  2014     12   125170            -7.580645\n",
       "5  2014     12   124300            -4.764516\n",
       "6  2014     12   124110            -8.284375\n",
       "7  2014     12   124030            -7.954839\n",
       "8  2014     12   123460            -7.901613\n",
       "9  2014     12   123340            -8.793548"
      ]
     },
     "execution_count": 62,
     "metadata": {},
     "output_type": "execute_result"
    }
   ],
   "source": [
    "df.head(10)"
   ]
  },
  {
   "cell_type": "markdown",
   "metadata": {},
   "source": [
    "## Assignment 4"
   ]
  },
  {
   "cell_type": "markdown",
   "metadata": {},
   "source": [
    "Provide  a  list  of  stations  with  their  associated  maximum  measured  temperatures  and maximum  measured  daily  precipitation.  Show  only  those  stations  where  the  maximum temperature is between 25 and 30 degrees and maximum daily precipitation is between 100 mm and 200mm. In this exercise you will use the `temperature-readings.csv` and `precipitation-readings.csv` files. \n",
    "\n",
    "The output should contain the following information:\n",
    "\n",
    "Station number, maximum measured temperature, maximum daily precipitation"
   ]
  },
  {
   "cell_type": "code",
   "execution_count": 41,
   "metadata": {},
   "outputs": [
    {
     "name": "stdout",
     "output_type": "stream",
     "text": [
      "CPU times: user 72 ms, sys: 42.1 ms, total: 114 ms\n",
      "Wall time: 40 s\n"
     ]
    }
   ],
   "source": [
    "%%time\n",
    "\n",
    "res_t = temperature_readings.map(lambda l: l.split(\";\"))\n",
    "res_p = precipitation_readings.map(lambda l: l.split(\";\"))\n",
    "\n",
    "res_p = res_p.map(lambda p: Row(year=int(p[1].split(\"-\")[0]), month=int(p[1].split(\"-\")[1]), day=int(p[1].split(\"-\")[2]), station=int(p[0]), precipitation=float(p[3])))\n",
    "res_p = sc_sql.createDataFrame(res_p)\n",
    "\n",
    "res_p = res_p.groupBy('year', 'month', 'station', 'day')\n",
    "res_p = res_p.agg(F.max('precipitation').alias('precip_max'))\n",
    "res_p = res_p.groupBy('year', 'month', 'station')\n",
    "res_p = res_p.agg(F.max('precip_max').alias('pmax'), F.min('precip_max').alias('pmin'))\n",
    "res_p = res_p.filter((res_p['pmin'] >= 100.0) & (res_p['pmax'] <= 200.0))\n",
    "res_p = res_p.groupBy('station')\n",
    "res_p = res_p.agg(F.max('pmax').alias('max_daily_precipitation'))\n",
    "\n",
    "res_t = res_t.map(lambda p: Row(station=int(p[0]), temperature=float(p[3])))\n",
    "res_t = sc_sql.createDataFrame(res_t)\n",
    "\n",
    "res_t = res_t.groupBy('station')\n",
    "res_t = res_t.agg(F.max('temperature').alias('max_temperature'))\n",
    "res_t = res_t.filter((res_t['max_temperature'] > 25.0) & (res_t['max_temperature'] < 30.0))\n",
    "\n",
    "global df\n",
    "\n",
    "df = res_t.join(res_p, \"station\").orderBy('station', ascending=False).toPandas()"
   ]
  },
  {
   "cell_type": "code",
   "execution_count": 42,
   "metadata": {},
   "outputs": [
    {
     "data": {
      "text/html": [
       "<div>\n",
       "<style scoped>\n",
       "    .dataframe tbody tr th:only-of-type {\n",
       "        vertical-align: middle;\n",
       "    }\n",
       "\n",
       "    .dataframe tbody tr th {\n",
       "        vertical-align: top;\n",
       "    }\n",
       "\n",
       "    .dataframe thead th {\n",
       "        text-align: right;\n",
       "    }\n",
       "</style>\n",
       "<table border=\"1\" class=\"dataframe\">\n",
       "  <thead>\n",
       "    <tr style=\"text-align: right;\">\n",
       "      <th></th>\n",
       "      <th>station</th>\n",
       "      <th>max_temperature</th>\n",
       "      <th>max_daily_precipitation</th>\n",
       "    </tr>\n",
       "  </thead>\n",
       "  <tbody>\n",
       "    <tr>\n",
       "      <th>0</th>\n",
       "      <td>103100</td>\n",
       "      <td>31.3</td>\n",
       "      <td>6.8</td>\n",
       "    </tr>\n",
       "    <tr>\n",
       "      <th>1</th>\n",
       "      <td>102190</td>\n",
       "      <td>31.8</td>\n",
       "      <td>77.0</td>\n",
       "    </tr>\n",
       "    <tr>\n",
       "      <th>2</th>\n",
       "      <td>102170</td>\n",
       "      <td>29.1</td>\n",
       "      <td>3.2</td>\n",
       "    </tr>\n",
       "  </tbody>\n",
       "</table>\n",
       "</div>"
      ],
      "text/plain": [
       "   station  max_temperature  max_daily_precipitation\n",
       "0   103100             31.3                      6.8\n",
       "1   102190             31.8                     77.0\n",
       "2   102170             29.1                      3.2"
      ]
     },
     "execution_count": 42,
     "metadata": {},
     "output_type": "execute_result"
    }
   ],
   "source": [
    "df.head()"
   ]
  },
  {
   "cell_type": "markdown",
   "metadata": {},
   "source": [
    "## Assignment 5"
   ]
  },
  {
   "cell_type": "markdown",
   "metadata": {},
   "source": [
    "Calculate the average monthly precipitation for the Östergotland region (list of stations is provided in the separate file) for the period 1993-2016. In order to do this, you will first need to calculate  the  total  monthly  precipitation  for  each  station  before calculating the monthly average (by averaging over stations). In this exercise you will use the `precipitation-readings.csv` and `stations-Ostergotland.csv` files.\n",
    "\n",
    "HINT (not for the SparkSQL lab): Avoid using joins here! `stations-Ostergotland.csv` is small  and if distributed will cause a number of unnecessary shuffles when joined with precipitation RDD. If you distribute `precipitation-readings.csv` then either repartition your stations RDD to 1 partition or make use of the collect to acquire a python list and broadcast function to broadcast the list to all nodes.\n",
    "\n",
    "The output should contain the following information:\n",
    "\n",
    "Year, month, average monthly precipitation"
   ]
  },
  {
   "cell_type": "code",
   "execution_count": 37,
   "metadata": {},
   "outputs": [],
   "source": [
    "%%time\n",
    "\n",
    "res_p = precipitation_readings.map(lambda l: l.split(\";\"))\n",
    "res_s = station_oster_readings.map(lambda l: l.split(\";\"))\n",
    "\n",
    "res_s = res_s.map(lambda m: int(m[0])).collect()\n",
    "res_s = sc.broadcast(value=res_s)\n",
    "\n",
    "res_p.take(2)\n",
    "res_p = res_p.map(lambda p: Row(station=int(p[0]), year=int(p[1].split('-')[0]), month=int(p[1].split('-')[1]), day=int(p[1].split('-')[2]), precipitation = float(p[3])))\n",
    "res_p = sc_sql.createDataFrame(res_p)\n",
    "res_p = res_p.filter((res_p['year'] >= 1993) & (res_p['year'] <= 2016))\n",
    "\n",
    "res = res_p.where(res_p['station'].isin(res_s.value))\n",
    "\n",
    "res = res.groupBy('year', 'month', 'station').agg(F.sum('precipitation').alias('precipitation_cum'))\n",
    "res = res.groupBy('year', 'month').agg(F.avg('precipitation_cum').alias('precipitation_avg'))\n",
    "\n",
    "global df\n",
    "\n",
    "df = res.orderBy(['year', 'month'], ascending=False).toPandas()"
   ]
  },
  {
   "cell_type": "code",
   "execution_count": 38,
   "metadata": {},
   "outputs": [
    {
     "data": {
      "text/html": [
       "<div>\n",
       "<style scoped>\n",
       "    .dataframe tbody tr th:only-of-type {\n",
       "        vertical-align: middle;\n",
       "    }\n",
       "\n",
       "    .dataframe tbody tr th {\n",
       "        vertical-align: top;\n",
       "    }\n",
       "\n",
       "    .dataframe thead th {\n",
       "        text-align: right;\n",
       "    }\n",
       "</style>\n",
       "<table border=\"1\" class=\"dataframe\">\n",
       "  <thead>\n",
       "    <tr style=\"text-align: right;\">\n",
       "      <th></th>\n",
       "      <th>year</th>\n",
       "      <th>month</th>\n",
       "      <th>precipitation_avg</th>\n",
       "    </tr>\n",
       "  </thead>\n",
       "  <tbody>\n",
       "    <tr>\n",
       "      <th>0</th>\n",
       "      <td>2016</td>\n",
       "      <td>7</td>\n",
       "      <td>0.0000</td>\n",
       "    </tr>\n",
       "    <tr>\n",
       "      <th>1</th>\n",
       "      <td>2016</td>\n",
       "      <td>6</td>\n",
       "      <td>47.6625</td>\n",
       "    </tr>\n",
       "    <tr>\n",
       "      <th>2</th>\n",
       "      <td>2016</td>\n",
       "      <td>5</td>\n",
       "      <td>29.2500</td>\n",
       "    </tr>\n",
       "    <tr>\n",
       "      <th>3</th>\n",
       "      <td>2016</td>\n",
       "      <td>4</td>\n",
       "      <td>26.9000</td>\n",
       "    </tr>\n",
       "    <tr>\n",
       "      <th>4</th>\n",
       "      <td>2016</td>\n",
       "      <td>3</td>\n",
       "      <td>19.9625</td>\n",
       "    </tr>\n",
       "    <tr>\n",
       "      <th>5</th>\n",
       "      <td>2016</td>\n",
       "      <td>2</td>\n",
       "      <td>21.5625</td>\n",
       "    </tr>\n",
       "    <tr>\n",
       "      <th>6</th>\n",
       "      <td>2016</td>\n",
       "      <td>1</td>\n",
       "      <td>22.3250</td>\n",
       "    </tr>\n",
       "    <tr>\n",
       "      <th>7</th>\n",
       "      <td>2015</td>\n",
       "      <td>12</td>\n",
       "      <td>28.9250</td>\n",
       "    </tr>\n",
       "    <tr>\n",
       "      <th>8</th>\n",
       "      <td>2015</td>\n",
       "      <td>11</td>\n",
       "      <td>63.8875</td>\n",
       "    </tr>\n",
       "    <tr>\n",
       "      <th>9</th>\n",
       "      <td>2015</td>\n",
       "      <td>10</td>\n",
       "      <td>2.2625</td>\n",
       "    </tr>\n",
       "  </tbody>\n",
       "</table>\n",
       "</div>"
      ],
      "text/plain": [
       "   year  month  precipitation_avg\n",
       "0  2016      7             0.0000\n",
       "1  2016      6            47.6625\n",
       "2  2016      5            29.2500\n",
       "3  2016      4            26.9000\n",
       "4  2016      3            19.9625\n",
       "5  2016      2            21.5625\n",
       "6  2016      1            22.3250\n",
       "7  2015     12            28.9250\n",
       "8  2015     11            63.8875\n",
       "9  2015     10             2.2625"
      ]
     },
     "execution_count": 38,
     "metadata": {},
     "output_type": "execute_result"
    }
   ],
   "source": [
    "df.head(10)"
   ]
  },
  {
   "cell_type": "markdown",
   "metadata": {},
   "source": [
    "## Assignment 6"
   ]
  },
  {
   "cell_type": "markdown",
   "metadata": {},
   "source": [
    "Compare the average monthly temperature (find the difference) in the period 1950-2014 for all stations in Östergotland with long-term monthly averages in the period of 1950-1980. Make a plot of your results. \n",
    "\n",
    "HINT: The first step is to find the monthly averages for each station. Then, you can average over all stations to acquire the average temperature for a specific year and month. This RDD/DataFrame can beu sed to compute the long-term average by averaging over all the years in the interval.\n",
    "\n",
    "The out put should contain the following information:\n",
    "\n",
    "Year, month, difference"
   ]
  },
  {
   "cell_type": "code",
   "execution_count": 20,
   "metadata": {},
   "outputs": [
    {
     "name": "stdout",
     "output_type": "stream",
     "text": [
      "CPU times: user 214 ms, sys: 61.9 ms, total: 276 ms\n",
      "Wall time: 6min 52s\n"
     ]
    }
   ],
   "source": [
    "%%time\n",
    "\n",
    "global res_t\n",
    "global res_s\n",
    "\n",
    "res_t = temperature_readings.map(lambda l: l.split(\";\"))\n",
    "res_s = station_oster_readings.map(lambda l: l.split(\";\"))\n",
    "\n",
    "res_s = res_s.map(lambda m: int(m[0])).collect()\n",
    "res_s = sc.broadcast(value=res_s)\n",
    "\n",
    "res_t = res_t.map(lambda p: Row(year=int(p[1].split(\"-\")[0]), month=int(p[1].split(\"-\")[1]), day=int(p[1].split(\"-\")[2]), station=int(p[0]), temp=float(p[3])))\n",
    "res_t = sc_sql.createDataFrame(res_t)\n",
    "res_t = res_t.filter((res_t['year'] >= 1950) & (res_t['year'] <= 2014))\n",
    "res_t = res_t.where(res_t['station'].isin(res_s.value))\n",
    "res_t = res_t.groupBy('year', 'month', 'day', 'station')\n",
    "res_t = res_t.agg(F.max('temp').alias('temp_max'), F.min('temp').alias('temp_min'))\n",
    "\n",
    "res_t = res_t.withColumn('davg', (res_t['temp_max'] + res_t['temp_min'])/2)\n",
    "res_t = res_t.select('year', 'month', 'day', 'station', 'davg')\n",
    "res_t = res_t.groupBy('year', 'month', 'station').agg(F.mean('davg').alias('davg'))\n",
    "res_t = res_t.groupBy('year', 'month').agg(F.mean('davg').alias('davg'))\n",
    "\n",
    "res_t_bigger_range = res_t.filter((res_t['year'] >= 1950) & (res_t['year'] <= 1980))\n",
    "res_t_bigger_range = res_t_bigger_range.groupBy('month').agg(F.mean('davg').alias('average-temperature'))\n",
    "\n",
    "res = res_t_bigger_range.join(res_t, \"month\")\n",
    "res = res.withColumn('temperature-difference', res['average-temperature'] - res['davg'])\n",
    "res = res.select('year', 'month', 'temperature-difference')\n",
    "\n",
    "global df\n",
    "\n",
    "df = res.orderBy(['year', 'month']).toPandas()"
   ]
  },
  {
   "cell_type": "code",
   "execution_count": 21,
   "metadata": {},
   "outputs": [
    {
     "data": {
      "text/html": [
       "<div>\n",
       "<style scoped>\n",
       "    .dataframe tbody tr th:only-of-type {\n",
       "        vertical-align: middle;\n",
       "    }\n",
       "\n",
       "    .dataframe tbody tr th {\n",
       "        vertical-align: top;\n",
       "    }\n",
       "\n",
       "    .dataframe thead th {\n",
       "        text-align: right;\n",
       "    }\n",
       "</style>\n",
       "<table border=\"1\" class=\"dataframe\">\n",
       "  <thead>\n",
       "    <tr style=\"text-align: right;\">\n",
       "      <th></th>\n",
       "      <th>year</th>\n",
       "      <th>month</th>\n",
       "      <th>temperature-difference</th>\n",
       "    </tr>\n",
       "  </thead>\n",
       "  <tbody>\n",
       "    <tr>\n",
       "      <th>0</th>\n",
       "      <td>1950</td>\n",
       "      <td>1</td>\n",
       "      <td>2.004831</td>\n",
       "    </tr>\n",
       "    <tr>\n",
       "      <th>1</th>\n",
       "      <td>1950</td>\n",
       "      <td>2</td>\n",
       "      <td>-2.347990</td>\n",
       "    </tr>\n",
       "    <tr>\n",
       "      <th>2</th>\n",
       "      <td>1950</td>\n",
       "      <td>3</td>\n",
       "      <td>-2.492232</td>\n",
       "    </tr>\n",
       "    <tr>\n",
       "      <th>3</th>\n",
       "      <td>1950</td>\n",
       "      <td>4</td>\n",
       "      <td>-1.600693</td>\n",
       "    </tr>\n",
       "    <tr>\n",
       "      <th>4</th>\n",
       "      <td>1950</td>\n",
       "      <td>5</td>\n",
       "      <td>-0.982352</td>\n",
       "    </tr>\n",
       "    <tr>\n",
       "      <th>5</th>\n",
       "      <td>1950</td>\n",
       "      <td>6</td>\n",
       "      <td>0.216232</td>\n",
       "    </tr>\n",
       "    <tr>\n",
       "      <th>6</th>\n",
       "      <td>1950</td>\n",
       "      <td>7</td>\n",
       "      <td>1.489154</td>\n",
       "    </tr>\n",
       "    <tr>\n",
       "      <th>7</th>\n",
       "      <td>1950</td>\n",
       "      <td>8</td>\n",
       "      <td>-0.241517</td>\n",
       "    </tr>\n",
       "    <tr>\n",
       "      <th>8</th>\n",
       "      <td>1950</td>\n",
       "      <td>9</td>\n",
       "      <td>-0.343179</td>\n",
       "    </tr>\n",
       "    <tr>\n",
       "      <th>9</th>\n",
       "      <td>1950</td>\n",
       "      <td>10</td>\n",
       "      <td>0.459923</td>\n",
       "    </tr>\n",
       "  </tbody>\n",
       "</table>\n",
       "</div>"
      ],
      "text/plain": [
       "   year  month  temperature-difference\n",
       "0  1950      1                2.004831\n",
       "1  1950      2               -2.347990\n",
       "2  1950      3               -2.492232\n",
       "3  1950      4               -1.600693\n",
       "4  1950      5               -0.982352\n",
       "5  1950      6                0.216232\n",
       "6  1950      7                1.489154\n",
       "7  1950      8               -0.241517\n",
       "8  1950      9               -0.343179\n",
       "9  1950     10                0.459923"
      ]
     },
     "execution_count": 21,
     "metadata": {},
     "output_type": "execute_result"
    }
   ],
   "source": [
    "df.head(10)"
   ]
  },
  {
   "cell_type": "code",
   "execution_count": 11,
   "metadata": {},
   "outputs": [],
   "source": [
    "# Difference by Year-Month\n",
    "df['date'] = df['year'].map(str) + \"-\" + df['month'].map(str)\n",
    "df.plot.line(x = 'date', y = 'temperature-difference', figsize=(15,10), title = \"Difference by Year-Month\");"
   ]
  },
  {
   "cell_type": "code",
   "execution_count": 12,
   "metadata": {},
   "outputs": [
    {
     "data": {
      "text/plain": [
       "<matplotlib.axes._subplots.AxesSubplot at 0x7fdaf4952588>"
      ]
     },
     "execution_count": 12,
     "metadata": {},
     "output_type": "execute_result"
    },
    {
     "data": {
      "image/png": "[encoded data removed]",
      "text/plain": [
       "<Figure size 1080x720 with 1 Axes>"
      ]
     },
     "metadata": {
      "needs_background": "light"
     },
     "output_type": "display_data"
    }
   ],
   "source": [
    "# Difference by Year\n",
    "df2 = df.groupby(['year'])['temperature-difference'].mean().to_frame()\n",
    "df2.reset_index(level=0, inplace=True)\n",
    "df2.plot.line(x = 'year', y = 'temperature-difference', figsize=(15,10), title = \"Difference by Year\")"
   ]
  },
  {
   "cell_type": "markdown",
   "metadata": {},
   "source": [
    "**Comment:**  It does not seem like there is a trend across years which makes sense since we don’t expect any temperature changes in the long-term. However, we can observe that there were some years with especially large (e.g. 1990) and especially small temperature differences (e.g. 1985). Hence, the differences may vary noticeably from year to year."
   ]
  },
  {
   "cell_type": "code",
   "execution_count": 13,
   "metadata": {},
   "outputs": [
    {
     "data": {
      "image/png": "[encoded data removed]",
      "text/plain": [
       "<Figure size 1080x720 with 1 Axes>"
      ]
     },
     "metadata": {
      "needs_background": "light"
     },
     "output_type": "display_data"
    }
   ],
   "source": [
    "# Difference by Month\n",
    "df3 = df.groupby(['month'])['temperature-difference'].mean().to_frame()\n",
    "df3.reset_index(level=0, inplace=True)\n",
    "df3.plot.line(x = 'month', y = 'temperature-difference', figsize=(15,10), title = \"Difference by Month\");"
   ]
  },
  {
   "cell_type": "markdown",
   "metadata": {},
   "source": [
    "**Comment:** We can see that the differences in temperature are much larger in the winter months than in the summer months (see “Difference by Month” plot). This makes sense since we computed the difference as: Difference = Östergotland - General. We expect Östergotland to have warmer temperatures in general than more northern parts of Sweden in the Winter period and Östergotland is in the south. Our expectation is fulfilled since the difference is larger in the winter months."
   ]
  },
  {
   "cell_type": "code",
   "execution_count": null,
   "metadata": {},
   "outputs": [],
   "source": [
    "sc.stop()"
   ]
  },
  {
   "cell_type": "code",
   "execution_count": null,
   "metadata": {},
   "outputs": [],
   "source": []
  }
 ],
 "metadata": {
  "kernelspec": {
   "display_name": "Python 3",
   "language": "python",
   "name": "python3"
  },
  "language_info": {
   "codemirror_mode": {
    "name": "ipython",
    "version": 3
   },
   "file_extension": ".py",
   "mimetype": "text/x-python",
   "name": "python",
   "nbconvert_exporter": "python",
   "pygments_lexer": "ipython3",
   "version": "3.7.3"
  }
 },
 "nbformat": 4,
 "nbformat_minor": 2
}
